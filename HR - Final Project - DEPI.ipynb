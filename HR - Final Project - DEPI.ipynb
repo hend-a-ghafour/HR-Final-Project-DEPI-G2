{
 "cells": [
  {
   "cell_type": "markdown",
   "id": "89e05a66-a4c0-4bcd-aa77-5879c6262776",
   "metadata": {},
   "source": [
    "1.  <a href=\"#intro\">Dataset Description</a>\n",
    "2.  <a href=\"#asses\">Data Assessing</a>\n",
    "    - <a href=\"#emp\">Employee.csv</a>\n",
    "    - <a href=\"#edu\">EducationLevel.csv</a>\n",
    "    - <a href=\"#perform\">_PerformanceRating.csv</a>\n",
    "    - <a href=\"#satis\">_SatisfiedLevel.csv</a>\n",
    "    - <a href=\"#rating\">_RatingLevel.csv</a>\n",
    "3.  <a href=\"#clean\">Data Cleaning</a>\n",
    "    - <a href=\"#c_emp\">Employee.csv</a>\n",
    "    - <a href=\"#c_edu\">EducationLevel.csv</a>\n",
    "    - <a href=\"#c_perform\">_PerformanceRating.csv</a>\n",
    "    - <a href=\"#c_satis\">_SatisfiedLevel.csv</a>\n",
    "    - <a href=\"#c_rating\">_RatingLevel.csv</a>"
   ]
  },
  {
   "cell_type": "code",
   "execution_count": null,
   "id": "d197f073-1389-45ba-b863-bbbb1e9e9577",
   "metadata": {},
   "outputs": [],
   "source": []
  },
  {
   "cell_type": "code",
   "execution_count": null,
   "id": "0b51c643-a28e-4375-b825-873f5511dd36",
   "metadata": {},
   "outputs": [],
   "source": []
  },
  {
   "cell_type": "markdown",
   "id": "f61ee182-a941-45e0-94a1-e4f0320bb194",
   "metadata": {},
   "source": [
    "<a id='intro'></a>\n",
    "### Dataset Description:"
   ]
  },
  {
   "cell_type": "markdown",
   "id": "f9d66bf0-ed65-4aa2-aa68-a39fbaa4828c",
   "metadata": {},
   "source": [
    "### Dataset Introduction\n",
    "This dataset is designed to provide comprehensive insights into employee performance and satisfaction within the organization. It consists of five interrelated tables, each serving a specific purpose in analyzing various aspects of employee experience and performance metrics.\n",
    "\n",
    "#### 1. Employee Table ( _Employee.csv_):\n",
    "\n",
    "This foundational table contains detailed information about each employee, including personal attributes such as name, gender, and salary, as well as professional details like position and educational level. This information is critical for understanding the demographic and professional context of the workforce.\n",
    "\n",
    "#### 2. Educational Level Table (_EducationLevel.csv_): \n",
    "This table categorizes employee educational backgrounds into five distinct levels, ranging from \"No Formal Qualifications\" to \"Doctorate.\" It serves as a reference for interpreting the education level recorded in the Employee table, facilitating analysis of how educational attainment correlates with performance and satisfaction.\n",
    "\n",
    "#### 3. Performance Rating Table (_PerformanceRating.csv_): \n",
    "This table captures performance evaluations across several dimensions, including Environment Satisfaction, Job Satisfaction, Relationship Satisfaction, Work-Life Balance, Self Rating, and Manager Rating. Each of these metrics is rated on a scale of 1 to 5, enabling a quantitative assessment of employee performance and satisfaction.\n",
    "\n",
    "#### 4. Satisfied Level Table (_SatisfiedLevel.csv_): \n",
    "This table categorizes employee satisfaction into five distinct levels, ranging from \"Very Dissatisfied\" to \"Very Satisfied.\" It serves as a reference for interpreting the satisfaction ratings recorded in the Performance Rating table.\n",
    "\n",
    "#### 5. Rating Table (_RatingLevel.csv_): \n",
    "Similar to the Satisfied Level Table, this table provides definitions for performance ratings, ranging from \"Unacceptable\" to \"Above and Beyond.\" This allows for a standardized assessment of employee performance based on managerial evaluations.\n",
    "\n",
    "#### ***Integration:***\n",
    "By linking the Performance Rating table with the Satisfied Level and Rating tables, this dataset enables a nuanced analysis of how employee perceptions of their work environment and self-assessments align with managerial evaluations.\n",
    "\n",
    "##### _Overall, this dataset is a valuable resource for understanding employee dynamics, assessing satisfaction levels, and identifying areas for improvement within the organization. Through careful analysis, it can inform strategies aimed at enhancing employee engagement, productivity, and overall workplace satisfaction._"
   ]
  },
  {
   "cell_type": "code",
   "execution_count": null,
   "id": "83d83c76-1602-4479-a0c2-9552e673a4aa",
   "metadata": {},
   "outputs": [],
   "source": []
  },
  {
   "cell_type": "code",
   "execution_count": null,
   "id": "f40c4670-3b0f-43c2-a65e-11fdb5a49e3c",
   "metadata": {},
   "outputs": [],
   "source": []
  },
  {
   "cell_type": "code",
   "execution_count": 490,
   "id": "70eb35cc-e6aa-474d-b8ea-a6613ff7d8ea",
   "metadata": {},
   "outputs": [],
   "source": [
    "# Importing Liberaries:\n",
    "import pandas as pd\n",
    "import numpy as np\n",
    "import matplotlib.pyplot as plt\n",
    "import seaborn as sns\n",
    "import pyodbc\n",
    "from sqlalchemy import create_engine\n"
   ]
  },
  {
   "cell_type": "markdown",
   "id": "7e1bf4b6-b684-4714-b200-0a72c66e4598",
   "metadata": {},
   "source": [
    "<a id='asses'></a>\n",
    "## Data Assessing:\n",
    "### _General Properties:_"
   ]
  },
  {
   "cell_type": "markdown",
   "id": "a7f31a96-934e-46ae-9d51-1d9937bebe22",
   "metadata": {},
   "source": [
    "<a id='emp'></a>\n",
    "#### ***1. Employee Table:***"
   ]
  },
  {
   "cell_type": "code",
   "execution_count": 493,
   "id": "ea7b4a3c-ab10-4e4e-b8d2-e0cf82ad7cd8",
   "metadata": {},
   "outputs": [
    {
     "data": {
      "text/html": [
       "<div>\n",
       "<style scoped>\n",
       "    .dataframe tbody tr th:only-of-type {\n",
       "        vertical-align: middle;\n",
       "    }\n",
       "\n",
       "    .dataframe tbody tr th {\n",
       "        vertical-align: top;\n",
       "    }\n",
       "\n",
       "    .dataframe thead th {\n",
       "        text-align: right;\n",
       "    }\n",
       "</style>\n",
       "<table border=\"1\" class=\"dataframe\">\n",
       "  <thead>\n",
       "    <tr style=\"text-align: right;\">\n",
       "      <th></th>\n",
       "      <th>EmployeeID</th>\n",
       "      <th>FirstName</th>\n",
       "      <th>LastName</th>\n",
       "      <th>Gender</th>\n",
       "      <th>Age</th>\n",
       "      <th>BusinessTravel</th>\n",
       "      <th>Department</th>\n",
       "      <th>DistanceFromHome (KM)</th>\n",
       "      <th>State</th>\n",
       "      <th>Ethnicity</th>\n",
       "      <th>...</th>\n",
       "      <th>MaritalStatus</th>\n",
       "      <th>Salary</th>\n",
       "      <th>StockOptionLevel</th>\n",
       "      <th>OverTime</th>\n",
       "      <th>HireDate</th>\n",
       "      <th>Attrition</th>\n",
       "      <th>YearsAtCompany</th>\n",
       "      <th>YearsInMostRecentRole</th>\n",
       "      <th>YearsSinceLastPromotion</th>\n",
       "      <th>YearsWithCurrManager</th>\n",
       "    </tr>\n",
       "  </thead>\n",
       "  <tbody>\n",
       "    <tr>\n",
       "      <th>0</th>\n",
       "      <td>3012-1A41</td>\n",
       "      <td>Leonelle</td>\n",
       "      <td>Simco</td>\n",
       "      <td>Female</td>\n",
       "      <td>30</td>\n",
       "      <td>Some Travel</td>\n",
       "      <td>Sales</td>\n",
       "      <td>27</td>\n",
       "      <td>IL</td>\n",
       "      <td>White</td>\n",
       "      <td>...</td>\n",
       "      <td>Divorced</td>\n",
       "      <td>102059</td>\n",
       "      <td>1</td>\n",
       "      <td>No</td>\n",
       "      <td>2012-01-03</td>\n",
       "      <td>No</td>\n",
       "      <td>10</td>\n",
       "      <td>4</td>\n",
       "      <td>9</td>\n",
       "      <td>7</td>\n",
       "    </tr>\n",
       "    <tr>\n",
       "      <th>1</th>\n",
       "      <td>CBCB-9C9D</td>\n",
       "      <td>Leonerd</td>\n",
       "      <td>Aland</td>\n",
       "      <td>Male</td>\n",
       "      <td>38</td>\n",
       "      <td>Some Travel</td>\n",
       "      <td>Sales</td>\n",
       "      <td>23</td>\n",
       "      <td>CA</td>\n",
       "      <td>White</td>\n",
       "      <td>...</td>\n",
       "      <td>Single</td>\n",
       "      <td>157718</td>\n",
       "      <td>0</td>\n",
       "      <td>Yes</td>\n",
       "      <td>2012-01-04</td>\n",
       "      <td>No</td>\n",
       "      <td>10</td>\n",
       "      <td>6</td>\n",
       "      <td>10</td>\n",
       "      <td>0</td>\n",
       "    </tr>\n",
       "    <tr>\n",
       "      <th>2</th>\n",
       "      <td>95D7-1CE9</td>\n",
       "      <td>Ahmed</td>\n",
       "      <td>Sykes</td>\n",
       "      <td>Male</td>\n",
       "      <td>43</td>\n",
       "      <td>Some Travel</td>\n",
       "      <td>Human Resources</td>\n",
       "      <td>29</td>\n",
       "      <td>CA</td>\n",
       "      <td>Asian or Asian American</td>\n",
       "      <td>...</td>\n",
       "      <td>Married</td>\n",
       "      <td>309964</td>\n",
       "      <td>1</td>\n",
       "      <td>No</td>\n",
       "      <td>2012-01-04</td>\n",
       "      <td>No</td>\n",
       "      <td>10</td>\n",
       "      <td>6</td>\n",
       "      <td>10</td>\n",
       "      <td>8</td>\n",
       "    </tr>\n",
       "    <tr>\n",
       "      <th>3</th>\n",
       "      <td>47A0-559B</td>\n",
       "      <td>Ermentrude</td>\n",
       "      <td>Berrie</td>\n",
       "      <td>Non-Binary</td>\n",
       "      <td>39</td>\n",
       "      <td>Some Travel</td>\n",
       "      <td>Technology</td>\n",
       "      <td>12</td>\n",
       "      <td>IL</td>\n",
       "      <td>White</td>\n",
       "      <td>...</td>\n",
       "      <td>Married</td>\n",
       "      <td>293132</td>\n",
       "      <td>0</td>\n",
       "      <td>No</td>\n",
       "      <td>2012-01-05</td>\n",
       "      <td>No</td>\n",
       "      <td>10</td>\n",
       "      <td>10</td>\n",
       "      <td>10</td>\n",
       "      <td>0</td>\n",
       "    </tr>\n",
       "    <tr>\n",
       "      <th>4</th>\n",
       "      <td>42CC-040A</td>\n",
       "      <td>Stace</td>\n",
       "      <td>Savege</td>\n",
       "      <td>Female</td>\n",
       "      <td>29</td>\n",
       "      <td>Some Travel</td>\n",
       "      <td>Human Resources</td>\n",
       "      <td>29</td>\n",
       "      <td>CA</td>\n",
       "      <td>White</td>\n",
       "      <td>...</td>\n",
       "      <td>Single</td>\n",
       "      <td>49606</td>\n",
       "      <td>0</td>\n",
       "      <td>No</td>\n",
       "      <td>2012-01-05</td>\n",
       "      <td>Yes</td>\n",
       "      <td>6</td>\n",
       "      <td>1</td>\n",
       "      <td>1</td>\n",
       "      <td>6</td>\n",
       "    </tr>\n",
       "  </tbody>\n",
       "</table>\n",
       "<p>5 rows × 23 columns</p>\n",
       "</div>"
      ],
      "text/plain": [
       "  EmployeeID   FirstName LastName      Gender  Age BusinessTravel  \\\n",
       "0  3012-1A41    Leonelle    Simco      Female   30    Some Travel   \n",
       "1  CBCB-9C9D     Leonerd    Aland        Male   38    Some Travel   \n",
       "2  95D7-1CE9       Ahmed    Sykes        Male   43    Some Travel   \n",
       "3  47A0-559B  Ermentrude   Berrie  Non-Binary   39    Some Travel   \n",
       "4  42CC-040A       Stace   Savege      Female   29    Some Travel   \n",
       "\n",
       "        Department  DistanceFromHome (KM) State                Ethnicity  ...  \\\n",
       "0            Sales                     27    IL                    White  ...   \n",
       "1            Sales                     23    CA                    White  ...   \n",
       "2  Human Resources                     29    CA  Asian or Asian American  ...   \n",
       "3       Technology                     12    IL                    White  ...   \n",
       "4  Human Resources                     29    CA                    White  ...   \n",
       "\n",
       "   MaritalStatus  Salary StockOptionLevel OverTime    HireDate  Attrition  \\\n",
       "0       Divorced  102059                1       No  2012-01-03         No   \n",
       "1         Single  157718                0      Yes  2012-01-04         No   \n",
       "2        Married  309964                1       No  2012-01-04         No   \n",
       "3        Married  293132                0       No  2012-01-05         No   \n",
       "4         Single   49606                0       No  2012-01-05        Yes   \n",
       "\n",
       "  YearsAtCompany YearsInMostRecentRole YearsSinceLastPromotion  \\\n",
       "0             10                     4                       9   \n",
       "1             10                     6                      10   \n",
       "2             10                     6                      10   \n",
       "3             10                    10                      10   \n",
       "4              6                     1                       1   \n",
       "\n",
       "   YearsWithCurrManager  \n",
       "0                     7  \n",
       "1                     0  \n",
       "2                     8  \n",
       "3                     0  \n",
       "4                     6  \n",
       "\n",
       "[5 rows x 23 columns]"
      ]
     },
     "execution_count": 493,
     "metadata": {},
     "output_type": "execute_result"
    }
   ],
   "source": [
    "# Load the Employee Dataset:\n",
    "df_emp= pd.read_csv(\"HR/Employee.csv\")\n",
    "df_emp.head()"
   ]
  },
  {
   "cell_type": "code",
   "execution_count": 494,
   "id": "a948d844-bded-458b-9e1d-ad61ae01acd4",
   "metadata": {},
   "outputs": [
    {
     "name": "stdout",
     "output_type": "stream",
     "text": [
      "<class 'pandas.core.frame.DataFrame'>\n",
      "RangeIndex: 1470 entries, 0 to 1469\n",
      "Data columns (total 23 columns):\n",
      " #   Column                   Non-Null Count  Dtype \n",
      "---  ------                   --------------  ----- \n",
      " 0   EmployeeID               1470 non-null   object\n",
      " 1   FirstName                1470 non-null   object\n",
      " 2   LastName                 1470 non-null   object\n",
      " 3   Gender                   1470 non-null   object\n",
      " 4   Age                      1470 non-null   int64 \n",
      " 5   BusinessTravel           1470 non-null   object\n",
      " 6   Department               1470 non-null   object\n",
      " 7   DistanceFromHome (KM)    1470 non-null   int64 \n",
      " 8   State                    1470 non-null   object\n",
      " 9   Ethnicity                1470 non-null   object\n",
      " 10  Education                1470 non-null   int64 \n",
      " 11  EducationField           1470 non-null   object\n",
      " 12  JobRole                  1470 non-null   object\n",
      " 13  MaritalStatus            1470 non-null   object\n",
      " 14  Salary                   1470 non-null   int64 \n",
      " 15  StockOptionLevel         1470 non-null   int64 \n",
      " 16  OverTime                 1470 non-null   object\n",
      " 17  HireDate                 1470 non-null   object\n",
      " 18  Attrition                1470 non-null   object\n",
      " 19  YearsAtCompany           1470 non-null   int64 \n",
      " 20  YearsInMostRecentRole    1470 non-null   int64 \n",
      " 21  YearsSinceLastPromotion  1470 non-null   int64 \n",
      " 22  YearsWithCurrManager     1470 non-null   int64 \n",
      "dtypes: int64(9), object(14)\n",
      "memory usage: 264.3+ KB\n"
     ]
    }
   ],
   "source": [
    "df_emp.info()"
   ]
  },
  {
   "cell_type": "code",
   "execution_count": 495,
   "id": "944f09c3-e032-4bb0-9b8e-67ea48959a43",
   "metadata": {},
   "outputs": [
    {
     "name": "stdout",
     "output_type": "stream",
     "text": [
      "The table has a shape of: (1470, 23)\n"
     ]
    }
   ],
   "source": [
    "print('The table has a shape of:',df_emp.shape)"
   ]
  },
  {
   "cell_type": "code",
   "execution_count": 496,
   "id": "29796c7e-2fbd-4199-a4eb-066be4074bbf",
   "metadata": {},
   "outputs": [
    {
     "name": "stdout",
     "output_type": "stream",
     "text": [
      "No NULL values in this table\n"
     ]
    }
   ],
   "source": [
    "if df_emp.isna().sum().sum()== 0:\n",
    "    print ('No NULL values in this table')\n",
    "else:\n",
    "    print('Total number of Null Values is: ',df_emp.isna().sum().sum())"
   ]
  },
  {
   "cell_type": "code",
   "execution_count": 497,
   "id": "c739ab44-bf2c-4e88-a3d4-b9f13e83481a",
   "metadata": {},
   "outputs": [
    {
     "name": "stdout",
     "output_type": "stream",
     "text": [
      "No DUPLICATED values in this table\n"
     ]
    }
   ],
   "source": [
    "if df_emp.duplicated().sum()== 0:\n",
    "    print ('No DUPLICATED values in this table')\n",
    "else:\n",
    "    print('Total number of Duplicated Values is: ',df_emp.duplicated().sum())"
   ]
  },
  {
   "cell_type": "code",
   "execution_count": 498,
   "id": "2e660dfc-76a3-43cd-965c-7898250e9480",
   "metadata": {},
   "outputs": [
    {
     "name": "stdout",
     "output_type": "stream",
     "text": [
      "The number of UNIQUE values in this table:\n",
      "\n",
      " EmployeeID                 1470\n",
      "FirstName                  1334\n",
      "LastName                   1441\n",
      "Gender                        4\n",
      "Age                          34\n",
      "BusinessTravel                3\n",
      "Department                    3\n",
      "DistanceFromHome (KM)        45\n",
      "State                         3\n",
      "Ethnicity                     7\n",
      "Education                     5\n",
      "EducationField                9\n",
      "JobRole                      13\n",
      "MaritalStatus                 3\n",
      "Salary                     1455\n",
      "StockOptionLevel              4\n",
      "OverTime                      2\n",
      "HireDate                   1192\n",
      "Attrition                     2\n",
      "YearsAtCompany               11\n",
      "YearsInMostRecentRole        11\n",
      "YearsSinceLastPromotion      11\n",
      "YearsWithCurrManager         11\n",
      "dtype: int64\n"
     ]
    }
   ],
   "source": [
    "print('The number of UNIQUE values in this table:\\n\\n',df_emp.nunique())"
   ]
  },
  {
   "cell_type": "code",
   "execution_count": 499,
   "id": "6c14b94b-3f99-42bf-993e-9bbc260a4bbc",
   "metadata": {},
   "outputs": [
    {
     "name": "stdout",
     "output_type": "stream",
     "text": [
      "\"Gender\" Categories:\n",
      " ['Female' 'Male' 'Non-Binary' 'Prefer Not To Say']\n",
      "\n",
      "\"BusinessTravel\" Categories:\n",
      " ['Some Travel' 'No Travel ' 'Frequent Traveller']\n",
      "\n",
      "\"Department\" Categories:\n",
      " ['Sales' 'Human Resources' 'Technology']\n",
      "\n",
      "\"State\" Categories:\n",
      " ['IL' 'CA' 'NY']\n",
      "\n",
      "\"Ethnicity\" Categories:\n",
      " ['White' 'Asian or Asian American' 'Mixed or multiple ethnic groups'\n",
      " 'Black or African American' 'Native Hawaiian ' 'Other '\n",
      " 'American Indian or Alaska Native']\n",
      "\n",
      "\"Education\" Categories:\n",
      " [5 4 3 2 1]\n",
      "\n",
      "\"EducationField\" Categories:\n",
      " ['Marketing' 'Marketing ' 'Computer Science' 'Technical Degree'\n",
      " 'Information Systems' 'Other' 'Economics' 'Human Resources'\n",
      " 'Business Studies']\n",
      "\n",
      "\"JobRole\" Categories:\n",
      " ['Sales Executive' 'HR Business Partner' 'Engineering Manager' 'Recruiter'\n",
      " 'Data Scientist' 'Machine Learning Engineer' 'Manager'\n",
      " 'Software Engineer' 'Senior Software Engineer' 'Sales Representative'\n",
      " 'Analytics Manager' 'HR Executive' 'HR Manager']\n",
      "\n",
      "\"MaritalStatus\" Categories:\n",
      " ['Divorced' 'Single' 'Married']\n",
      "\n",
      "\"StockOptionLevel\" Categories:\n",
      " [1 0 2 3]\n",
      "\n",
      "\"OverTime\" Categories:\n",
      " ['No' 'Yes']\n",
      "\n",
      "\"Attrition\" Categories:\n",
      " ['No' 'Yes']\n"
     ]
    }
   ],
   "source": [
    "print('\"Gender\" Categories:\\n',df_emp.Gender.unique())\n",
    "print('\\n\"BusinessTravel\" Categories:\\n',df_emp.BusinessTravel.unique())\n",
    "print('\\n\"Department\" Categories:\\n',df_emp.Department.unique())\n",
    "print('\\n\"State\" Categories:\\n',df_emp.State.unique())\n",
    "print('\\n\"Ethnicity\" Categories:\\n',df_emp.Ethnicity.unique())\n",
    "print('\\n\"Education\" Categories:\\n',df_emp.Education.unique())\n",
    "print('\\n\"EducationField\" Categories:\\n',df_emp.EducationField.unique())\n",
    "print('\\n\"JobRole\" Categories:\\n',df_emp.JobRole.unique())\n",
    "print('\\n\"MaritalStatus\" Categories:\\n',df_emp.MaritalStatus.unique())\n",
    "print('\\n\"StockOptionLevel\" Categories:\\n',df_emp.StockOptionLevel.unique())\n",
    "print('\\n\"OverTime\" Categories:\\n',df_emp.OverTime.unique())\n",
    "print('\\n\"Attrition\" Categories:\\n',df_emp.Attrition.unique())"
   ]
  },
  {
   "cell_type": "code",
   "execution_count": 500,
   "id": "8701c33b-328a-48e5-bee1-64f7b989d6ce",
   "metadata": {},
   "outputs": [
    {
     "name": "stdout",
     "output_type": "stream",
     "text": [
      "Employee Ages are ranging from 18 to 51 Years\n"
     ]
    }
   ],
   "source": [
    "print(f'Employee Ages are ranging from {df_emp.Age.min()} to {df_emp.Age.max()} Years')"
   ]
  },
  {
   "cell_type": "code",
   "execution_count": 501,
   "id": "0a00186d-7464-42b1-a2d9-52443416b3c7",
   "metadata": {},
   "outputs": [
    {
     "name": "stdout",
     "output_type": "stream",
     "text": [
      "Home-Work Distance is ranging from 1 to 45 KM\n"
     ]
    }
   ],
   "source": [
    "print('Home-Work Distance is ranging from {} to {} KM'.format(df_emp['DistanceFromHome (KM)'].min(),df_emp['DistanceFromHome (KM)'].max()))"
   ]
  },
  {
   "cell_type": "code",
   "execution_count": 502,
   "id": "27aaa00c-bda4-4af0-95bc-863b4682e127",
   "metadata": {},
   "outputs": [
    {
     "name": "stdout",
     "output_type": "stream",
     "text": [
      "Salary is in the range of 20387 to 547204 USD/Year\n"
     ]
    }
   ],
   "source": [
    "print(f'Salary is in the range of {df_emp.Salary.min()} to {df_emp.Salary.max()} USD/Year')"
   ]
  },
  {
   "cell_type": "code",
   "execution_count": 503,
   "id": "b048184d-85c8-4a9a-ae33-3cfa8726c0d3",
   "metadata": {},
   "outputs": [
    {
     "name": "stdout",
     "output_type": "stream",
     "text": [
      "The recorded Employee Hire dates are starting from 2012-01-03 to 2022-12-31\n"
     ]
    }
   ],
   "source": [
    "print(f'The recorded Employee Hire dates are starting from {df_emp.HireDate.min()} to {df_emp.HireDate.max()}')"
   ]
  },
  {
   "cell_type": "code",
   "execution_count": 504,
   "id": "0b3cdcb2-0360-4079-91bf-63cbe26cae1c",
   "metadata": {},
   "outputs": [
    {
     "name": "stdout",
     "output_type": "stream",
     "text": [
      "The Working Span of each employee is ranging from less than a year to 10 Years\n"
     ]
    }
   ],
   "source": [
    "if df_emp.YearsAtCompany.min()== 0:\n",
    "    print(f'The Working Span of each employee is ranging from less than a year to {df_emp.YearsAtCompany.max()} Years')\n",
    "else:\n",
    "    print(f'The Working Span of each employee is ranging from {df_emp.YearsAtCompany.min()} to {df_emp.YearsAtCompany.max()} Years')"
   ]
  },
  {
   "cell_type": "code",
   "execution_count": 505,
   "id": "817ad22d-bdd1-4e37-abb6-24dbfce03bc1",
   "metadata": {},
   "outputs": [
    {
     "name": "stdout",
     "output_type": "stream",
     "text": [
      "The Time Spent in the current position for each employee is ranging from less than a year to 10 Years\n"
     ]
    }
   ],
   "source": [
    "if df_emp.YearsInMostRecentRole.min()== 0:\n",
    "    print(f'The Time Spent in the current position for each employee is ranging from less than a year to {df_emp.YearsInMostRecentRole.max()} Years')\n",
    "else:\n",
    "    print(f'The Time Spent in the current position for each employee is ranging from {df_emp.YearsInMostRecentRole.min()} to {df_emp.YearsInMostRecentRole.max()} Years')"
   ]
  },
  {
   "cell_type": "code",
   "execution_count": 506,
   "id": "6cc52ddb-09dc-40bc-803f-ec73cc4c52ff",
   "metadata": {},
   "outputs": [
    {
     "name": "stdout",
     "output_type": "stream",
     "text": [
      "The Promotion Gap for each employee is ranging from less than a year to 10 Years\n"
     ]
    }
   ],
   "source": [
    "if df_emp.YearsSinceLastPromotion.min()== 0:\n",
    "    print(f'The Promotion Gap for each employee is ranging from less than a year to {df_emp.YearsSinceLastPromotion.max()} Years')\n",
    "else:\n",
    "    print(f'The Promotion Gap for each employee is ranging from {df_emp.YearsSinceLastPromotion.min()} to {df_emp.YearsSinceLastPromotion.max()} Years')"
   ]
  },
  {
   "cell_type": "code",
   "execution_count": 507,
   "id": "fc0f2c48-fbed-4573-b882-3f5bf2dc894d",
   "metadata": {},
   "outputs": [
    {
     "name": "stdout",
     "output_type": "stream",
     "text": [
      "The Working Span of each employee under the current manager is ranging from less than a year to 10 Years\n"
     ]
    }
   ],
   "source": [
    "if df_emp.YearsWithCurrManager.min()== 0:\n",
    "    print(f'The Working Span of each employee under the current manager is ranging from less than a year to {df_emp.YearsWithCurrManager.max()} Years')\n",
    "else:\n",
    "    print(f'The Working Span of each employee under the current manager is ranging from {df_emp.YearsWithCurrManager.min()} to {df_emp.YearsWithCurrManager.max()} Years')"
   ]
  },
  {
   "cell_type": "markdown",
   "id": "3d2cf6b3-70e4-4dbd-8823-3d5305118637",
   "metadata": {},
   "source": [
    "<a id='edu'></a>\n",
    "#### ***2. Educational Level Table:***"
   ]
  },
  {
   "cell_type": "code",
   "execution_count": 509,
   "id": "bd0fa237-cd5c-4d21-85d4-0adec44b3b1b",
   "metadata": {},
   "outputs": [
    {
     "data": {
      "text/html": [
       "<div>\n",
       "<style scoped>\n",
       "    .dataframe tbody tr th:only-of-type {\n",
       "        vertical-align: middle;\n",
       "    }\n",
       "\n",
       "    .dataframe tbody tr th {\n",
       "        vertical-align: top;\n",
       "    }\n",
       "\n",
       "    .dataframe thead th {\n",
       "        text-align: right;\n",
       "    }\n",
       "</style>\n",
       "<table border=\"1\" class=\"dataframe\">\n",
       "  <thead>\n",
       "    <tr style=\"text-align: right;\">\n",
       "      <th></th>\n",
       "      <th>EducationLevelID</th>\n",
       "      <th>EducationLevel</th>\n",
       "    </tr>\n",
       "  </thead>\n",
       "  <tbody>\n",
       "    <tr>\n",
       "      <th>0</th>\n",
       "      <td>1</td>\n",
       "      <td>No Formal Qualifications</td>\n",
       "    </tr>\n",
       "    <tr>\n",
       "      <th>1</th>\n",
       "      <td>2</td>\n",
       "      <td>High School</td>\n",
       "    </tr>\n",
       "    <tr>\n",
       "      <th>2</th>\n",
       "      <td>3</td>\n",
       "      <td>Bachelors</td>\n",
       "    </tr>\n",
       "    <tr>\n",
       "      <th>3</th>\n",
       "      <td>4</td>\n",
       "      <td>Masters</td>\n",
       "    </tr>\n",
       "    <tr>\n",
       "      <th>4</th>\n",
       "      <td>5</td>\n",
       "      <td>Doctorate</td>\n",
       "    </tr>\n",
       "  </tbody>\n",
       "</table>\n",
       "</div>"
      ],
      "text/plain": [
       "   EducationLevelID            EducationLevel\n",
       "0                 1  No Formal Qualifications\n",
       "1                 2              High School \n",
       "2                 3                Bachelors \n",
       "3                 4                  Masters \n",
       "4                 5                 Doctorate"
      ]
     },
     "execution_count": 509,
     "metadata": {},
     "output_type": "execute_result"
    }
   ],
   "source": [
    "df_edu= pd.read_csv(\"HR/EducationLevel.csv\")\n",
    "df_edu.head()"
   ]
  },
  {
   "cell_type": "code",
   "execution_count": 510,
   "id": "bdd45c96-8692-4def-a025-ac6524c0fa3e",
   "metadata": {},
   "outputs": [
    {
     "name": "stdout",
     "output_type": "stream",
     "text": [
      "<class 'pandas.core.frame.DataFrame'>\n",
      "RangeIndex: 5 entries, 0 to 4\n",
      "Data columns (total 2 columns):\n",
      " #   Column            Non-Null Count  Dtype \n",
      "---  ------            --------------  ----- \n",
      " 0   EducationLevelID  5 non-null      int64 \n",
      " 1   EducationLevel    5 non-null      object\n",
      "dtypes: int64(1), object(1)\n",
      "memory usage: 212.0+ bytes\n"
     ]
    }
   ],
   "source": [
    "df_edu.info()"
   ]
  },
  {
   "cell_type": "code",
   "execution_count": 511,
   "id": "8a421ec5-9af1-487c-bf64-5c0909946c04",
   "metadata": {},
   "outputs": [
    {
     "name": "stdout",
     "output_type": "stream",
     "text": [
      "The table has a shape of: (5, 2)\n"
     ]
    }
   ],
   "source": [
    "print('The table has a shape of:',df_edu.shape)"
   ]
  },
  {
   "cell_type": "code",
   "execution_count": 512,
   "id": "b53a2495-06d7-4093-831b-041565537d45",
   "metadata": {},
   "outputs": [
    {
     "name": "stdout",
     "output_type": "stream",
     "text": [
      "No NULL values in this table\n"
     ]
    }
   ],
   "source": [
    "if df_edu.isna().sum().sum()== 0:\n",
    "    print ('No NULL values in this table')\n",
    "else:\n",
    "    print('Total number of Null Values is: ',df_edu.isna().sum().sum())\n"
   ]
  },
  {
   "cell_type": "code",
   "execution_count": 513,
   "id": "fc7df5ae-10e9-4485-bca5-03e4c31a464c",
   "metadata": {},
   "outputs": [
    {
     "name": "stdout",
     "output_type": "stream",
     "text": [
      "No DUPLICATED values in this table\n"
     ]
    }
   ],
   "source": [
    "if df_edu.duplicated().sum()== 0:\n",
    "    print ('No DUPLICATED values in this table')\n",
    "else:\n",
    "    print('Total number of Duplicated Values is: ',df.duplicated().sum())"
   ]
  },
  {
   "cell_type": "code",
   "execution_count": 514,
   "id": "1dac46b6-10f8-43c0-b8e5-1b61f313ea0b",
   "metadata": {},
   "outputs": [
    {
     "name": "stdout",
     "output_type": "stream",
     "text": [
      "The number of UNIQUE values in this table:\n",
      "\n",
      " EducationLevelID    5\n",
      "EducationLevel      5\n",
      "dtype: int64\n"
     ]
    }
   ],
   "source": [
    "print('The number of UNIQUE values in this table:\\n\\n',df_edu.nunique())"
   ]
  },
  {
   "cell_type": "code",
   "execution_count": 515,
   "id": "99cf61ca-4617-491e-8783-5c26aa799424",
   "metadata": {},
   "outputs": [
    {
     "name": "stdout",
     "output_type": "stream",
     "text": [
      "\"EducationLevelID\" Categories:\n",
      " [1 2 3 4 5]\n",
      "\n",
      "\"EducationLevel\" Categories:\n",
      " ['No Formal Qualifications' 'High School ' 'Bachelors ' 'Masters '\n",
      " 'Doctorate']\n"
     ]
    }
   ],
   "source": [
    "print('\"EducationLevelID\" Categories:\\n',df_edu.EducationLevelID.unique())\n",
    "print('\\n\"EducationLevel\" Categories:\\n',df_edu.EducationLevel.unique())"
   ]
  },
  {
   "cell_type": "markdown",
   "id": "a6c4cd5c-7745-4c79-93d5-83ebb5479d47",
   "metadata": {},
   "source": [
    "<a id='perform'></a>\n",
    "#### ***3. Performance Rating Table:***"
   ]
  },
  {
   "cell_type": "code",
   "execution_count": 517,
   "id": "f12478b2-6ccd-461d-b189-696eea3135f0",
   "metadata": {},
   "outputs": [
    {
     "data": {
      "text/html": [
       "<div>\n",
       "<style scoped>\n",
       "    .dataframe tbody tr th:only-of-type {\n",
       "        vertical-align: middle;\n",
       "    }\n",
       "\n",
       "    .dataframe tbody tr th {\n",
       "        vertical-align: top;\n",
       "    }\n",
       "\n",
       "    .dataframe thead th {\n",
       "        text-align: right;\n",
       "    }\n",
       "</style>\n",
       "<table border=\"1\" class=\"dataframe\">\n",
       "  <thead>\n",
       "    <tr style=\"text-align: right;\">\n",
       "      <th></th>\n",
       "      <th>PerformanceID</th>\n",
       "      <th>EmployeeID</th>\n",
       "      <th>ReviewDate</th>\n",
       "      <th>EnvironmentSatisfaction</th>\n",
       "      <th>JobSatisfaction</th>\n",
       "      <th>RelationshipSatisfaction</th>\n",
       "      <th>TrainingOpportunitiesWithinYear</th>\n",
       "      <th>TrainingOpportunitiesTaken</th>\n",
       "      <th>WorkLifeBalance</th>\n",
       "      <th>SelfRating</th>\n",
       "      <th>ManagerRating</th>\n",
       "    </tr>\n",
       "  </thead>\n",
       "  <tbody>\n",
       "    <tr>\n",
       "      <th>0</th>\n",
       "      <td>PR01</td>\n",
       "      <td>79F7-78EC</td>\n",
       "      <td>1/2/2013</td>\n",
       "      <td>5</td>\n",
       "      <td>4</td>\n",
       "      <td>5</td>\n",
       "      <td>1</td>\n",
       "      <td>0</td>\n",
       "      <td>4</td>\n",
       "      <td>4</td>\n",
       "      <td>4</td>\n",
       "    </tr>\n",
       "    <tr>\n",
       "      <th>1</th>\n",
       "      <td>PR02</td>\n",
       "      <td>B61E-0F26</td>\n",
       "      <td>1/3/2013</td>\n",
       "      <td>5</td>\n",
       "      <td>4</td>\n",
       "      <td>4</td>\n",
       "      <td>1</td>\n",
       "      <td>3</td>\n",
       "      <td>4</td>\n",
       "      <td>4</td>\n",
       "      <td>3</td>\n",
       "    </tr>\n",
       "    <tr>\n",
       "      <th>2</th>\n",
       "      <td>PR03</td>\n",
       "      <td>F5E3-48BB</td>\n",
       "      <td>1/3/2013</td>\n",
       "      <td>3</td>\n",
       "      <td>4</td>\n",
       "      <td>5</td>\n",
       "      <td>3</td>\n",
       "      <td>2</td>\n",
       "      <td>3</td>\n",
       "      <td>5</td>\n",
       "      <td>4</td>\n",
       "    </tr>\n",
       "    <tr>\n",
       "      <th>3</th>\n",
       "      <td>PR04</td>\n",
       "      <td>0678-748A</td>\n",
       "      <td>1/4/2013</td>\n",
       "      <td>5</td>\n",
       "      <td>3</td>\n",
       "      <td>2</td>\n",
       "      <td>2</td>\n",
       "      <td>0</td>\n",
       "      <td>2</td>\n",
       "      <td>3</td>\n",
       "      <td>2</td>\n",
       "    </tr>\n",
       "    <tr>\n",
       "      <th>4</th>\n",
       "      <td>PR05</td>\n",
       "      <td>541F-3E19</td>\n",
       "      <td>1/4/2013</td>\n",
       "      <td>5</td>\n",
       "      <td>2</td>\n",
       "      <td>3</td>\n",
       "      <td>1</td>\n",
       "      <td>0</td>\n",
       "      <td>4</td>\n",
       "      <td>4</td>\n",
       "      <td>3</td>\n",
       "    </tr>\n",
       "  </tbody>\n",
       "</table>\n",
       "</div>"
      ],
      "text/plain": [
       "  PerformanceID EmployeeID ReviewDate  EnvironmentSatisfaction  \\\n",
       "0          PR01  79F7-78EC   1/2/2013                        5   \n",
       "1          PR02  B61E-0F26   1/3/2013                        5   \n",
       "2          PR03  F5E3-48BB   1/3/2013                        3   \n",
       "3          PR04  0678-748A   1/4/2013                        5   \n",
       "4          PR05  541F-3E19   1/4/2013                        5   \n",
       "\n",
       "   JobSatisfaction  RelationshipSatisfaction  TrainingOpportunitiesWithinYear  \\\n",
       "0                4                         5                                1   \n",
       "1                4                         4                                1   \n",
       "2                4                         5                                3   \n",
       "3                3                         2                                2   \n",
       "4                2                         3                                1   \n",
       "\n",
       "   TrainingOpportunitiesTaken  WorkLifeBalance  SelfRating  ManagerRating  \n",
       "0                           0                4           4              4  \n",
       "1                           3                4           4              3  \n",
       "2                           2                3           5              4  \n",
       "3                           0                2           3              2  \n",
       "4                           0                4           4              3  "
      ]
     },
     "execution_count": 517,
     "metadata": {},
     "output_type": "execute_result"
    }
   ],
   "source": [
    "df_performance= pd.read_csv(\"HR/PerformanceRating.csv\")\n",
    "df_performance.head()"
   ]
  },
  {
   "cell_type": "code",
   "execution_count": 518,
   "id": "e230400f-2547-4b67-a4de-351ad21a3a8c",
   "metadata": {},
   "outputs": [
    {
     "name": "stdout",
     "output_type": "stream",
     "text": [
      "<class 'pandas.core.frame.DataFrame'>\n",
      "RangeIndex: 6709 entries, 0 to 6708\n",
      "Data columns (total 11 columns):\n",
      " #   Column                           Non-Null Count  Dtype \n",
      "---  ------                           --------------  ----- \n",
      " 0   PerformanceID                    6709 non-null   object\n",
      " 1   EmployeeID                       6709 non-null   object\n",
      " 2   ReviewDate                       6709 non-null   object\n",
      " 3   EnvironmentSatisfaction          6709 non-null   int64 \n",
      " 4   JobSatisfaction                  6709 non-null   int64 \n",
      " 5   RelationshipSatisfaction         6709 non-null   int64 \n",
      " 6   TrainingOpportunitiesWithinYear  6709 non-null   int64 \n",
      " 7   TrainingOpportunitiesTaken       6709 non-null   int64 \n",
      " 8   WorkLifeBalance                  6709 non-null   int64 \n",
      " 9   SelfRating                       6709 non-null   int64 \n",
      " 10  ManagerRating                    6709 non-null   int64 \n",
      "dtypes: int64(8), object(3)\n",
      "memory usage: 576.7+ KB\n"
     ]
    }
   ],
   "source": [
    "df_performance.info()"
   ]
  },
  {
   "cell_type": "code",
   "execution_count": 519,
   "id": "e175b50f-37fc-410b-8a6c-7df5432bc9a3",
   "metadata": {},
   "outputs": [
    {
     "name": "stdout",
     "output_type": "stream",
     "text": [
      "The table has a shape of: (6709, 11)\n"
     ]
    }
   ],
   "source": [
    "print('The table has a shape of:',df_performance.shape)"
   ]
  },
  {
   "cell_type": "code",
   "execution_count": 520,
   "id": "676ea6eb-54e4-418e-8968-0af0469bd636",
   "metadata": {},
   "outputs": [
    {
     "name": "stdout",
     "output_type": "stream",
     "text": [
      "No NULL values in this table\n"
     ]
    }
   ],
   "source": [
    "if df_performance.isna().sum().sum()== 0:\n",
    "    print ('No NULL values in this table')\n",
    "else:\n",
    "    print('Total number of Null Values is: ',df_performance.isna().sum().sum())\n"
   ]
  },
  {
   "cell_type": "code",
   "execution_count": 521,
   "id": "3b80f0d1-ae99-482d-b176-71f6c78c2ad9",
   "metadata": {},
   "outputs": [
    {
     "name": "stdout",
     "output_type": "stream",
     "text": [
      "No DUPLICATED values in this table\n"
     ]
    }
   ],
   "source": [
    "if df_performance.duplicated().sum()== 0:\n",
    "    print ('No DUPLICATED values in this table')\n",
    "else:\n",
    "    print('Total number of Duplicated Values is: ',df_performance.duplicated().sum())\n"
   ]
  },
  {
   "cell_type": "code",
   "execution_count": 522,
   "id": "96a1eacb-fa44-4b57-a0e3-6b8c66016887",
   "metadata": {},
   "outputs": [
    {
     "name": "stdout",
     "output_type": "stream",
     "text": [
      "The number of UNIQUE values in this table:\n",
      "\n",
      " PerformanceID                      6709\n",
      "EmployeeID                         1280\n",
      "ReviewDate                         2771\n",
      "EnvironmentSatisfaction               5\n",
      "JobSatisfaction                       5\n",
      "RelationshipSatisfaction              5\n",
      "TrainingOpportunitiesWithinYear       3\n",
      "TrainingOpportunitiesTaken            4\n",
      "WorkLifeBalance                       5\n",
      "SelfRating                            3\n",
      "ManagerRating                         4\n",
      "dtype: int64\n"
     ]
    }
   ],
   "source": [
    "print('The number of UNIQUE values in this table:\\n\\n',df_performance.nunique())"
   ]
  },
  {
   "cell_type": "code",
   "execution_count": 523,
   "id": "8fc91485-a5b6-4653-8a4e-bb0e41d65c78",
   "metadata": {},
   "outputs": [
    {
     "data": {
      "text/plain": [
       "'1/1/2014'"
      ]
     },
     "execution_count": 523,
     "metadata": {},
     "output_type": "execute_result"
    }
   ],
   "source": [
    "df_performance.ReviewDate.min()"
   ]
  },
  {
   "cell_type": "code",
   "execution_count": 524,
   "id": "37ef03d1-3744-4b29-83a3-726014dda594",
   "metadata": {},
   "outputs": [
    {
     "data": {
      "text/plain": [
       "'9/9/2019'"
      ]
     },
     "execution_count": 524,
     "metadata": {},
     "output_type": "execute_result"
    }
   ],
   "source": [
    "df_performance.ReviewDate.max()"
   ]
  },
  {
   "cell_type": "code",
   "execution_count": 221,
   "id": "828e63b5-0e2a-4373-b06f-a4ffa37cbda2",
   "metadata": {},
   "outputs": [
    {
     "data": {
      "text/html": [
       "<div>\n",
       "<style scoped>\n",
       "    .dataframe tbody tr th:only-of-type {\n",
       "        vertical-align: middle;\n",
       "    }\n",
       "\n",
       "    .dataframe tbody tr th {\n",
       "        vertical-align: top;\n",
       "    }\n",
       "\n",
       "    .dataframe thead th {\n",
       "        text-align: right;\n",
       "    }\n",
       "</style>\n",
       "<table border=\"1\" class=\"dataframe\">\n",
       "  <thead>\n",
       "    <tr style=\"text-align: right;\">\n",
       "      <th></th>\n",
       "      <th>PerformanceID</th>\n",
       "      <th>EmployeeID</th>\n",
       "      <th>ReviewDate</th>\n",
       "      <th>EnvironmentSatisfaction</th>\n",
       "      <th>JobSatisfaction</th>\n",
       "      <th>RelationshipSatisfaction</th>\n",
       "      <th>TrainingOpportunitiesWithinYear</th>\n",
       "      <th>TrainingOpportunitiesTaken</th>\n",
       "      <th>WorkLifeBalance</th>\n",
       "      <th>SelfRating</th>\n",
       "      <th>ManagerRating</th>\n",
       "    </tr>\n",
       "  </thead>\n",
       "  <tbody>\n",
       "    <tr>\n",
       "      <th>0</th>\n",
       "      <td>PR01</td>\n",
       "      <td>79F7-78EC</td>\n",
       "      <td>1/2/2013</td>\n",
       "      <td>5</td>\n",
       "      <td>4</td>\n",
       "      <td>5</td>\n",
       "      <td>1</td>\n",
       "      <td>0</td>\n",
       "      <td>4</td>\n",
       "      <td>4</td>\n",
       "      <td>4</td>\n",
       "    </tr>\n",
       "    <tr>\n",
       "      <th>1</th>\n",
       "      <td>PR02</td>\n",
       "      <td>B61E-0F26</td>\n",
       "      <td>1/3/2013</td>\n",
       "      <td>5</td>\n",
       "      <td>4</td>\n",
       "      <td>4</td>\n",
       "      <td>1</td>\n",
       "      <td>3</td>\n",
       "      <td>4</td>\n",
       "      <td>4</td>\n",
       "      <td>3</td>\n",
       "    </tr>\n",
       "    <tr>\n",
       "      <th>2</th>\n",
       "      <td>PR03</td>\n",
       "      <td>F5E3-48BB</td>\n",
       "      <td>1/3/2013</td>\n",
       "      <td>3</td>\n",
       "      <td>4</td>\n",
       "      <td>5</td>\n",
       "      <td>3</td>\n",
       "      <td>2</td>\n",
       "      <td>3</td>\n",
       "      <td>5</td>\n",
       "      <td>4</td>\n",
       "    </tr>\n",
       "    <tr>\n",
       "      <th>3</th>\n",
       "      <td>PR04</td>\n",
       "      <td>0678-748A</td>\n",
       "      <td>1/4/2013</td>\n",
       "      <td>5</td>\n",
       "      <td>3</td>\n",
       "      <td>2</td>\n",
       "      <td>2</td>\n",
       "      <td>0</td>\n",
       "      <td>2</td>\n",
       "      <td>3</td>\n",
       "      <td>2</td>\n",
       "    </tr>\n",
       "    <tr>\n",
       "      <th>4</th>\n",
       "      <td>PR05</td>\n",
       "      <td>541F-3E19</td>\n",
       "      <td>1/4/2013</td>\n",
       "      <td>5</td>\n",
       "      <td>2</td>\n",
       "      <td>3</td>\n",
       "      <td>1</td>\n",
       "      <td>0</td>\n",
       "      <td>4</td>\n",
       "      <td>4</td>\n",
       "      <td>3</td>\n",
       "    </tr>\n",
       "  </tbody>\n",
       "</table>\n",
       "</div>"
      ],
      "text/plain": [
       "  PerformanceID EmployeeID ReviewDate  EnvironmentSatisfaction  \\\n",
       "0          PR01  79F7-78EC   1/2/2013                        5   \n",
       "1          PR02  B61E-0F26   1/3/2013                        5   \n",
       "2          PR03  F5E3-48BB   1/3/2013                        3   \n",
       "3          PR04  0678-748A   1/4/2013                        5   \n",
       "4          PR05  541F-3E19   1/4/2013                        5   \n",
       "\n",
       "   JobSatisfaction  RelationshipSatisfaction  TrainingOpportunitiesWithinYear  \\\n",
       "0                4                         5                                1   \n",
       "1                4                         4                                1   \n",
       "2                4                         5                                3   \n",
       "3                3                         2                                2   \n",
       "4                2                         3                                1   \n",
       "\n",
       "   TrainingOpportunitiesTaken  WorkLifeBalance  SelfRating  ManagerRating  \n",
       "0                           0                4           4              4  \n",
       "1                           3                4           4              3  \n",
       "2                           2                3           5              4  \n",
       "3                           0                2           3              2  \n",
       "4                           0                4           4              3  "
      ]
     },
     "execution_count": 221,
     "metadata": {},
     "output_type": "execute_result"
    }
   ],
   "source": [
    "df_performance.head()"
   ]
  },
  {
   "cell_type": "code",
   "execution_count": 223,
   "id": "a2a05c4b-25d7-42fa-b6cd-f8ff7633e4fb",
   "metadata": {},
   "outputs": [
    {
     "data": {
      "text/plain": [
       "6709"
      ]
     },
     "execution_count": 223,
     "metadata": {},
     "output_type": "execute_result"
    }
   ],
   "source": [
    "df_performance.PerformanceID.nunique()"
   ]
  },
  {
   "cell_type": "code",
   "execution_count": 225,
   "id": "2d1d9f0d-af23-43da-a99f-3551abb28d8c",
   "metadata": {},
   "outputs": [
    {
     "data": {
      "text/plain": [
       "1280"
      ]
     },
     "execution_count": 225,
     "metadata": {},
     "output_type": "execute_result"
    }
   ],
   "source": [
    "df_performance.EmployeeID.nunique()"
   ]
  },
  {
   "cell_type": "code",
   "execution_count": 227,
   "id": "edcb41e2-7b61-478f-b637-5c503dc433dc",
   "metadata": {},
   "outputs": [
    {
     "data": {
      "text/plain": [
       "'1/1/2014'"
      ]
     },
     "execution_count": 227,
     "metadata": {},
     "output_type": "execute_result"
    }
   ],
   "source": [
    "df_performance.ReviewDate.min()"
   ]
  },
  {
   "cell_type": "code",
   "execution_count": 229,
   "id": "c7aebe68-b9e1-4f81-9a8d-afbd6e529a98",
   "metadata": {},
   "outputs": [
    {
     "data": {
      "text/plain": [
       "'9/9/2019'"
      ]
     },
     "execution_count": 229,
     "metadata": {},
     "output_type": "execute_result"
    }
   ],
   "source": [
    "df_performance.ReviewDate.max()"
   ]
  },
  {
   "cell_type": "code",
   "execution_count": 231,
   "id": "e46c949e-1e4e-4f36-ac05-3d22ef46a1a6",
   "metadata": {},
   "outputs": [
    {
     "data": {
      "text/plain": [
       "5"
      ]
     },
     "execution_count": 231,
     "metadata": {},
     "output_type": "execute_result"
    }
   ],
   "source": [
    "df_performance.EnvironmentSatisfaction.nunique()"
   ]
  },
  {
   "cell_type": "code",
   "execution_count": 233,
   "id": "172c788f-450b-4d93-94cd-6e99a5168967",
   "metadata": {},
   "outputs": [
    {
     "data": {
      "text/plain": [
       "array([5, 3, 4, 1, 2], dtype=int64)"
      ]
     },
     "execution_count": 233,
     "metadata": {},
     "output_type": "execute_result"
    }
   ],
   "source": [
    "df_performance.EnvironmentSatisfaction.unique()"
   ]
  },
  {
   "cell_type": "code",
   "execution_count": 235,
   "id": "90620b96-fa0d-42e4-88aa-9c71ab6c8bc2",
   "metadata": {},
   "outputs": [
    {
     "data": {
      "text/plain": [
       "5"
      ]
     },
     "execution_count": 235,
     "metadata": {},
     "output_type": "execute_result"
    }
   ],
   "source": [
    "df_performance.JobSatisfaction.nunique()"
   ]
  },
  {
   "cell_type": "code",
   "execution_count": 237,
   "id": "8ea4c114-d22a-441f-872a-3429c9736216",
   "metadata": {},
   "outputs": [
    {
     "data": {
      "text/plain": [
       "array([4, 3, 2, 5, 1], dtype=int64)"
      ]
     },
     "execution_count": 237,
     "metadata": {},
     "output_type": "execute_result"
    }
   ],
   "source": [
    "df_performance.JobSatisfaction.unique()"
   ]
  },
  {
   "cell_type": "code",
   "execution_count": 239,
   "id": "724814b8-e0ba-41f2-94bf-5c57c77983db",
   "metadata": {},
   "outputs": [
    {
     "data": {
      "text/plain": [
       "5"
      ]
     },
     "execution_count": 239,
     "metadata": {},
     "output_type": "execute_result"
    }
   ],
   "source": [
    "df_performance.JobSatisfaction.nunique()"
   ]
  },
  {
   "cell_type": "code",
   "execution_count": 241,
   "id": "a631e7bd-0663-4e72-a509-eb7be727e376",
   "metadata": {},
   "outputs": [
    {
     "data": {
      "text/plain": [
       "array([4, 3, 2, 5, 1], dtype=int64)"
      ]
     },
     "execution_count": 241,
     "metadata": {},
     "output_type": "execute_result"
    }
   ],
   "source": [
    "df_performance.JobSatisfaction.unique()"
   ]
  },
  {
   "cell_type": "code",
   "execution_count": 243,
   "id": "0d840a52-3881-449d-8579-290bc9a85ca7",
   "metadata": {},
   "outputs": [
    {
     "data": {
      "text/plain": [
       "5"
      ]
     },
     "execution_count": 243,
     "metadata": {},
     "output_type": "execute_result"
    }
   ],
   "source": [
    "df_performance.RelationshipSatisfaction.nunique()"
   ]
  },
  {
   "cell_type": "code",
   "execution_count": 245,
   "id": "797c512f-a397-44f1-b1fc-8c9c79aab4de",
   "metadata": {},
   "outputs": [
    {
     "data": {
      "text/plain": [
       "array([5, 4, 2, 3, 1], dtype=int64)"
      ]
     },
     "execution_count": 245,
     "metadata": {},
     "output_type": "execute_result"
    }
   ],
   "source": [
    "df_performance.RelationshipSatisfaction.unique()"
   ]
  },
  {
   "cell_type": "code",
   "execution_count": 247,
   "id": "5da66777-2d06-4838-bbaa-12623594f499",
   "metadata": {},
   "outputs": [
    {
     "data": {
      "text/plain": [
       "3"
      ]
     },
     "execution_count": 247,
     "metadata": {},
     "output_type": "execute_result"
    }
   ],
   "source": [
    "df_performance.TrainingOpportunitiesWithinYear.nunique()"
   ]
  },
  {
   "cell_type": "code",
   "execution_count": 249,
   "id": "5c2f6594-7aa1-4945-ba3b-b961987bd957",
   "metadata": {},
   "outputs": [
    {
     "data": {
      "text/plain": [
       "array([1, 3, 2], dtype=int64)"
      ]
     },
     "execution_count": 249,
     "metadata": {},
     "output_type": "execute_result"
    }
   ],
   "source": [
    "df_performance.TrainingOpportunitiesWithinYear.unique()"
   ]
  },
  {
   "cell_type": "code",
   "execution_count": 251,
   "id": "8fc94aa4-a644-412f-aa99-ddde500ee076",
   "metadata": {},
   "outputs": [
    {
     "data": {
      "text/plain": [
       "4"
      ]
     },
     "execution_count": 251,
     "metadata": {},
     "output_type": "execute_result"
    }
   ],
   "source": [
    "df_performance.TrainingOpportunitiesTaken.nunique()"
   ]
  },
  {
   "cell_type": "code",
   "execution_count": 253,
   "id": "b9e89991-3337-434b-8c4b-a5adf7fd921d",
   "metadata": {},
   "outputs": [
    {
     "data": {
      "text/plain": [
       "array([0, 3, 2, 1], dtype=int64)"
      ]
     },
     "execution_count": 253,
     "metadata": {},
     "output_type": "execute_result"
    }
   ],
   "source": [
    "df_performance.TrainingOpportunitiesTaken.unique()"
   ]
  },
  {
   "cell_type": "code",
   "execution_count": 255,
   "id": "3864d7ed-ccb8-4080-b1c8-ee9df1d7c63c",
   "metadata": {},
   "outputs": [
    {
     "data": {
      "text/plain": [
       "5"
      ]
     },
     "execution_count": 255,
     "metadata": {},
     "output_type": "execute_result"
    }
   ],
   "source": [
    "df_performance.WorkLifeBalance.nunique()"
   ]
  },
  {
   "cell_type": "code",
   "execution_count": 257,
   "id": "a4fe9a7b-ff5b-4904-950d-62db6cfe16ec",
   "metadata": {},
   "outputs": [
    {
     "data": {
      "text/plain": [
       "array([4, 3, 2, 5, 1], dtype=int64)"
      ]
     },
     "execution_count": 257,
     "metadata": {},
     "output_type": "execute_result"
    }
   ],
   "source": [
    "df_performance.WorkLifeBalance.unique()"
   ]
  },
  {
   "cell_type": "code",
   "execution_count": 259,
   "id": "fb4a4a0d-dbac-49b0-8b06-e3ebc5dca30a",
   "metadata": {},
   "outputs": [
    {
     "data": {
      "text/plain": [
       "3"
      ]
     },
     "execution_count": 259,
     "metadata": {},
     "output_type": "execute_result"
    }
   ],
   "source": [
    "df_performance.SelfRating.nunique()"
   ]
  },
  {
   "cell_type": "code",
   "execution_count": 261,
   "id": "bdb430c0-3672-4a6b-b380-718783c76f8f",
   "metadata": {},
   "outputs": [
    {
     "data": {
      "text/plain": [
       "array([4, 5, 3], dtype=int64)"
      ]
     },
     "execution_count": 261,
     "metadata": {},
     "output_type": "execute_result"
    }
   ],
   "source": [
    "df_performance.SelfRating.unique()"
   ]
  },
  {
   "cell_type": "code",
   "execution_count": 263,
   "id": "2a7d04b1-7acf-45ad-aeab-36b4686b6a15",
   "metadata": {},
   "outputs": [
    {
     "data": {
      "text/plain": [
       "4"
      ]
     },
     "execution_count": 263,
     "metadata": {},
     "output_type": "execute_result"
    }
   ],
   "source": [
    "df_performance.ManagerRating.nunique()"
   ]
  },
  {
   "cell_type": "code",
   "execution_count": 265,
   "id": "0b2e1dd7-13f2-4e4d-a304-afabdc948aa9",
   "metadata": {},
   "outputs": [
    {
     "data": {
      "text/plain": [
       "array([4, 3, 2, 5], dtype=int64)"
      ]
     },
     "execution_count": 265,
     "metadata": {},
     "output_type": "execute_result"
    }
   ],
   "source": [
    "df_performance.ManagerRating.unique()"
   ]
  },
  {
   "cell_type": "code",
   "execution_count": null,
   "id": "9c436d1f-4492-43fe-85bf-ca73d1566d2d",
   "metadata": {},
   "outputs": [],
   "source": [
    "df_performance.RelationshipSatisfaction.nunique()"
   ]
  },
  {
   "cell_type": "code",
   "execution_count": null,
   "id": "1538ec3d-fe87-4636-9018-b7bfbda95fa2",
   "metadata": {},
   "outputs": [],
   "source": [
    "df_performance.RelationshipSatisfaction.unique()"
   ]
  },
  {
   "cell_type": "code",
   "execution_count": null,
   "id": "8ff9fac0-a57f-4fec-8dcc-dc7645943db1",
   "metadata": {},
   "outputs": [],
   "source": []
  },
  {
   "cell_type": "markdown",
   "id": "a497ecfd-1e95-44a2-8960-620de60df96d",
   "metadata": {},
   "source": [
    "<a id='satis'></a>\n",
    "#### ***4. Satisfied Level Table:***"
   ]
  },
  {
   "cell_type": "code",
   "execution_count": 207,
   "id": "721d84cb-4a23-4f89-961f-91e71b6e303a",
   "metadata": {},
   "outputs": [
    {
     "name": "stdout",
     "output_type": "stream",
     "text": [
      "<class 'pandas.core.frame.DataFrame'>\n",
      "RangeIndex: 5 entries, 0 to 4\n",
      "Data columns (total 2 columns):\n",
      " #   Column             Non-Null Count  Dtype \n",
      "---  ------             --------------  ----- \n",
      " 0   SatisfactionID     5 non-null      int64 \n",
      " 1   SatisfactionLevel  5 non-null      object\n",
      "dtypes: int64(1), object(1)\n",
      "memory usage: 212.0+ bytes\n"
     ]
    }
   ],
   "source": [
    "df_satisfy= pd.read_csv(\"HR/SatisfiedLevel.csv\")\n",
    "df_satisfy.info()\n",
    "df_satisfy.shape\n",
    "df_satisfy.head()\n",
    "df_satisfy.SatisfactionID.unique()\n",
    "df_satisfy.SatisfactionLevel.unique()"
   ]
  },
  {
   "cell_type": "code",
   "execution_count": null,
   "id": "d0558260-5a3a-44da-b76f-bb6df2cf3ec4",
   "metadata": {},
   "outputs": [],
   "source": []
  },
  {
   "cell_type": "markdown",
   "id": "7c156789-c857-4901-b1fa-03fdaedd358b",
   "metadata": {},
   "source": [
    "<a id='rating'></a>\n",
    "#### ***5. Rating Level Table:***"
   ]
  },
  {
   "cell_type": "code",
   "execution_count": 197,
   "id": "33190efe-a35b-4912-9454-834e23d84720",
   "metadata": {},
   "outputs": [
    {
     "name": "stdout",
     "output_type": "stream",
     "text": [
      "<class 'pandas.core.frame.DataFrame'>\n",
      "RangeIndex: 5 entries, 0 to 4\n",
      "Data columns (total 2 columns):\n",
      " #   Column       Non-Null Count  Dtype \n",
      "---  ------       --------------  ----- \n",
      " 0   RatingID     5 non-null      int64 \n",
      " 1   RatingLevel  5 non-null      object\n",
      "dtypes: int64(1), object(1)\n",
      "memory usage: 212.0+ bytes\n"
     ]
    }
   ],
   "source": [
    "df_rating= pd.read_csv(\"HR/RatingLevel.csv\")\n",
    "df_rating.info()"
   ]
  },
  {
   "cell_type": "code",
   "execution_count": 201,
   "id": "0b20ebb4-a720-40d2-9184-4ff7ea18972f",
   "metadata": {},
   "outputs": [
    {
     "data": {
      "text/plain": [
       "(5, 2)"
      ]
     },
     "execution_count": 201,
     "metadata": {},
     "output_type": "execute_result"
    }
   ],
   "source": [
    "df_rating.shape"
   ]
  },
  {
   "cell_type": "code",
   "execution_count": 199,
   "id": "89ab2099-e647-4481-8c2d-ad1e29bbe5ac",
   "metadata": {},
   "outputs": [
    {
     "data": {
      "text/html": [
       "<div>\n",
       "<style scoped>\n",
       "    .dataframe tbody tr th:only-of-type {\n",
       "        vertical-align: middle;\n",
       "    }\n",
       "\n",
       "    .dataframe tbody tr th {\n",
       "        vertical-align: top;\n",
       "    }\n",
       "\n",
       "    .dataframe thead th {\n",
       "        text-align: right;\n",
       "    }\n",
       "</style>\n",
       "<table border=\"1\" class=\"dataframe\">\n",
       "  <thead>\n",
       "    <tr style=\"text-align: right;\">\n",
       "      <th></th>\n",
       "      <th>RatingID</th>\n",
       "      <th>RatingLevel</th>\n",
       "    </tr>\n",
       "  </thead>\n",
       "  <tbody>\n",
       "    <tr>\n",
       "      <th>0</th>\n",
       "      <td>1</td>\n",
       "      <td>Unacceptable</td>\n",
       "    </tr>\n",
       "    <tr>\n",
       "      <th>1</th>\n",
       "      <td>2</td>\n",
       "      <td>Needs Improvement</td>\n",
       "    </tr>\n",
       "    <tr>\n",
       "      <th>2</th>\n",
       "      <td>3</td>\n",
       "      <td>Meets Expectation</td>\n",
       "    </tr>\n",
       "    <tr>\n",
       "      <th>3</th>\n",
       "      <td>4</td>\n",
       "      <td>Exceeds Expectation</td>\n",
       "    </tr>\n",
       "    <tr>\n",
       "      <th>4</th>\n",
       "      <td>5</td>\n",
       "      <td>Above and Beyond</td>\n",
       "    </tr>\n",
       "  </tbody>\n",
       "</table>\n",
       "</div>"
      ],
      "text/plain": [
       "   RatingID           RatingLevel\n",
       "0         1          Unacceptable\n",
       "1         2     Needs Improvement\n",
       "2         3     Meets Expectation\n",
       "3         4  Exceeds Expectation \n",
       "4         5      Above and Beyond"
      ]
     },
     "execution_count": 199,
     "metadata": {},
     "output_type": "execute_result"
    }
   ],
   "source": [
    "df_rating.head()\n",
    "df_rating.RatingID.unique()\n",
    "df_rating.RatingLevel.unique()"
   ]
  },
  {
   "cell_type": "markdown",
   "id": "a816cecf-e36b-42e1-a19e-4a455da07e83",
   "metadata": {},
   "source": [
    "<a id='clean'></a>\n",
    "## Data Cleaning:"
   ]
  },
  {
   "cell_type": "code",
   "execution_count": null,
   "id": "28ef6b77-7ae4-422e-be9d-47220b7603de",
   "metadata": {},
   "outputs": [],
   "source": []
  },
  {
   "cell_type": "code",
   "execution_count": null,
   "id": "51ddf800-c734-4847-b701-013d375bc427",
   "metadata": {},
   "outputs": [],
   "source": []
  },
  {
   "cell_type": "markdown",
   "id": "ce85a094-3b66-4959-a497-ff9ea217f73a",
   "metadata": {},
   "source": [
    "<a id='c_emp'></a>\n",
    "#### ***1. Employee Table:***"
   ]
  },
  {
   "cell_type": "code",
   "execution_count": null,
   "id": "95e3ca8a-5df6-437f-9210-13dde0184b57",
   "metadata": {},
   "outputs": [],
   "source": []
  },
  {
   "cell_type": "markdown",
   "id": "5e86c9e7-526c-410b-8540-4e6091c12bb9",
   "metadata": {},
   "source": [
    "<a id='c_edu'></a>\n",
    "#### ***2. Educational Level Table:***"
   ]
  },
  {
   "cell_type": "code",
   "execution_count": null,
   "id": "46b50beb-566f-40aa-b0f1-eab2e1246711",
   "metadata": {},
   "outputs": [],
   "source": []
  },
  {
   "cell_type": "markdown",
   "id": "fd767aef-91cb-4909-a134-8770438a416c",
   "metadata": {},
   "source": [
    "<a id='c_perform'></a>\n",
    "#### ***3. Performance Rating Table:***"
   ]
  },
  {
   "cell_type": "code",
   "execution_count": null,
   "id": "cde2a86a-a0d1-4013-a499-3394fd0269ad",
   "metadata": {},
   "outputs": [],
   "source": []
  },
  {
   "cell_type": "code",
   "execution_count": 471,
   "id": "58812249-7206-4c3a-9ce6-8b4b8d35a29d",
   "metadata": {},
   "outputs": [],
   "source": [
    "#df_performance['ReviewDate'] = pd.to_datetime(df_performance['ReviewDate']).dt.date"
   ]
  },
  {
   "cell_type": "markdown",
   "id": "f9c5555a-6ada-4cab-a4d4-c069642a65a1",
   "metadata": {},
   "source": [
    "<a id='c_satis'></a>\n",
    "#### ***4. Satisfied Level Table:***"
   ]
  },
  {
   "cell_type": "code",
   "execution_count": null,
   "id": "19cd805a-d983-4339-98c7-3deda26075e5",
   "metadata": {},
   "outputs": [],
   "source": []
  },
  {
   "cell_type": "markdown",
   "id": "8767a8ec-f74e-475e-8353-2c309b683522",
   "metadata": {},
   "source": [
    "<a id='c_rating'></a>\n",
    "#### ***5. Rating Table:***"
   ]
  },
  {
   "cell_type": "code",
   "execution_count": null,
   "id": "fcf1ee23-b044-41bf-aefe-9c61beb46f0f",
   "metadata": {},
   "outputs": [],
   "source": []
  },
  {
   "cell_type": "code",
   "execution_count": null,
   "id": "3310697f-4b29-4336-9c0c-f68fa6bd81b3",
   "metadata": {},
   "outputs": [],
   "source": []
  },
  {
   "cell_type": "code",
   "execution_count": null,
   "id": "ce27f094-05a6-4f33-b096-0a28848ab722",
   "metadata": {},
   "outputs": [],
   "source": []
  },
  {
   "cell_type": "code",
   "execution_count": null,
   "id": "abe0aba8-04c7-4925-83d4-8e1873c87668",
   "metadata": {},
   "outputs": [],
   "source": []
  },
  {
   "cell_type": "code",
   "execution_count": null,
   "id": "c1ccb56f-c3d5-4f28-8ed7-8b222f834fc4",
   "metadata": {},
   "outputs": [],
   "source": []
  },
  {
   "cell_type": "code",
   "execution_count": null,
   "id": "82ff9767-0480-4796-b645-5c50e72f2491",
   "metadata": {},
   "outputs": [],
   "source": []
  },
  {
   "cell_type": "code",
   "execution_count": 281,
   "id": "fe10a2e5-d5df-48b3-a92b-25640528e003",
   "metadata": {},
   "outputs": [
    {
     "name": "stdout",
     "output_type": "stream",
     "text": [
      "Database 'Test' created successfully.\n"
     ]
    }
   ],
   "source": [
    "# Define the connection parameters\n",
    "server = 'HEND\\SQLEXPRESS'  # SQL Server name or IP\n",
    "database_name = 'Test'  # Name of the new database\n",
    "\n",
    "# Establish a connection to the SQL Server using Windows Authentication and enabling autocommit\n",
    "driver = 'ODBC Driver 17 for SQL Server'\n",
    "connection_string = f'DRIVER={driver};SERVER={server};Trusted_Connection=yes;'\n",
    "connection = pyodbc.connect(connection_string, autocommit=True)  # Enable autocommit\n",
    "\n",
    "# Create a new cursor\n",
    "cursor = connection.cursor()\n",
    "\n",
    "# SQL command to create a new database\n",
    "create_db_query = f\"CREATE DATABASE {database_name}\"\n",
    "\n",
    "try:\n",
    "    # Execute the SQL command\n",
    "    cursor.execute(create_db_query)\n",
    "    print(f\"Database '{database_name}' created successfully.\")\n",
    "except:\n",
    "    print(\"The database is already created\")\n",
    "\n",
    "# Close the cursor and connection\n",
    "cursor.close()\n",
    "connection.close()"
   ]
  },
  {
   "cell_type": "code",
   "execution_count": 273,
   "id": "f2f94034-4b42-4f06-8db5-66a2221ea088",
   "metadata": {},
   "outputs": [],
   "source": [
    "connect_db= f'mssql://@{server}/{database_name}?driver={driver}'\n",
    "engine = create_engine(connect_db)\n",
    "con_db= engine.connect()"
   ]
  },
  {
   "cell_type": "code",
   "execution_count": 275,
   "id": "bf674f55-1912-4411-b07d-5acaecc321c8",
   "metadata": {},
   "outputs": [
    {
     "data": {
      "text/plain": [
       "-1"
      ]
     },
     "execution_count": 275,
     "metadata": {},
     "output_type": "execute_result"
    }
   ],
   "source": [
    "df_performance.to_sql('performance', engine, index=False)"
   ]
  },
  {
   "cell_type": "code",
   "execution_count": 277,
   "id": "7b670c92-9457-45ba-bb49-fd797dddf36c",
   "metadata": {},
   "outputs": [
    {
     "data": {
      "text/plain": [
       "-1"
      ]
     },
     "execution_count": 277,
     "metadata": {},
     "output_type": "execute_result"
    }
   ],
   "source": [
    "df_satisfy.to_sql('satisfaction', engine, index=False)"
   ]
  },
  {
   "cell_type": "code",
   "execution_count": 279,
   "id": "f729cadc-ee69-4678-8a4e-c0ec788102f6",
   "metadata": {},
   "outputs": [
    {
     "data": {
      "text/plain": [
       "-1"
      ]
     },
     "execution_count": 279,
     "metadata": {},
     "output_type": "execute_result"
    }
   ],
   "source": [
    "df_rating.to_sql('rating', engine, index=False)"
   ]
  },
  {
   "cell_type": "code",
   "execution_count": null,
   "id": "8cf0b652-7b6c-46d5-897d-f740ab85a63e",
   "metadata": {},
   "outputs": [],
   "source": []
  }
 ],
 "metadata": {
  "kernelspec": {
   "display_name": "Python 3 (ipykernel)",
   "language": "python",
   "name": "python3"
  },
  "language_info": {
   "codemirror_mode": {
    "name": "ipython",
    "version": 3
   },
   "file_extension": ".py",
   "mimetype": "text/x-python",
   "name": "python",
   "nbconvert_exporter": "python",
   "pygments_lexer": "ipython3",
   "version": "3.11.4"
  }
 },
 "nbformat": 4,
 "nbformat_minor": 5
}
