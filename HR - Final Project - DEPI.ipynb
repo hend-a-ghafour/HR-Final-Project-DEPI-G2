{
 "cells": [
  {
   "cell_type": "code",
   "execution_count": 2,
   "id": "70eb35cc-e6aa-474d-b8ea-a6613ff7d8ea",
   "metadata": {},
   "outputs": [],
   "source": [
    "# Importing Liberaries:\n",
    "import pandas as pd\n",
    "import numpy as np\n",
    "import matplotlib.pyplot as plt\n",
    "import seaborn as sns\n",
    "from sqlalchemy import create_engine"
   ]
  },
  {
   "cell_type": "code",
   "execution_count": 35,
   "id": "ea7b4a3c-ab10-4e4e-b8d2-e0cf82ad7cd8",
   "metadata": {},
   "outputs": [
    {
     "name": "stdout",
     "output_type": "stream",
     "text": [
      "<class 'pandas.core.frame.DataFrame'>\n",
      "RangeIndex: 1470 entries, 0 to 1469\n",
      "Data columns (total 23 columns):\n",
      " #   Column                   Non-Null Count  Dtype \n",
      "---  ------                   --------------  ----- \n",
      " 0   EmployeeID               1470 non-null   object\n",
      " 1   FirstName                1470 non-null   object\n",
      " 2   LastName                 1470 non-null   object\n",
      " 3   Gender                   1470 non-null   object\n",
      " 4   Age                      1470 non-null   int64 \n",
      " 5   BusinessTravel           1470 non-null   object\n",
      " 6   Department               1470 non-null   object\n",
      " 7   DistanceFromHome (KM)    1470 non-null   int64 \n",
      " 8   State                    1470 non-null   object\n",
      " 9   Ethnicity                1470 non-null   object\n",
      " 10  Education                1470 non-null   int64 \n",
      " 11  EducationField           1470 non-null   object\n",
      " 12  JobRole                  1470 non-null   object\n",
      " 13  MaritalStatus            1470 non-null   object\n",
      " 14  Salary                   1470 non-null   int64 \n",
      " 15  StockOptionLevel         1470 non-null   int64 \n",
      " 16  OverTime                 1470 non-null   object\n",
      " 17  HireDate                 1470 non-null   object\n",
      " 18  Attrition                1470 non-null   object\n",
      " 19  YearsAtCompany           1470 non-null   int64 \n",
      " 20  YearsInMostRecentRole    1470 non-null   int64 \n",
      " 21  YearsSinceLastPromotion  1470 non-null   int64 \n",
      " 22  YearsWithCurrManager     1470 non-null   int64 \n",
      "dtypes: int64(9), object(14)\n",
      "memory usage: 264.3+ KB\n"
     ]
    }
   ],
   "source": [
    "# Load the Employee Dataset:\n",
    "df_emp= pd.read_csv(\"HR/Employee.csv\")\n",
    "df_emp.info()"
   ]
  },
  {
   "cell_type": "code",
   "execution_count": 37,
   "id": "944f09c3-e032-4bb0-9b8e-67ea48959a43",
   "metadata": {},
   "outputs": [
    {
     "data": {
      "text/html": [
       "<div>\n",
       "<style scoped>\n",
       "    .dataframe tbody tr th:only-of-type {\n",
       "        vertical-align: middle;\n",
       "    }\n",
       "\n",
       "    .dataframe tbody tr th {\n",
       "        vertical-align: top;\n",
       "    }\n",
       "\n",
       "    .dataframe thead th {\n",
       "        text-align: right;\n",
       "    }\n",
       "</style>\n",
       "<table border=\"1\" class=\"dataframe\">\n",
       "  <thead>\n",
       "    <tr style=\"text-align: right;\">\n",
       "      <th></th>\n",
       "      <th>EmployeeID</th>\n",
       "      <th>FirstName</th>\n",
       "      <th>LastName</th>\n",
       "      <th>Gender</th>\n",
       "      <th>Age</th>\n",
       "      <th>BusinessTravel</th>\n",
       "      <th>Department</th>\n",
       "      <th>DistanceFromHome (KM)</th>\n",
       "      <th>State</th>\n",
       "      <th>Ethnicity</th>\n",
       "      <th>...</th>\n",
       "      <th>MaritalStatus</th>\n",
       "      <th>Salary</th>\n",
       "      <th>StockOptionLevel</th>\n",
       "      <th>OverTime</th>\n",
       "      <th>HireDate</th>\n",
       "      <th>Attrition</th>\n",
       "      <th>YearsAtCompany</th>\n",
       "      <th>YearsInMostRecentRole</th>\n",
       "      <th>YearsSinceLastPromotion</th>\n",
       "      <th>YearsWithCurrManager</th>\n",
       "    </tr>\n",
       "  </thead>\n",
       "  <tbody>\n",
       "    <tr>\n",
       "      <th>0</th>\n",
       "      <td>3012-1A41</td>\n",
       "      <td>Leonelle</td>\n",
       "      <td>Simco</td>\n",
       "      <td>Female</td>\n",
       "      <td>30</td>\n",
       "      <td>Some Travel</td>\n",
       "      <td>Sales</td>\n",
       "      <td>27</td>\n",
       "      <td>IL</td>\n",
       "      <td>White</td>\n",
       "      <td>...</td>\n",
       "      <td>Divorced</td>\n",
       "      <td>102059</td>\n",
       "      <td>1</td>\n",
       "      <td>No</td>\n",
       "      <td>2012-01-03</td>\n",
       "      <td>No</td>\n",
       "      <td>10</td>\n",
       "      <td>4</td>\n",
       "      <td>9</td>\n",
       "      <td>7</td>\n",
       "    </tr>\n",
       "    <tr>\n",
       "      <th>1</th>\n",
       "      <td>CBCB-9C9D</td>\n",
       "      <td>Leonerd</td>\n",
       "      <td>Aland</td>\n",
       "      <td>Male</td>\n",
       "      <td>38</td>\n",
       "      <td>Some Travel</td>\n",
       "      <td>Sales</td>\n",
       "      <td>23</td>\n",
       "      <td>CA</td>\n",
       "      <td>White</td>\n",
       "      <td>...</td>\n",
       "      <td>Single</td>\n",
       "      <td>157718</td>\n",
       "      <td>0</td>\n",
       "      <td>Yes</td>\n",
       "      <td>2012-01-04</td>\n",
       "      <td>No</td>\n",
       "      <td>10</td>\n",
       "      <td>6</td>\n",
       "      <td>10</td>\n",
       "      <td>0</td>\n",
       "    </tr>\n",
       "    <tr>\n",
       "      <th>2</th>\n",
       "      <td>95D7-1CE9</td>\n",
       "      <td>Ahmed</td>\n",
       "      <td>Sykes</td>\n",
       "      <td>Male</td>\n",
       "      <td>43</td>\n",
       "      <td>Some Travel</td>\n",
       "      <td>Human Resources</td>\n",
       "      <td>29</td>\n",
       "      <td>CA</td>\n",
       "      <td>Asian or Asian American</td>\n",
       "      <td>...</td>\n",
       "      <td>Married</td>\n",
       "      <td>309964</td>\n",
       "      <td>1</td>\n",
       "      <td>No</td>\n",
       "      <td>2012-01-04</td>\n",
       "      <td>No</td>\n",
       "      <td>10</td>\n",
       "      <td>6</td>\n",
       "      <td>10</td>\n",
       "      <td>8</td>\n",
       "    </tr>\n",
       "    <tr>\n",
       "      <th>3</th>\n",
       "      <td>47A0-559B</td>\n",
       "      <td>Ermentrude</td>\n",
       "      <td>Berrie</td>\n",
       "      <td>Non-Binary</td>\n",
       "      <td>39</td>\n",
       "      <td>Some Travel</td>\n",
       "      <td>Technology</td>\n",
       "      <td>12</td>\n",
       "      <td>IL</td>\n",
       "      <td>White</td>\n",
       "      <td>...</td>\n",
       "      <td>Married</td>\n",
       "      <td>293132</td>\n",
       "      <td>0</td>\n",
       "      <td>No</td>\n",
       "      <td>2012-01-05</td>\n",
       "      <td>No</td>\n",
       "      <td>10</td>\n",
       "      <td>10</td>\n",
       "      <td>10</td>\n",
       "      <td>0</td>\n",
       "    </tr>\n",
       "    <tr>\n",
       "      <th>4</th>\n",
       "      <td>42CC-040A</td>\n",
       "      <td>Stace</td>\n",
       "      <td>Savege</td>\n",
       "      <td>Female</td>\n",
       "      <td>29</td>\n",
       "      <td>Some Travel</td>\n",
       "      <td>Human Resources</td>\n",
       "      <td>29</td>\n",
       "      <td>CA</td>\n",
       "      <td>White</td>\n",
       "      <td>...</td>\n",
       "      <td>Single</td>\n",
       "      <td>49606</td>\n",
       "      <td>0</td>\n",
       "      <td>No</td>\n",
       "      <td>2012-01-05</td>\n",
       "      <td>Yes</td>\n",
       "      <td>6</td>\n",
       "      <td>1</td>\n",
       "      <td>1</td>\n",
       "      <td>6</td>\n",
       "    </tr>\n",
       "  </tbody>\n",
       "</table>\n",
       "<p>5 rows × 23 columns</p>\n",
       "</div>"
      ],
      "text/plain": [
       "  EmployeeID   FirstName LastName      Gender  Age BusinessTravel  \\\n",
       "0  3012-1A41    Leonelle    Simco      Female   30    Some Travel   \n",
       "1  CBCB-9C9D     Leonerd    Aland        Male   38    Some Travel   \n",
       "2  95D7-1CE9       Ahmed    Sykes        Male   43    Some Travel   \n",
       "3  47A0-559B  Ermentrude   Berrie  Non-Binary   39    Some Travel   \n",
       "4  42CC-040A       Stace   Savege      Female   29    Some Travel   \n",
       "\n",
       "        Department  DistanceFromHome (KM) State                Ethnicity  ...  \\\n",
       "0            Sales                     27    IL                    White  ...   \n",
       "1            Sales                     23    CA                    White  ...   \n",
       "2  Human Resources                     29    CA  Asian or Asian American  ...   \n",
       "3       Technology                     12    IL                    White  ...   \n",
       "4  Human Resources                     29    CA                    White  ...   \n",
       "\n",
       "   MaritalStatus  Salary StockOptionLevel OverTime    HireDate  Attrition  \\\n",
       "0       Divorced  102059                1       No  2012-01-03         No   \n",
       "1         Single  157718                0      Yes  2012-01-04         No   \n",
       "2        Married  309964                1       No  2012-01-04         No   \n",
       "3        Married  293132                0       No  2012-01-05         No   \n",
       "4         Single   49606                0       No  2012-01-05        Yes   \n",
       "\n",
       "  YearsAtCompany YearsInMostRecentRole YearsSinceLastPromotion  \\\n",
       "0             10                     4                       9   \n",
       "1             10                     6                      10   \n",
       "2             10                     6                      10   \n",
       "3             10                    10                      10   \n",
       "4              6                     1                       1   \n",
       "\n",
       "   YearsWithCurrManager  \n",
       "0                     7  \n",
       "1                     0  \n",
       "2                     8  \n",
       "3                     0  \n",
       "4                     6  \n",
       "\n",
       "[5 rows x 23 columns]"
      ]
     },
     "execution_count": 37,
     "metadata": {},
     "output_type": "execute_result"
    }
   ],
   "source": [
    "df_emp.head()"
   ]
  },
  {
   "cell_type": "code",
   "execution_count": 39,
   "id": "381c97c3-25ac-4e31-abcd-738aaceed580",
   "metadata": {},
   "outputs": [
    {
     "data": {
      "text/plain": [
       "1470"
      ]
     },
     "execution_count": 39,
     "metadata": {},
     "output_type": "execute_result"
    }
   ],
   "source": [
    "df_emp.EmployeeID.nunique()"
   ]
  },
  {
   "cell_type": "code",
   "execution_count": 41,
   "id": "be496921-fd9c-41ed-8121-4f61df9d5391",
   "metadata": {},
   "outputs": [
    {
     "data": {
      "text/plain": [
       "1334"
      ]
     },
     "execution_count": 41,
     "metadata": {},
     "output_type": "execute_result"
    }
   ],
   "source": [
    "df_emp.FirstName.nunique()"
   ]
  },
  {
   "cell_type": "code",
   "execution_count": 43,
   "id": "0c787a54-bcfb-464a-9a5d-904d4dbf5c29",
   "metadata": {},
   "outputs": [
    {
     "data": {
      "text/plain": [
       "1441"
      ]
     },
     "execution_count": 43,
     "metadata": {},
     "output_type": "execute_result"
    }
   ],
   "source": [
    "df_emp.LastName.nunique()"
   ]
  },
  {
   "cell_type": "code",
   "execution_count": 45,
   "id": "77e0d377-42ca-44ed-95a7-441676a1aecf",
   "metadata": {},
   "outputs": [
    {
     "data": {
      "text/plain": [
       "4"
      ]
     },
     "execution_count": 45,
     "metadata": {},
     "output_type": "execute_result"
    }
   ],
   "source": [
    "df_emp.Gender.nunique()"
   ]
  },
  {
   "cell_type": "code",
   "execution_count": 47,
   "id": "6c14b94b-3f99-42bf-993e-9bbc260a4bbc",
   "metadata": {},
   "outputs": [
    {
     "data": {
      "text/plain": [
       "array(['Female', 'Male', 'Non-Binary', 'Prefer Not To Say'], dtype=object)"
      ]
     },
     "execution_count": 47,
     "metadata": {},
     "output_type": "execute_result"
    }
   ],
   "source": [
    "df_emp.Gender.unique()"
   ]
  },
  {
   "cell_type": "code",
   "execution_count": 57,
   "id": "0749aff5-1051-4a35-8a63-0be3b60b1246",
   "metadata": {},
   "outputs": [
    {
     "data": {
      "text/plain": [
       "array([30, 38, 43, 39, 29, 34, 42, 40, 31, 32, 35, 37, 33, 45, 36, 48, 47,\n",
       "       44, 28, 41, 46, 27, 26, 25, 24, 23, 22, 21, 49, 50, 20, 19, 51, 18],\n",
       "      dtype=int64)"
      ]
     },
     "execution_count": 57,
     "metadata": {},
     "output_type": "execute_result"
    }
   ],
   "source": [
    "df_emp.Age.unique()"
   ]
  },
  {
   "cell_type": "code",
   "execution_count": 59,
   "id": "8701c33b-328a-48e5-bee1-64f7b989d6ce",
   "metadata": {},
   "outputs": [
    {
     "data": {
      "text/plain": [
       "18"
      ]
     },
     "execution_count": 59,
     "metadata": {},
     "output_type": "execute_result"
    }
   ],
   "source": [
    "df_emp.Age.min()"
   ]
  },
  {
   "cell_type": "code",
   "execution_count": 61,
   "id": "ad18f7f6-5b02-4a2e-91fa-47e7185dc5ec",
   "metadata": {},
   "outputs": [
    {
     "data": {
      "text/plain": [
       "51"
      ]
     },
     "execution_count": 61,
     "metadata": {},
     "output_type": "execute_result"
    }
   ],
   "source": [
    "df_emp.Age.max()"
   ]
  },
  {
   "cell_type": "code",
   "execution_count": 63,
   "id": "f31eedaf-2a36-440c-bed4-67185fc7d724",
   "metadata": {},
   "outputs": [
    {
     "data": {
      "text/plain": [
       "3"
      ]
     },
     "execution_count": 63,
     "metadata": {},
     "output_type": "execute_result"
    }
   ],
   "source": [
    "df_emp.BusinessTravel.nunique()"
   ]
  },
  {
   "cell_type": "code",
   "execution_count": 65,
   "id": "05cc0021-00d2-4efa-bde8-a00d77475647",
   "metadata": {},
   "outputs": [
    {
     "data": {
      "text/plain": [
       "array(['Some Travel', 'No Travel ', 'Frequent Traveller'], dtype=object)"
      ]
     },
     "execution_count": 65,
     "metadata": {},
     "output_type": "execute_result"
    }
   ],
   "source": [
    "df_emp.BusinessTravel.unique()"
   ]
  },
  {
   "cell_type": "code",
   "execution_count": 67,
   "id": "759d8028-ee33-4c7b-90c1-52c17677a1f7",
   "metadata": {},
   "outputs": [
    {
     "data": {
      "text/plain": [
       "3"
      ]
     },
     "execution_count": 67,
     "metadata": {},
     "output_type": "execute_result"
    }
   ],
   "source": [
    "df_emp.Department.nunique()"
   ]
  },
  {
   "cell_type": "code",
   "execution_count": 69,
   "id": "54caf04e-cbe8-427d-b5d3-a36802f0de43",
   "metadata": {},
   "outputs": [
    {
     "data": {
      "text/plain": [
       "array(['Sales', 'Human Resources', 'Technology'], dtype=object)"
      ]
     },
     "execution_count": 69,
     "metadata": {},
     "output_type": "execute_result"
    }
   ],
   "source": [
    "df_emp.Department.unique()"
   ]
  },
  {
   "cell_type": "code",
   "execution_count": 73,
   "id": "64845e54-60cf-47a7-bbbf-b4d6fd23b5c9",
   "metadata": {},
   "outputs": [
    {
     "data": {
      "text/plain": [
       "45"
      ]
     },
     "execution_count": 73,
     "metadata": {},
     "output_type": "execute_result"
    }
   ],
   "source": [
    "df_emp['DistanceFromHome (KM)'].nunique()"
   ]
  },
  {
   "cell_type": "code",
   "execution_count": 75,
   "id": "91e06d7f-c15b-4611-8dfb-940578f55b22",
   "metadata": {},
   "outputs": [
    {
     "data": {
      "text/plain": [
       "1"
      ]
     },
     "execution_count": 75,
     "metadata": {},
     "output_type": "execute_result"
    }
   ],
   "source": [
    "df_emp['DistanceFromHome (KM)'].min()"
   ]
  },
  {
   "cell_type": "code",
   "execution_count": 77,
   "id": "f4aa571f-761c-4119-b522-3acff61a1cc8",
   "metadata": {},
   "outputs": [
    {
     "data": {
      "text/plain": [
       "45"
      ]
     },
     "execution_count": 77,
     "metadata": {},
     "output_type": "execute_result"
    }
   ],
   "source": [
    "df_emp['DistanceFromHome (KM)'].max()"
   ]
  },
  {
   "cell_type": "code",
   "execution_count": 79,
   "id": "1175bd43-7d54-4bf9-84bd-05175bcc083b",
   "metadata": {},
   "outputs": [
    {
     "data": {
      "text/plain": [
       "3"
      ]
     },
     "execution_count": 79,
     "metadata": {},
     "output_type": "execute_result"
    }
   ],
   "source": [
    "df_emp.State.nunique()"
   ]
  },
  {
   "cell_type": "code",
   "execution_count": 81,
   "id": "d749dd9c-4dbf-48a8-92f8-87cf6248bbea",
   "metadata": {},
   "outputs": [
    {
     "data": {
      "text/plain": [
       "array(['IL', 'CA', 'NY'], dtype=object)"
      ]
     },
     "execution_count": 81,
     "metadata": {},
     "output_type": "execute_result"
    }
   ],
   "source": [
    "df_emp.State.unique()"
   ]
  },
  {
   "cell_type": "code",
   "execution_count": 83,
   "id": "a40e4494-7291-45a0-aaa9-4c24274bc391",
   "metadata": {},
   "outputs": [
    {
     "data": {
      "text/plain": [
       "7"
      ]
     },
     "execution_count": 83,
     "metadata": {},
     "output_type": "execute_result"
    }
   ],
   "source": [
    "df_emp.Ethnicity.nunique()"
   ]
  },
  {
   "cell_type": "code",
   "execution_count": 85,
   "id": "18a6537e-98f5-439b-94ff-b31bba5a45f6",
   "metadata": {},
   "outputs": [
    {
     "data": {
      "text/plain": [
       "array(['White', 'Asian or Asian American',\n",
       "       'Mixed or multiple ethnic groups', 'Black or African American',\n",
       "       'Native Hawaiian ', 'Other ', 'American Indian or Alaska Native'],\n",
       "      dtype=object)"
      ]
     },
     "execution_count": 85,
     "metadata": {},
     "output_type": "execute_result"
    }
   ],
   "source": [
    "df_emp.Ethnicity.unique()"
   ]
  },
  {
   "cell_type": "code",
   "execution_count": 89,
   "id": "9903e28e-c358-40b9-be14-94718777a130",
   "metadata": {},
   "outputs": [
    {
     "data": {
      "text/plain": [
       "5"
      ]
     },
     "execution_count": 89,
     "metadata": {},
     "output_type": "execute_result"
    }
   ],
   "source": [
    "df_emp.Education.nunique()"
   ]
  },
  {
   "cell_type": "code",
   "execution_count": 91,
   "id": "7289a363-4001-4e43-adf9-d13c3305fc9d",
   "metadata": {},
   "outputs": [
    {
     "data": {
      "text/plain": [
       "array([5, 4, 3, 2, 1], dtype=int64)"
      ]
     },
     "execution_count": 91,
     "metadata": {},
     "output_type": "execute_result"
    }
   ],
   "source": [
    "df_emp.Education.unique()"
   ]
  },
  {
   "cell_type": "code",
   "execution_count": 95,
   "id": "fdf172db-8f3f-478f-8e86-ed904b55e3a7",
   "metadata": {},
   "outputs": [
    {
     "data": {
      "text/plain": [
       "9"
      ]
     },
     "execution_count": 95,
     "metadata": {},
     "output_type": "execute_result"
    }
   ],
   "source": [
    "df_emp.EducationField.nunique()"
   ]
  },
  {
   "cell_type": "code",
   "execution_count": 97,
   "id": "e6a2b846-d628-4052-9201-96c3df289ab8",
   "metadata": {},
   "outputs": [
    {
     "data": {
      "text/plain": [
       "array(['Marketing', 'Marketing ', 'Computer Science', 'Technical Degree',\n",
       "       'Information Systems', 'Other', 'Economics', 'Human Resources',\n",
       "       'Business Studies'], dtype=object)"
      ]
     },
     "execution_count": 97,
     "metadata": {},
     "output_type": "execute_result"
    }
   ],
   "source": [
    "df_emp.EducationField.unique()"
   ]
  },
  {
   "cell_type": "code",
   "execution_count": 99,
   "id": "5ba377d7-d73f-48e5-a9b5-0deb4a8d981c",
   "metadata": {},
   "outputs": [
    {
     "data": {
      "text/plain": [
       "13"
      ]
     },
     "execution_count": 99,
     "metadata": {},
     "output_type": "execute_result"
    }
   ],
   "source": [
    "df_emp.JobRole.nunique()"
   ]
  },
  {
   "cell_type": "code",
   "execution_count": 101,
   "id": "a46c0f98-2f85-462e-ae93-e1a1564b863d",
   "metadata": {},
   "outputs": [
    {
     "data": {
      "text/plain": [
       "array(['Sales Executive', 'HR Business Partner', 'Engineering Manager',\n",
       "       'Recruiter', 'Data Scientist', 'Machine Learning Engineer',\n",
       "       'Manager', 'Software Engineer', 'Senior Software Engineer',\n",
       "       'Sales Representative', 'Analytics Manager', 'HR Executive',\n",
       "       'HR Manager'], dtype=object)"
      ]
     },
     "execution_count": 101,
     "metadata": {},
     "output_type": "execute_result"
    }
   ],
   "source": [
    "df_emp.JobRole.unique()"
   ]
  },
  {
   "cell_type": "code",
   "execution_count": 103,
   "id": "bc5e35f4-e6bb-4568-bb2c-f42fcd79c779",
   "metadata": {},
   "outputs": [
    {
     "data": {
      "text/plain": [
       "3"
      ]
     },
     "execution_count": 103,
     "metadata": {},
     "output_type": "execute_result"
    }
   ],
   "source": [
    "df_emp.MaritalStatus.nunique()"
   ]
  },
  {
   "cell_type": "code",
   "execution_count": 105,
   "id": "ba820bd1-6968-4597-8e01-ac18925fbe29",
   "metadata": {},
   "outputs": [
    {
     "data": {
      "text/plain": [
       "array(['Divorced', 'Single', 'Married'], dtype=object)"
      ]
     },
     "execution_count": 105,
     "metadata": {},
     "output_type": "execute_result"
    }
   ],
   "source": [
    "df_emp.MaritalStatus.unique()"
   ]
  },
  {
   "cell_type": "code",
   "execution_count": 107,
   "id": "27aaa00c-bda4-4af0-95bc-863b4682e127",
   "metadata": {},
   "outputs": [
    {
     "data": {
      "text/plain": [
       "array([102059, 157718, 309964, ...,  63375,  46521,  38258], dtype=int64)"
      ]
     },
     "execution_count": 107,
     "metadata": {},
     "output_type": "execute_result"
    }
   ],
   "source": [
    "df_emp.Salary.unique()"
   ]
  },
  {
   "cell_type": "code",
   "execution_count": 109,
   "id": "1545125a-6f5c-4ddf-b82f-5988ca2ecb33",
   "metadata": {},
   "outputs": [
    {
     "data": {
      "text/plain": [
       "20387"
      ]
     },
     "execution_count": 109,
     "metadata": {},
     "output_type": "execute_result"
    }
   ],
   "source": [
    "df_emp.Salary.min()"
   ]
  },
  {
   "cell_type": "code",
   "execution_count": 111,
   "id": "e2f86067-bf0c-4e63-8d1a-f3a4e3a79d31",
   "metadata": {},
   "outputs": [
    {
     "data": {
      "text/plain": [
       "547204"
      ]
     },
     "execution_count": 111,
     "metadata": {},
     "output_type": "execute_result"
    }
   ],
   "source": [
    "df_emp.Salary.max()"
   ]
  },
  {
   "cell_type": "code",
   "execution_count": 113,
   "id": "8c5b0bc8-2b62-4e3e-ae8f-958c5a785750",
   "metadata": {},
   "outputs": [
    {
     "data": {
      "text/plain": [
       "array([1, 0, 2, 3], dtype=int64)"
      ]
     },
     "execution_count": 113,
     "metadata": {},
     "output_type": "execute_result"
    }
   ],
   "source": [
    "df_emp.StockOptionLevel.unique()"
   ]
  },
  {
   "cell_type": "code",
   "execution_count": 115,
   "id": "062355f6-5469-41c4-834f-a54f3780b391",
   "metadata": {},
   "outputs": [
    {
     "data": {
      "text/plain": [
       "array(['No', 'Yes'], dtype=object)"
      ]
     },
     "execution_count": 115,
     "metadata": {},
     "output_type": "execute_result"
    }
   ],
   "source": [
    "df_emp.OverTime.unique()"
   ]
  },
  {
   "cell_type": "code",
   "execution_count": 117,
   "id": "b048184d-85c8-4a9a-ae33-3cfa8726c0d3",
   "metadata": {},
   "outputs": [
    {
     "data": {
      "text/plain": [
       "'2012-01-03'"
      ]
     },
     "execution_count": 117,
     "metadata": {},
     "output_type": "execute_result"
    }
   ],
   "source": [
    "df_emp.HireDate.min()"
   ]
  },
  {
   "cell_type": "code",
   "execution_count": 119,
   "id": "d7a25c87-6691-4b63-9486-261801b9b02f",
   "metadata": {},
   "outputs": [
    {
     "data": {
      "text/plain": [
       "'2022-12-31'"
      ]
     },
     "execution_count": 119,
     "metadata": {},
     "output_type": "execute_result"
    }
   ],
   "source": [
    "df_emp.HireDate.max()"
   ]
  },
  {
   "cell_type": "code",
   "execution_count": 121,
   "id": "2aa246f7-f244-4764-95d3-abcd42c698d0",
   "metadata": {},
   "outputs": [
    {
     "data": {
      "text/plain": [
       "2"
      ]
     },
     "execution_count": 121,
     "metadata": {},
     "output_type": "execute_result"
    }
   ],
   "source": [
    "df_emp.Attrition.nunique()"
   ]
  },
  {
   "cell_type": "code",
   "execution_count": 123,
   "id": "08d6dff7-e2b9-4b20-b938-e77ac117cfdf",
   "metadata": {},
   "outputs": [
    {
     "data": {
      "text/plain": [
       "array(['No', 'Yes'], dtype=object)"
      ]
     },
     "execution_count": 123,
     "metadata": {},
     "output_type": "execute_result"
    }
   ],
   "source": [
    "df_emp.Attrition.unique()"
   ]
  },
  {
   "cell_type": "code",
   "execution_count": 125,
   "id": "9b797fb3-68c9-4280-b259-0d9a6339d6e9",
   "metadata": {},
   "outputs": [
    {
     "data": {
      "text/plain": [
       "array([10,  6,  8,  5,  7,  9,  2,  4,  3,  1,  0], dtype=int64)"
      ]
     },
     "execution_count": 125,
     "metadata": {},
     "output_type": "execute_result"
    }
   ],
   "source": [
    "df_emp.YearsAtCompany.unique()"
   ]
  },
  {
   "cell_type": "code",
   "execution_count": 129,
   "id": "828b8872-b942-485c-851e-049e5c4b848c",
   "metadata": {},
   "outputs": [
    {
     "data": {
      "text/plain": [
       "0"
      ]
     },
     "execution_count": 129,
     "metadata": {},
     "output_type": "execute_result"
    }
   ],
   "source": [
    "df_emp.YearsAtCompany.min()"
   ]
  },
  {
   "cell_type": "code",
   "execution_count": 131,
   "id": "d85f9891-a631-4d06-8af1-3760fd64a866",
   "metadata": {},
   "outputs": [
    {
     "data": {
      "text/plain": [
       "10"
      ]
     },
     "execution_count": 131,
     "metadata": {},
     "output_type": "execute_result"
    }
   ],
   "source": [
    "df_emp.YearsAtCompany.max()"
   ]
  },
  {
   "cell_type": "code",
   "execution_count": 127,
   "id": "d8290387-2a5b-4f99-a6d0-873d0441c0bf",
   "metadata": {},
   "outputs": [
    {
     "data": {
      "text/plain": [
       "array([ 4,  6, 10,  1,  3,  2,  5,  7,  8,  9,  0], dtype=int64)"
      ]
     },
     "execution_count": 127,
     "metadata": {},
     "output_type": "execute_result"
    }
   ],
   "source": [
    "df_emp.YearsInMostRecentRole.unique()"
   ]
  },
  {
   "cell_type": "code",
   "execution_count": 133,
   "id": "0d6d3546-113a-459a-b5b9-e7e72b2320df",
   "metadata": {},
   "outputs": [
    {
     "data": {
      "text/plain": [
       "0"
      ]
     },
     "execution_count": 133,
     "metadata": {},
     "output_type": "execute_result"
    }
   ],
   "source": [
    "df_emp.YearsInMostRecentRole.min()"
   ]
  },
  {
   "cell_type": "code",
   "execution_count": 135,
   "id": "a8093e3e-afc3-4046-aa4d-5136c551daac",
   "metadata": {},
   "outputs": [
    {
     "data": {
      "text/plain": [
       "10"
      ]
     },
     "execution_count": 135,
     "metadata": {},
     "output_type": "execute_result"
    }
   ],
   "source": [
    "df_emp.YearsInMostRecentRole.max()"
   ]
  },
  {
   "cell_type": "code",
   "execution_count": 149,
   "id": "24f4059e-c09e-44cb-a979-275a9e4c5855",
   "metadata": {},
   "outputs": [
    {
     "data": {
      "text/plain": [
       "0"
      ]
     },
     "execution_count": 149,
     "metadata": {},
     "output_type": "execute_result"
    }
   ],
   "source": [
    "df_emp.YearsSinceLastPromotion.min()"
   ]
  },
  {
   "cell_type": "code",
   "execution_count": 151,
   "id": "8887db1b-1492-4d40-8541-0a1d58f268ec",
   "metadata": {},
   "outputs": [
    {
     "data": {
      "text/plain": [
       "10"
      ]
     },
     "execution_count": 151,
     "metadata": {},
     "output_type": "execute_result"
    }
   ],
   "source": [
    "df_emp.YearsSinceLastPromotion.max()"
   ]
  },
  {
   "cell_type": "code",
   "execution_count": 145,
   "id": "6fa61b71-b994-4a9d-b9c6-6b33eb74a877",
   "metadata": {},
   "outputs": [
    {
     "data": {
      "text/plain": [
       "0"
      ]
     },
     "execution_count": 145,
     "metadata": {},
     "output_type": "execute_result"
    }
   ],
   "source": [
    "df_emp.YearsWithCurrManager.min()"
   ]
  },
  {
   "cell_type": "code",
   "execution_count": 147,
   "id": "5de0a121-b32f-4d76-875f-4fa3cb2abb64",
   "metadata": {},
   "outputs": [
    {
     "data": {
      "text/plain": [
       "10"
      ]
     },
     "execution_count": 147,
     "metadata": {},
     "output_type": "execute_result"
    }
   ],
   "source": [
    "df_emp.YearsWithCurrManager.max()"
   ]
  },
  {
   "cell_type": "code",
   "execution_count": null,
   "id": "1515bdb3-5a00-4ad4-9021-b3e7acab15ba",
   "metadata": {},
   "outputs": [],
   "source": []
  }
 ],
 "metadata": {
  "kernelspec": {
   "display_name": "Python 3 (ipykernel)",
   "language": "python",
   "name": "python3"
  },
  "language_info": {
   "codemirror_mode": {
    "name": "ipython",
    "version": 3
   },
   "file_extension": ".py",
   "mimetype": "text/x-python",
   "name": "python",
   "nbconvert_exporter": "python",
   "pygments_lexer": "ipython3",
   "version": "3.11.4"
  }
 },
 "nbformat": 4,
 "nbformat_minor": 5
}
