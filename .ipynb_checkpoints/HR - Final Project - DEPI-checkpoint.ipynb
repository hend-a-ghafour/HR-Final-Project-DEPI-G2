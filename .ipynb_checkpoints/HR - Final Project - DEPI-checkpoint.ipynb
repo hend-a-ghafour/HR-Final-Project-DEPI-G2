{
 "cells": [
  {
   "cell_type": "markdown",
   "id": "89e05a66-a4c0-4bcd-aa77-5879c6262776",
   "metadata": {},
   "source": [
    "1.  <a href=\"#intro\">Dataset Description</a>\n",
    "2.  <a href=\"#asses\">Data Assessing</a>\n",
    "    - <a href=\"#emp\">Employee.csv</a>\n",
    "    - <a href=\"#edu\">EducationLevel.csv</a>\n",
    "    - <a href=\"#perform\">_PerformanceRating.csv</a>\n",
    "    - <a href=\"#satis\">_SatisfiedLevel.csv</a>\n",
    "    - <a href=\"#rating\">_RatingLevel.csv</a>\n",
    "3.  <a href=\"#clean\">Data Cleaning</a>\n",
    "    - <a href=\"#c_emp\">Employee.csv</a>\n",
    "    - <a href=\"#c_edu\">EducationLevel.csv</a>\n",
    "    - <a href=\"#c_perform\">_PerformanceRating.csv</a>\n",
    "    - <a href=\"#c_satis\">_SatisfiedLevel.csv</a>\n",
    "    - <a href=\"#c_rating\">_RatingLevel.csv</a>"
   ]
  },
  {
   "cell_type": "code",
   "execution_count": null,
   "id": "d197f073-1389-45ba-b863-bbbb1e9e9577",
   "metadata": {},
   "outputs": [],
   "source": []
  },
  {
   "cell_type": "code",
   "execution_count": null,
   "id": "0b51c643-a28e-4375-b825-873f5511dd36",
   "metadata": {},
   "outputs": [],
   "source": []
  },
  {
   "cell_type": "markdown",
   "id": "f61ee182-a941-45e0-94a1-e4f0320bb194",
   "metadata": {},
   "source": [
    "<a id='intro'></a>\n",
    "### Dataset Description:"
   ]
  },
  {
   "cell_type": "markdown",
   "id": "f9d66bf0-ed65-4aa2-aa68-a39fbaa4828c",
   "metadata": {},
   "source": [
    "### Dataset Introduction\n",
    "This dataset is designed to provide comprehensive insights into employee performance and satisfaction within the organization. It consists of five interrelated tables, each serving a specific purpose in analyzing various aspects of employee experience and performance metrics.\n",
    "\n",
    "#### 1. Employee Table ( _Employee.csv_):\n",
    "\n",
    "This foundational table contains detailed information about each employee, including personal attributes such as name, gender, and salary, as well as professional details like position and educational level. This information is critical for understanding the demographic and professional context of the workforce.\n",
    "\n",
    "#### 2. Educational Level Table (_EducationLevel.csv_): \n",
    "This table categorizes employee educational backgrounds into five distinct levels, ranging from \"No Formal Qualifications\" to \"Doctorate.\" It serves as a reference for interpreting the education level recorded in the Employee table, facilitating analysis of how educational attainment correlates with performance and satisfaction.\n",
    "\n",
    "#### 3. Performance Rating Table (_PerformanceRating.csv_): \n",
    "This table captures performance evaluations across several dimensions, including Environment Satisfaction, Job Satisfaction, Relationship Satisfaction, Work-Life Balance, Self Rating, and Manager Rating. Each of these metrics is rated on a scale of 1 to 5, enabling a quantitative assessment of employee performance and satisfaction.\n",
    "\n",
    "#### 4. Satisfied Level Table (_SatisfiedLevel.csv_): \n",
    "This table categorizes employee satisfaction into five distinct levels, ranging from \"Very Dissatisfied\" to \"Very Satisfied.\" It serves as a reference for interpreting the satisfaction ratings recorded in the Performance Rating table.\n",
    "\n",
    "#### 5. Rating Table (_RatingLevel.csv_): \n",
    "Similar to the Satisfied Level Table, this table provides definitions for performance ratings, ranging from \"Unacceptable\" to \"Above and Beyond.\" This allows for a standardized assessment of employee performance based on managerial evaluations.\n",
    "\n",
    "#### ***Integration:***\n",
    "By linking the Performance Rating table with the Satisfied Level and Rating tables, this dataset enables a nuanced analysis of how employee perceptions of their work environment and self-assessments align with managerial evaluations.\n",
    "\n",
    "##### _Overall, this dataset is a valuable resource for understanding employee dynamics, assessing satisfaction levels, and identifying areas for improvement within the organization. Through careful analysis, it can inform strategies aimed at enhancing employee engagement, productivity, and overall workplace satisfaction._"
   ]
  },
  {
   "cell_type": "code",
   "execution_count": null,
   "id": "83d83c76-1602-4479-a0c2-9552e673a4aa",
   "metadata": {},
   "outputs": [],
   "source": []
  },
  {
   "cell_type": "code",
   "execution_count": null,
   "id": "f40c4670-3b0f-43c2-a65e-11fdb5a49e3c",
   "metadata": {},
   "outputs": [],
   "source": []
  },
  {
   "cell_type": "code",
   "execution_count": 490,
   "id": "70eb35cc-e6aa-474d-b8ea-a6613ff7d8ea",
   "metadata": {},
   "outputs": [],
   "source": [
    "# Importing Liberaries:\n",
    "import pandas as pd\n",
    "import numpy as np\n",
    "import matplotlib.pyplot as plt\n",
    "import seaborn as sns\n",
    "import pyodbc\n",
    "from sqlalchemy import create_engine\n"
   ]
  },
  {
   "cell_type": "markdown",
   "id": "7e1bf4b6-b684-4714-b200-0a72c66e4598",
   "metadata": {},
   "source": [
    "<a id='asses'></a>\n",
    "## Data Assessing:\n",
    "### _General Properties:_"
   ]
  },
  {
   "cell_type": "markdown",
   "id": "a7f31a96-934e-46ae-9d51-1d9937bebe22",
   "metadata": {},
   "source": [
    "<a id='emp'></a>\n",
    "#### ***1. Employee Table:***"
   ]
  },
  {
   "cell_type": "code",
   "execution_count": 493,
   "id": "ea7b4a3c-ab10-4e4e-b8d2-e0cf82ad7cd8",
   "metadata": {},
   "outputs": [
    {
     "data": {
      "text/html": [
       "<div>\n",
       "<style scoped>\n",
       "    .dataframe tbody tr th:only-of-type {\n",
       "        vertical-align: middle;\n",
       "    }\n",
       "\n",
       "    .dataframe tbody tr th {\n",
       "        vertical-align: top;\n",
       "    }\n",
       "\n",
       "    .dataframe thead th {\n",
       "        text-align: right;\n",
       "    }\n",
       "</style>\n",
       "<table border=\"1\" class=\"dataframe\">\n",
       "  <thead>\n",
       "    <tr style=\"text-align: right;\">\n",
       "      <th></th>\n",
       "      <th>EmployeeID</th>\n",
       "      <th>FirstName</th>\n",
       "      <th>LastName</th>\n",
       "      <th>Gender</th>\n",
       "      <th>Age</th>\n",
       "      <th>BusinessTravel</th>\n",
       "      <th>Department</th>\n",
       "      <th>DistanceFromHome (KM)</th>\n",
       "      <th>State</th>\n",
       "      <th>Ethnicity</th>\n",
       "      <th>...</th>\n",
       "      <th>MaritalStatus</th>\n",
       "      <th>Salary</th>\n",
       "      <th>StockOptionLevel</th>\n",
       "      <th>OverTime</th>\n",
       "      <th>HireDate</th>\n",
       "      <th>Attrition</th>\n",
       "      <th>YearsAtCompany</th>\n",
       "      <th>YearsInMostRecentRole</th>\n",
       "      <th>YearsSinceLastPromotion</th>\n",
       "      <th>YearsWithCurrManager</th>\n",
       "    </tr>\n",
       "  </thead>\n",
       "  <tbody>\n",
       "    <tr>\n",
       "      <th>0</th>\n",
       "      <td>3012-1A41</td>\n",
       "      <td>Leonelle</td>\n",
       "      <td>Simco</td>\n",
       "      <td>Female</td>\n",
       "      <td>30</td>\n",
       "      <td>Some Travel</td>\n",
       "      <td>Sales</td>\n",
       "      <td>27</td>\n",
       "      <td>IL</td>\n",
       "      <td>White</td>\n",
       "      <td>...</td>\n",
       "      <td>Divorced</td>\n",
       "      <td>102059</td>\n",
       "      <td>1</td>\n",
       "      <td>No</td>\n",
       "      <td>2012-01-03</td>\n",
       "      <td>No</td>\n",
       "      <td>10</td>\n",
       "      <td>4</td>\n",
       "      <td>9</td>\n",
       "      <td>7</td>\n",
       "    </tr>\n",
       "    <tr>\n",
       "      <th>1</th>\n",
       "      <td>CBCB-9C9D</td>\n",
       "      <td>Leonerd</td>\n",
       "      <td>Aland</td>\n",
       "      <td>Male</td>\n",
       "      <td>38</td>\n",
       "      <td>Some Travel</td>\n",
       "      <td>Sales</td>\n",
       "      <td>23</td>\n",
       "      <td>CA</td>\n",
       "      <td>White</td>\n",
       "      <td>...</td>\n",
       "      <td>Single</td>\n",
       "      <td>157718</td>\n",
       "      <td>0</td>\n",
       "      <td>Yes</td>\n",
       "      <td>2012-01-04</td>\n",
       "      <td>No</td>\n",
       "      <td>10</td>\n",
       "      <td>6</td>\n",
       "      <td>10</td>\n",
       "      <td>0</td>\n",
       "    </tr>\n",
       "    <tr>\n",
       "      <th>2</th>\n",
       "      <td>95D7-1CE9</td>\n",
       "      <td>Ahmed</td>\n",
       "      <td>Sykes</td>\n",
       "      <td>Male</td>\n",
       "      <td>43</td>\n",
       "      <td>Some Travel</td>\n",
       "      <td>Human Resources</td>\n",
       "      <td>29</td>\n",
       "      <td>CA</td>\n",
       "      <td>Asian or Asian American</td>\n",
       "      <td>...</td>\n",
       "      <td>Married</td>\n",
       "      <td>309964</td>\n",
       "      <td>1</td>\n",
       "      <td>No</td>\n",
       "      <td>2012-01-04</td>\n",
       "      <td>No</td>\n",
       "      <td>10</td>\n",
       "      <td>6</td>\n",
       "      <td>10</td>\n",
       "      <td>8</td>\n",
       "    </tr>\n",
       "    <tr>\n",
       "      <th>3</th>\n",
       "      <td>47A0-559B</td>\n",
       "      <td>Ermentrude</td>\n",
       "      <td>Berrie</td>\n",
       "      <td>Non-Binary</td>\n",
       "      <td>39</td>\n",
       "      <td>Some Travel</td>\n",
       "      <td>Technology</td>\n",
       "      <td>12</td>\n",
       "      <td>IL</td>\n",
       "      <td>White</td>\n",
       "      <td>...</td>\n",
       "      <td>Married</td>\n",
       "      <td>293132</td>\n",
       "      <td>0</td>\n",
       "      <td>No</td>\n",
       "      <td>2012-01-05</td>\n",
       "      <td>No</td>\n",
       "      <td>10</td>\n",
       "      <td>10</td>\n",
       "      <td>10</td>\n",
       "      <td>0</td>\n",
       "    </tr>\n",
       "    <tr>\n",
       "      <th>4</th>\n",
       "      <td>42CC-040A</td>\n",
       "      <td>Stace</td>\n",
       "      <td>Savege</td>\n",
       "      <td>Female</td>\n",
       "      <td>29</td>\n",
       "      <td>Some Travel</td>\n",
       "      <td>Human Resources</td>\n",
       "      <td>29</td>\n",
       "      <td>CA</td>\n",
       "      <td>White</td>\n",
       "      <td>...</td>\n",
       "      <td>Single</td>\n",
       "      <td>49606</td>\n",
       "      <td>0</td>\n",
       "      <td>No</td>\n",
       "      <td>2012-01-05</td>\n",
       "      <td>Yes</td>\n",
       "      <td>6</td>\n",
       "      <td>1</td>\n",
       "      <td>1</td>\n",
       "      <td>6</td>\n",
       "    </tr>\n",
       "  </tbody>\n",
       "</table>\n",
       "<p>5 rows × 23 columns</p>\n",
       "</div>"
      ],
      "text/plain": [
       "  EmployeeID   FirstName LastName      Gender  Age BusinessTravel  \\\n",
       "0  3012-1A41    Leonelle    Simco      Female   30    Some Travel   \n",
       "1  CBCB-9C9D     Leonerd    Aland        Male   38    Some Travel   \n",
       "2  95D7-1CE9       Ahmed    Sykes        Male   43    Some Travel   \n",
       "3  47A0-559B  Ermentrude   Berrie  Non-Binary   39    Some Travel   \n",
       "4  42CC-040A       Stace   Savege      Female   29    Some Travel   \n",
       "\n",
       "        Department  DistanceFromHome (KM) State                Ethnicity  ...  \\\n",
       "0            Sales                     27    IL                    White  ...   \n",
       "1            Sales                     23    CA                    White  ...   \n",
       "2  Human Resources                     29    CA  Asian or Asian American  ...   \n",
       "3       Technology                     12    IL                    White  ...   \n",
       "4  Human Resources                     29    CA                    White  ...   \n",
       "\n",
       "   MaritalStatus  Salary StockOptionLevel OverTime    HireDate  Attrition  \\\n",
       "0       Divorced  102059                1       No  2012-01-03         No   \n",
       "1         Single  157718                0      Yes  2012-01-04         No   \n",
       "2        Married  309964                1       No  2012-01-04         No   \n",
       "3        Married  293132                0       No  2012-01-05         No   \n",
       "4         Single   49606                0       No  2012-01-05        Yes   \n",
       "\n",
       "  YearsAtCompany YearsInMostRecentRole YearsSinceLastPromotion  \\\n",
       "0             10                     4                       9   \n",
       "1             10                     6                      10   \n",
       "2             10                     6                      10   \n",
       "3             10                    10                      10   \n",
       "4              6                     1                       1   \n",
       "\n",
       "   YearsWithCurrManager  \n",
       "0                     7  \n",
       "1                     0  \n",
       "2                     8  \n",
       "3                     0  \n",
       "4                     6  \n",
       "\n",
       "[5 rows x 23 columns]"
      ]
     },
     "execution_count": 493,
     "metadata": {},
     "output_type": "execute_result"
    }
   ],
   "source": [
    "# Load the Employee Dataset:\n",
    "df_emp= pd.read_csv(\"HR/Employee.csv\")\n",
    "df_emp.head()"
   ]
  },
  {
   "cell_type": "code",
   "execution_count": 494,
   "id": "a948d844-bded-458b-9e1d-ad61ae01acd4",
   "metadata": {},
   "outputs": [
    {
     "name": "stdout",
     "output_type": "stream",
     "text": [
      "<class 'pandas.core.frame.DataFrame'>\n",
      "RangeIndex: 1470 entries, 0 to 1469\n",
      "Data columns (total 23 columns):\n",
      " #   Column                   Non-Null Count  Dtype \n",
      "---  ------                   --------------  ----- \n",
      " 0   EmployeeID               1470 non-null   object\n",
      " 1   FirstName                1470 non-null   object\n",
      " 2   LastName                 1470 non-null   object\n",
      " 3   Gender                   1470 non-null   object\n",
      " 4   Age                      1470 non-null   int64 \n",
      " 5   BusinessTravel           1470 non-null   object\n",
      " 6   Department               1470 non-null   object\n",
      " 7   DistanceFromHome (KM)    1470 non-null   int64 \n",
      " 8   State                    1470 non-null   object\n",
      " 9   Ethnicity                1470 non-null   object\n",
      " 10  Education                1470 non-null   int64 \n",
      " 11  EducationField           1470 non-null   object\n",
      " 12  JobRole                  1470 non-null   object\n",
      " 13  MaritalStatus            1470 non-null   object\n",
      " 14  Salary                   1470 non-null   int64 \n",
      " 15  StockOptionLevel         1470 non-null   int64 \n",
      " 16  OverTime                 1470 non-null   object\n",
      " 17  HireDate                 1470 non-null   object\n",
      " 18  Attrition                1470 non-null   object\n",
      " 19  YearsAtCompany           1470 non-null   int64 \n",
      " 20  YearsInMostRecentRole    1470 non-null   int64 \n",
      " 21  YearsSinceLastPromotion  1470 non-null   int64 \n",
      " 22  YearsWithCurrManager     1470 non-null   int64 \n",
      "dtypes: int64(9), object(14)\n",
      "memory usage: 264.3+ KB\n"
     ]
    }
   ],
   "source": [
    "df_emp.info()"
   ]
  },
  {
   "cell_type": "code",
   "execution_count": 495,
   "id": "944f09c3-e032-4bb0-9b8e-67ea48959a43",
   "metadata": {},
   "outputs": [
    {
     "name": "stdout",
     "output_type": "stream",
     "text": [
      "The table has a shape of: (1470, 23)\n"
     ]
    }
   ],
   "source": [
    "print('The table has a shape of:',df_emp.shape)"
   ]
  },
  {
   "cell_type": "code",
   "execution_count": 496,
   "id": "29796c7e-2fbd-4199-a4eb-066be4074bbf",
   "metadata": {},
   "outputs": [
    {
     "name": "stdout",
     "output_type": "stream",
     "text": [
      "No NULL values in this table\n"
     ]
    }
   ],
   "source": [
    "if df_emp.isna().sum().sum()== 0:\n",
    "    print ('No NULL values in this table')\n",
    "else:\n",
    "    print('Total number of Null Values is: ',df_emp.isna().sum().sum())"
   ]
  },
  {
   "cell_type": "code",
   "execution_count": 497,
   "id": "c739ab44-bf2c-4e88-a3d4-b9f13e83481a",
   "metadata": {},
   "outputs": [
    {
     "name": "stdout",
     "output_type": "stream",
     "text": [
      "No DUPLICATED values in this table\n"
     ]
    }
   ],
   "source": [
    "if df_emp.duplicated().sum()== 0:\n",
    "    print ('No DUPLICATED values in this table')\n",
    "else:\n",
    "    print('Total number of Duplicated Values is: ',df_emp.duplicated().sum())"
   ]
  },
  {
   "cell_type": "code",
   "execution_count": 498,
   "id": "2e660dfc-76a3-43cd-965c-7898250e9480",
   "metadata": {},
   "outputs": [
    {
     "name": "stdout",
     "output_type": "stream",
     "text": [
      "The number of UNIQUE values in this table:\n",
      "\n",
      " EmployeeID                 1470\n",
      "FirstName                  1334\n",
      "LastName                   1441\n",
      "Gender                        4\n",
      "Age                          34\n",
      "BusinessTravel                3\n",
      "Department                    3\n",
      "DistanceFromHome (KM)        45\n",
      "State                         3\n",
      "Ethnicity                     7\n",
      "Education                     5\n",
      "EducationField                9\n",
      "JobRole                      13\n",
      "MaritalStatus                 3\n",
      "Salary                     1455\n",
      "StockOptionLevel              4\n",
      "OverTime                      2\n",
      "HireDate                   1192\n",
      "Attrition                     2\n",
      "YearsAtCompany               11\n",
      "YearsInMostRecentRole        11\n",
      "YearsSinceLastPromotion      11\n",
      "YearsWithCurrManager         11\n",
      "dtype: int64\n"
     ]
    }
   ],
   "source": [
    "print('The number of UNIQUE values in this table:\\n\\n',df_emp.nunique())"
   ]
  },
  {
   "cell_type": "code",
   "execution_count": 580,
   "id": "6c14b94b-3f99-42bf-993e-9bbc260a4bbc",
   "metadata": {},
   "outputs": [
    {
     "name": "stdout",
     "output_type": "stream",
     "text": [
      "\"Gender\" Categories:\n",
      " ['Female' 'Male' 'Non-Binary' 'Prefer Not To Say']\n",
      "\n",
      "\"BusinessTravel\" Categories:\n",
      " ['Some Travel' 'No Travel ' 'Frequent Traveller']\n",
      "\n",
      "\"Department\" Categories:\n",
      " ['Sales' 'Human Resources' 'Technology']\n",
      "\n",
      "\"State\" Categories:\n",
      " ['IL' 'CA' 'NY']\n",
      "\n",
      "\"Ethnicity\" Categories:\n",
      " ['White' 'Asian or Asian American' 'Mixed or multiple ethnic groups'\n",
      " 'Black or African American' 'Native Hawaiian ' 'Other '\n",
      " 'American Indian or Alaska Native']\n",
      "\n",
      "\"Education\" Categories:\n",
      " [1, 2, 3, 4, 5]\n",
      "\n",
      "\"EducationField\" Categories:\n",
      " ['Marketing' 'Marketing ' 'Computer Science' 'Technical Degree'\n",
      " 'Information Systems' 'Other' 'Economics' 'Human Resources'\n",
      " 'Business Studies']\n",
      "\n",
      "\"JobRole\" Categories:\n",
      " ['Sales Executive' 'HR Business Partner' 'Engineering Manager' 'Recruiter'\n",
      " 'Data Scientist' 'Machine Learning Engineer' 'Manager'\n",
      " 'Software Engineer' 'Senior Software Engineer' 'Sales Representative'\n",
      " 'Analytics Manager' 'HR Executive' 'HR Manager']\n",
      "\n",
      "\"MaritalStatus\" Categories:\n",
      " ['Divorced' 'Single' 'Married']\n",
      "\n",
      "\"StockOptionLevel\" Categories:\n",
      " [0, 1, 2, 3]\n",
      "\n",
      "\"OverTime\" Categories:\n",
      " ['No' 'Yes']\n",
      "\n",
      "\"Attrition\" Categories:\n",
      " ['No' 'Yes']\n"
     ]
    }
   ],
   "source": [
    "print('\"Gender\" Categories:\\n',df_emp.Gender.unique())\n",
    "print('\\n\"BusinessTravel\" Categories:\\n',df_emp.BusinessTravel.unique())\n",
    "print('\\n\"Department\" Categories:\\n',df_emp.Department.unique())\n",
    "print('\\n\"State\" Categories:\\n',df_emp.State.unique())\n",
    "print('\\n\"Ethnicity\" Categories:\\n',df_emp.Ethnicity.unique())\n",
    "print('\\n\"Education\" Categories:\\n',sorted(df_emp.Education.unique()))\n",
    "print('\\n\"EducationField\" Categories:\\n',df_emp.EducationField.unique())\n",
    "print('\\n\"JobRole\" Categories:\\n',df_emp.JobRole.unique())\n",
    "print('\\n\"MaritalStatus\" Categories:\\n',df_emp.MaritalStatus.unique())\n",
    "print('\\n\"StockOptionLevel\" Categories:\\n',sorted(df_emp.StockOptionLevel.unique()))\n",
    "print('\\n\"OverTime\" Categories:\\n',df_emp.OverTime.unique())\n",
    "print('\\n\"Attrition\" Categories:\\n',df_emp.Attrition.unique())"
   ]
  },
  {
   "cell_type": "code",
   "execution_count": 500,
   "id": "8701c33b-328a-48e5-bee1-64f7b989d6ce",
   "metadata": {},
   "outputs": [
    {
     "name": "stdout",
     "output_type": "stream",
     "text": [
      "Employee Ages are ranging from 18 to 51 Years\n"
     ]
    }
   ],
   "source": [
    "print(f'Employee Ages are ranging from {df_emp.Age.min()} to {df_emp.Age.max()} Years')"
   ]
  },
  {
   "cell_type": "code",
   "execution_count": 501,
   "id": "0a00186d-7464-42b1-a2d9-52443416b3c7",
   "metadata": {},
   "outputs": [
    {
     "name": "stdout",
     "output_type": "stream",
     "text": [
      "Home-Work Distance is ranging from 1 to 45 KM\n"
     ]
    }
   ],
   "source": [
    "print('Home-Work Distance is ranging from {} to {} KM'.format(df_emp['DistanceFromHome (KM)'].min(),df_emp['DistanceFromHome (KM)'].max()))"
   ]
  },
  {
   "cell_type": "code",
   "execution_count": 502,
   "id": "27aaa00c-bda4-4af0-95bc-863b4682e127",
   "metadata": {},
   "outputs": [
    {
     "name": "stdout",
     "output_type": "stream",
     "text": [
      "Salary is in the range of 20387 to 547204 USD/Year\n"
     ]
    }
   ],
   "source": [
    "print(f'Salary is in the range of {df_emp.Salary.min()} to {df_emp.Salary.max()} USD/Year')"
   ]
  },
  {
   "cell_type": "code",
   "execution_count": 503,
   "id": "b048184d-85c8-4a9a-ae33-3cfa8726c0d3",
   "metadata": {},
   "outputs": [
    {
     "name": "stdout",
     "output_type": "stream",
     "text": [
      "The recorded Employee Hire dates are starting from 2012-01-03 to 2022-12-31\n"
     ]
    }
   ],
   "source": [
    "print(f'The recorded Employee Hire dates are starting from {df_emp.HireDate.min()} to {df_emp.HireDate.max()}')"
   ]
  },
  {
   "cell_type": "code",
   "execution_count": 504,
   "id": "0b3cdcb2-0360-4079-91bf-63cbe26cae1c",
   "metadata": {},
   "outputs": [
    {
     "name": "stdout",
     "output_type": "stream",
     "text": [
      "The Working Span of each employee is ranging from less than a year to 10 Years\n"
     ]
    }
   ],
   "source": [
    "if df_emp.YearsAtCompany.min()== 0:\n",
    "    print(f'The Working Span of each employee is ranging from less than a year to {df_emp.YearsAtCompany.max()} Years')\n",
    "else:\n",
    "    print(f'The Working Span of each employee is ranging from {df_emp.YearsAtCompany.min()} to {df_emp.YearsAtCompany.max()} Years')"
   ]
  },
  {
   "cell_type": "code",
   "execution_count": 505,
   "id": "817ad22d-bdd1-4e37-abb6-24dbfce03bc1",
   "metadata": {},
   "outputs": [
    {
     "name": "stdout",
     "output_type": "stream",
     "text": [
      "The Time Spent in the current position for each employee is ranging from less than a year to 10 Years\n"
     ]
    }
   ],
   "source": [
    "if df_emp.YearsInMostRecentRole.min()== 0:\n",
    "    print(f'The Time Spent in the current position for each employee is ranging from less than a year to {df_emp.YearsInMostRecentRole.max()} Years')\n",
    "else:\n",
    "    print(f'The Time Spent in the current position for each employee is ranging from {df_emp.YearsInMostRecentRole.min()} to {df_emp.YearsInMostRecentRole.max()} Years')"
   ]
  },
  {
   "cell_type": "code",
   "execution_count": 506,
   "id": "6cc52ddb-09dc-40bc-803f-ec73cc4c52ff",
   "metadata": {},
   "outputs": [
    {
     "name": "stdout",
     "output_type": "stream",
     "text": [
      "The Promotion Gap for each employee is ranging from less than a year to 10 Years\n"
     ]
    }
   ],
   "source": [
    "if df_emp.YearsSinceLastPromotion.min()== 0:\n",
    "    print(f'The Promotion Gap for each employee is ranging from less than a year to {df_emp.YearsSinceLastPromotion.max()} Years')\n",
    "else:\n",
    "    print(f'The Promotion Gap for each employee is ranging from {df_emp.YearsSinceLastPromotion.min()} to {df_emp.YearsSinceLastPromotion.max()} Years')"
   ]
  },
  {
   "cell_type": "code",
   "execution_count": 507,
   "id": "fc0f2c48-fbed-4573-b882-3f5bf2dc894d",
   "metadata": {},
   "outputs": [
    {
     "name": "stdout",
     "output_type": "stream",
     "text": [
      "The Working Span of each employee under the current manager is ranging from less than a year to 10 Years\n"
     ]
    }
   ],
   "source": [
    "if df_emp.YearsWithCurrManager.min()== 0:\n",
    "    print(f'The Working Span of each employee under the current manager is ranging from less than a year to {df_emp.YearsWithCurrManager.max()} Years')\n",
    "else:\n",
    "    print(f'The Working Span of each employee under the current manager is ranging from {df_emp.YearsWithCurrManager.min()} to {df_emp.YearsWithCurrManager.max()} Years')"
   ]
  },
  {
   "cell_type": "code",
   "execution_count": 622,
   "id": "6a776e80-8762-4a10-95e6-9729b0674337",
   "metadata": {},
   "outputs": [
    {
     "data": {
      "text/html": [
       "<div>\n",
       "<style scoped>\n",
       "    .dataframe tbody tr th:only-of-type {\n",
       "        vertical-align: middle;\n",
       "    }\n",
       "\n",
       "    .dataframe tbody tr th {\n",
       "        vertical-align: top;\n",
       "    }\n",
       "\n",
       "    .dataframe thead th {\n",
       "        text-align: right;\n",
       "    }\n",
       "</style>\n",
       "<table border=\"1\" class=\"dataframe\">\n",
       "  <thead>\n",
       "    <tr style=\"text-align: right;\">\n",
       "      <th></th>\n",
       "      <th>EmployeeID</th>\n",
       "      <th>FirstName</th>\n",
       "      <th>LastName</th>\n",
       "      <th>Gender</th>\n",
       "      <th>Age</th>\n",
       "      <th>BusinessTravel</th>\n",
       "      <th>Department</th>\n",
       "      <th>DistanceFromHome (KM)</th>\n",
       "      <th>State</th>\n",
       "      <th>Ethnicity</th>\n",
       "      <th>...</th>\n",
       "      <th>MaritalStatus</th>\n",
       "      <th>Salary</th>\n",
       "      <th>StockOptionLevel</th>\n",
       "      <th>OverTime</th>\n",
       "      <th>HireDate</th>\n",
       "      <th>Attrition</th>\n",
       "      <th>YearsAtCompany</th>\n",
       "      <th>YearsInMostRecentRole</th>\n",
       "      <th>YearsSinceLastPromotion</th>\n",
       "      <th>YearsWithCurrManager</th>\n",
       "    </tr>\n",
       "  </thead>\n",
       "  <tbody>\n",
       "    <tr>\n",
       "      <th>0</th>\n",
       "      <td>3012-1A41</td>\n",
       "      <td>Leonelle</td>\n",
       "      <td>Simco</td>\n",
       "      <td>Female</td>\n",
       "      <td>30</td>\n",
       "      <td>Some Travel</td>\n",
       "      <td>Sales</td>\n",
       "      <td>27</td>\n",
       "      <td>IL</td>\n",
       "      <td>White</td>\n",
       "      <td>...</td>\n",
       "      <td>Divorced</td>\n",
       "      <td>102059</td>\n",
       "      <td>1</td>\n",
       "      <td>No</td>\n",
       "      <td>2012-01-03</td>\n",
       "      <td>No</td>\n",
       "      <td>10</td>\n",
       "      <td>4</td>\n",
       "      <td>9</td>\n",
       "      <td>7</td>\n",
       "    </tr>\n",
       "  </tbody>\n",
       "</table>\n",
       "<p>1 rows × 23 columns</p>\n",
       "</div>"
      ],
      "text/plain": [
       "  EmployeeID FirstName LastName  Gender  Age BusinessTravel Department  \\\n",
       "0  3012-1A41  Leonelle    Simco  Female   30    Some Travel      Sales   \n",
       "\n",
       "   DistanceFromHome (KM) State Ethnicity  ...  MaritalStatus  Salary  \\\n",
       "0                     27    IL     White  ...       Divorced  102059   \n",
       "\n",
       "  StockOptionLevel OverTime    HireDate  Attrition YearsAtCompany  \\\n",
       "0                1       No  2012-01-03         No             10   \n",
       "\n",
       "  YearsInMostRecentRole YearsSinceLastPromotion  YearsWithCurrManager  \n",
       "0                     4                       9                     7  \n",
       "\n",
       "[1 rows x 23 columns]"
      ]
     },
     "execution_count": 622,
     "metadata": {},
     "output_type": "execute_result"
    }
   ],
   "source": [
    "df_emp.head(1)"
   ]
  },
  {
   "cell_type": "code",
   "execution_count": 628,
   "id": "762b857c-ad62-41d9-9980-b9f0aee6104b",
   "metadata": {},
   "outputs": [
    {
     "data": {
      "text/html": [
       "<style type=\"text/css\">\n",
       "</style>\n",
       "<table id=\"T_ac21f\">\n",
       "  <thead>\n",
       "    <tr>\n",
       "      <th id=\"T_ac21f_level0_col0\" class=\"col_heading level0 col0\" >Gender</th>\n",
       "      <th id=\"T_ac21f_level0_col1\" class=\"col_heading level0 col1\" >Employee_count</th>\n",
       "    </tr>\n",
       "  </thead>\n",
       "  <tbody>\n",
       "    <tr>\n",
       "      <td id=\"T_ac21f_row0_col0\" class=\"data row0 col0\" >Female</td>\n",
       "      <td id=\"T_ac21f_row0_col1\" class=\"data row0 col1\" >675</td>\n",
       "    </tr>\n",
       "    <tr>\n",
       "      <td id=\"T_ac21f_row1_col0\" class=\"data row1 col0\" >Male</td>\n",
       "      <td id=\"T_ac21f_row1_col1\" class=\"data row1 col1\" >651</td>\n",
       "    </tr>\n",
       "    <tr>\n",
       "      <td id=\"T_ac21f_row2_col0\" class=\"data row2 col0\" >Non-Binary</td>\n",
       "      <td id=\"T_ac21f_row2_col1\" class=\"data row2 col1\" >124</td>\n",
       "    </tr>\n",
       "    <tr>\n",
       "      <td id=\"T_ac21f_row3_col0\" class=\"data row3 col0\" >Prefer Not To Say</td>\n",
       "      <td id=\"T_ac21f_row3_col1\" class=\"data row3 col1\" >20</td>\n",
       "    </tr>\n",
       "  </tbody>\n",
       "</table>\n"
      ],
      "text/plain": [
       "<pandas.io.formats.style.Styler at 0x1fd0972f010>"
      ]
     },
     "execution_count": 628,
     "metadata": {},
     "output_type": "execute_result"
    }
   ],
   "source": [
    "# Count of Employees according to Gender Clasification:\n",
    "df_emp.groupby('Gender').EmployeeID.nunique().reset_index().rename(columns={'EmployeeID':'Employee_count'}).style.hide()"
   ]
  },
  {
   "cell_type": "code",
   "execution_count": 630,
   "id": "f7fd716d-016f-4f29-ac36-e2bf51160e37",
   "metadata": {},
   "outputs": [
    {
     "data": {
      "text/html": [
       "<style type=\"text/css\">\n",
       "</style>\n",
       "<table id=\"T_e9cbb\">\n",
       "  <thead>\n",
       "    <tr>\n",
       "      <th id=\"T_e9cbb_level0_col0\" class=\"col_heading level0 col0\" >BusinessTravel</th>\n",
       "      <th id=\"T_e9cbb_level0_col1\" class=\"col_heading level0 col1\" >Employee_count</th>\n",
       "    </tr>\n",
       "  </thead>\n",
       "  <tbody>\n",
       "    <tr>\n",
       "      <td id=\"T_e9cbb_row0_col0\" class=\"data row0 col0\" >Frequent Traveller</td>\n",
       "      <td id=\"T_e9cbb_row0_col1\" class=\"data row0 col1\" >277</td>\n",
       "    </tr>\n",
       "    <tr>\n",
       "      <td id=\"T_e9cbb_row1_col0\" class=\"data row1 col0\" >No Travel </td>\n",
       "      <td id=\"T_e9cbb_row1_col1\" class=\"data row1 col1\" >150</td>\n",
       "    </tr>\n",
       "    <tr>\n",
       "      <td id=\"T_e9cbb_row2_col0\" class=\"data row2 col0\" >Some Travel</td>\n",
       "      <td id=\"T_e9cbb_row2_col1\" class=\"data row2 col1\" >1043</td>\n",
       "    </tr>\n",
       "  </tbody>\n",
       "</table>\n"
      ],
      "text/plain": [
       "<pandas.io.formats.style.Styler at 0x1fd0a53cfd0>"
      ]
     },
     "execution_count": 630,
     "metadata": {},
     "output_type": "execute_result"
    }
   ],
   "source": [
    "# Count of Employees according to BusinessTravel Clasification:\n",
    "df_emp.groupby('BusinessTravel').EmployeeID.nunique().reset_index().rename(columns={'EmployeeID':'Employee_count'}).style.hide()"
   ]
  },
  {
   "cell_type": "code",
   "execution_count": 632,
   "id": "5cae2ddd-ef1c-407f-b32e-47327d381617",
   "metadata": {},
   "outputs": [
    {
     "data": {
      "text/html": [
       "<style type=\"text/css\">\n",
       "</style>\n",
       "<table id=\"T_eafb3\">\n",
       "  <thead>\n",
       "    <tr>\n",
       "      <th id=\"T_eafb3_level0_col0\" class=\"col_heading level0 col0\" >Department</th>\n",
       "      <th id=\"T_eafb3_level0_col1\" class=\"col_heading level0 col1\" >Employee_count</th>\n",
       "    </tr>\n",
       "  </thead>\n",
       "  <tbody>\n",
       "    <tr>\n",
       "      <td id=\"T_eafb3_row0_col0\" class=\"data row0 col0\" >Human Resources</td>\n",
       "      <td id=\"T_eafb3_row0_col1\" class=\"data row0 col1\" >63</td>\n",
       "    </tr>\n",
       "    <tr>\n",
       "      <td id=\"T_eafb3_row1_col0\" class=\"data row1 col0\" >Sales</td>\n",
       "      <td id=\"T_eafb3_row1_col1\" class=\"data row1 col1\" >446</td>\n",
       "    </tr>\n",
       "    <tr>\n",
       "      <td id=\"T_eafb3_row2_col0\" class=\"data row2 col0\" >Technology</td>\n",
       "      <td id=\"T_eafb3_row2_col1\" class=\"data row2 col1\" >961</td>\n",
       "    </tr>\n",
       "  </tbody>\n",
       "</table>\n"
      ],
      "text/plain": [
       "<pandas.io.formats.style.Styler at 0x1fd09c9bf50>"
      ]
     },
     "execution_count": 632,
     "metadata": {},
     "output_type": "execute_result"
    }
   ],
   "source": [
    "# Count of Employees according to Department Clasification:\n",
    "df_emp.groupby('Department').EmployeeID.nunique().reset_index().rename(columns={'EmployeeID':'Employee_count'}).style.hide()"
   ]
  },
  {
   "cell_type": "code",
   "execution_count": 634,
   "id": "570deba8-964e-4e14-9906-c59bdcbe0a8b",
   "metadata": {},
   "outputs": [
    {
     "data": {
      "text/html": [
       "<style type=\"text/css\">\n",
       "</style>\n",
       "<table id=\"T_ea490\">\n",
       "  <thead>\n",
       "    <tr>\n",
       "      <th id=\"T_ea490_level0_col0\" class=\"col_heading level0 col0\" >State</th>\n",
       "      <th id=\"T_ea490_level0_col1\" class=\"col_heading level0 col1\" >Employee_count</th>\n",
       "    </tr>\n",
       "  </thead>\n",
       "  <tbody>\n",
       "    <tr>\n",
       "      <td id=\"T_ea490_row0_col0\" class=\"data row0 col0\" >CA</td>\n",
       "      <td id=\"T_ea490_row0_col1\" class=\"data row0 col1\" >875</td>\n",
       "    </tr>\n",
       "    <tr>\n",
       "      <td id=\"T_ea490_row1_col0\" class=\"data row1 col0\" >IL</td>\n",
       "      <td id=\"T_ea490_row1_col1\" class=\"data row1 col1\" >176</td>\n",
       "    </tr>\n",
       "    <tr>\n",
       "      <td id=\"T_ea490_row2_col0\" class=\"data row2 col0\" >NY</td>\n",
       "      <td id=\"T_ea490_row2_col1\" class=\"data row2 col1\" >419</td>\n",
       "    </tr>\n",
       "  </tbody>\n",
       "</table>\n"
      ],
      "text/plain": [
       "<pandas.io.formats.style.Styler at 0x1fd05727c50>"
      ]
     },
     "execution_count": 634,
     "metadata": {},
     "output_type": "execute_result"
    }
   ],
   "source": [
    "# Count of Employees according to State Clasification:\n",
    "df_emp.groupby('State').EmployeeID.nunique().reset_index().rename(columns={'EmployeeID':'Employee_count'}).style.hide()"
   ]
  },
  {
   "cell_type": "code",
   "execution_count": 636,
   "id": "bf0cd698-06a9-4dda-9802-e3afe6445f6e",
   "metadata": {},
   "outputs": [
    {
     "data": {
      "text/html": [
       "<style type=\"text/css\">\n",
       "</style>\n",
       "<table id=\"T_99533\">\n",
       "  <thead>\n",
       "    <tr>\n",
       "      <th id=\"T_99533_level0_col0\" class=\"col_heading level0 col0\" >Ethnicity</th>\n",
       "      <th id=\"T_99533_level0_col1\" class=\"col_heading level0 col1\" >Employee_count</th>\n",
       "    </tr>\n",
       "  </thead>\n",
       "  <tbody>\n",
       "    <tr>\n",
       "      <td id=\"T_99533_row0_col0\" class=\"data row0 col0\" >American Indian or Alaska Native</td>\n",
       "      <td id=\"T_99533_row0_col1\" class=\"data row0 col1\" >50</td>\n",
       "    </tr>\n",
       "    <tr>\n",
       "      <td id=\"T_99533_row1_col0\" class=\"data row1 col0\" >Asian or Asian American</td>\n",
       "      <td id=\"T_99533_row1_col1\" class=\"data row1 col1\" >113</td>\n",
       "    </tr>\n",
       "    <tr>\n",
       "      <td id=\"T_99533_row2_col0\" class=\"data row2 col0\" >Black or African American</td>\n",
       "      <td id=\"T_99533_row2_col1\" class=\"data row2 col1\" >207</td>\n",
       "    </tr>\n",
       "    <tr>\n",
       "      <td id=\"T_99533_row3_col0\" class=\"data row3 col0\" >Mixed or multiple ethnic groups</td>\n",
       "      <td id=\"T_99533_row3_col1\" class=\"data row3 col1\" >198</td>\n",
       "    </tr>\n",
       "    <tr>\n",
       "      <td id=\"T_99533_row4_col0\" class=\"data row4 col0\" >Native Hawaiian </td>\n",
       "      <td id=\"T_99533_row4_col1\" class=\"data row4 col1\" >26</td>\n",
       "    </tr>\n",
       "    <tr>\n",
       "      <td id=\"T_99533_row5_col0\" class=\"data row5 col0\" >Other </td>\n",
       "      <td id=\"T_99533_row5_col1\" class=\"data row5 col1\" >16</td>\n",
       "    </tr>\n",
       "    <tr>\n",
       "      <td id=\"T_99533_row6_col0\" class=\"data row6 col0\" >White</td>\n",
       "      <td id=\"T_99533_row6_col1\" class=\"data row6 col1\" >860</td>\n",
       "    </tr>\n",
       "  </tbody>\n",
       "</table>\n"
      ],
      "text/plain": [
       "<pandas.io.formats.style.Styler at 0x1fd0a2141d0>"
      ]
     },
     "execution_count": 636,
     "metadata": {},
     "output_type": "execute_result"
    }
   ],
   "source": [
    "# Count of Employees according to Ethnicity Clasification:\n",
    "df_emp.groupby('Ethnicity').EmployeeID.nunique().reset_index().rename(columns={'EmployeeID':'Employee_count'}).style.hide()"
   ]
  },
  {
   "cell_type": "code",
   "execution_count": 638,
   "id": "45a806d7-c01e-4124-a4de-002bb0d4bb72",
   "metadata": {},
   "outputs": [
    {
     "data": {
      "text/html": [
       "<style type=\"text/css\">\n",
       "</style>\n",
       "<table id=\"T_c0c6d\">\n",
       "  <thead>\n",
       "    <tr>\n",
       "      <th id=\"T_c0c6d_level0_col0\" class=\"col_heading level0 col0\" >Education</th>\n",
       "      <th id=\"T_c0c6d_level0_col1\" class=\"col_heading level0 col1\" >Employee_count</th>\n",
       "    </tr>\n",
       "  </thead>\n",
       "  <tbody>\n",
       "    <tr>\n",
       "      <td id=\"T_c0c6d_row0_col0\" class=\"data row0 col0\" >1</td>\n",
       "      <td id=\"T_c0c6d_row0_col1\" class=\"data row0 col1\" >170</td>\n",
       "    </tr>\n",
       "    <tr>\n",
       "      <td id=\"T_c0c6d_row1_col0\" class=\"data row1 col0\" >2</td>\n",
       "      <td id=\"T_c0c6d_row1_col1\" class=\"data row1 col1\" >282</td>\n",
       "    </tr>\n",
       "    <tr>\n",
       "      <td id=\"T_c0c6d_row2_col0\" class=\"data row2 col0\" >3</td>\n",
       "      <td id=\"T_c0c6d_row2_col1\" class=\"data row2 col1\" >572</td>\n",
       "    </tr>\n",
       "    <tr>\n",
       "      <td id=\"T_c0c6d_row3_col0\" class=\"data row3 col0\" >4</td>\n",
       "      <td id=\"T_c0c6d_row3_col1\" class=\"data row3 col1\" >398</td>\n",
       "    </tr>\n",
       "    <tr>\n",
       "      <td id=\"T_c0c6d_row4_col0\" class=\"data row4 col0\" >5</td>\n",
       "      <td id=\"T_c0c6d_row4_col1\" class=\"data row4 col1\" >48</td>\n",
       "    </tr>\n",
       "  </tbody>\n",
       "</table>\n"
      ],
      "text/plain": [
       "<pandas.io.formats.style.Styler at 0x1fd0a888610>"
      ]
     },
     "execution_count": 638,
     "metadata": {},
     "output_type": "execute_result"
    }
   ],
   "source": [
    "# Count of Employees according to Education Clasification:\n",
    "df_emp.groupby('Education').EmployeeID.nunique().reset_index().rename(columns={'EmployeeID':'Employee_count'}).style.hide()"
   ]
  },
  {
   "cell_type": "code",
   "execution_count": 640,
   "id": "d7ec3422-ffdd-4973-a24f-8af5cdc5990e",
   "metadata": {},
   "outputs": [
    {
     "data": {
      "text/html": [
       "<style type=\"text/css\">\n",
       "</style>\n",
       "<table id=\"T_665d5\">\n",
       "  <thead>\n",
       "    <tr>\n",
       "      <th id=\"T_665d5_level0_col0\" class=\"col_heading level0 col0\" >EducationField</th>\n",
       "      <th id=\"T_665d5_level0_col1\" class=\"col_heading level0 col1\" >Employee_count</th>\n",
       "    </tr>\n",
       "  </thead>\n",
       "  <tbody>\n",
       "    <tr>\n",
       "      <td id=\"T_665d5_row0_col0\" class=\"data row0 col0\" >Business Studies</td>\n",
       "      <td id=\"T_665d5_row0_col1\" class=\"data row0 col1\" >94</td>\n",
       "    </tr>\n",
       "    <tr>\n",
       "      <td id=\"T_665d5_row1_col0\" class=\"data row1 col0\" >Computer Science</td>\n",
       "      <td id=\"T_665d5_row1_col1\" class=\"data row1 col1\" >440</td>\n",
       "    </tr>\n",
       "    <tr>\n",
       "      <td id=\"T_665d5_row2_col0\" class=\"data row2 col0\" >Economics</td>\n",
       "      <td id=\"T_665d5_row2_col1\" class=\"data row2 col1\" >101</td>\n",
       "    </tr>\n",
       "    <tr>\n",
       "      <td id=\"T_665d5_row3_col0\" class=\"data row3 col0\" >Human Resources</td>\n",
       "      <td id=\"T_665d5_row3_col1\" class=\"data row3 col1\" >27</td>\n",
       "    </tr>\n",
       "    <tr>\n",
       "      <td id=\"T_665d5_row4_col0\" class=\"data row4 col0\" >Information Systems</td>\n",
       "      <td id=\"T_665d5_row4_col1\" class=\"data row4 col1\" >363</td>\n",
       "    </tr>\n",
       "    <tr>\n",
       "      <td id=\"T_665d5_row5_col0\" class=\"data row5 col0\" >Marketing</td>\n",
       "      <td id=\"T_665d5_row5_col1\" class=\"data row5 col1\" >159</td>\n",
       "    </tr>\n",
       "    <tr>\n",
       "      <td id=\"T_665d5_row6_col0\" class=\"data row6 col0\" >Marketing </td>\n",
       "      <td id=\"T_665d5_row6_col1\" class=\"data row6 col1\" >166</td>\n",
       "    </tr>\n",
       "    <tr>\n",
       "      <td id=\"T_665d5_row7_col0\" class=\"data row7 col0\" >Other</td>\n",
       "      <td id=\"T_665d5_row7_col1\" class=\"data row7 col1\" >82</td>\n",
       "    </tr>\n",
       "    <tr>\n",
       "      <td id=\"T_665d5_row8_col0\" class=\"data row8 col0\" >Technical Degree</td>\n",
       "      <td id=\"T_665d5_row8_col1\" class=\"data row8 col1\" >38</td>\n",
       "    </tr>\n",
       "  </tbody>\n",
       "</table>\n"
      ],
      "text/plain": [
       "<pandas.io.formats.style.Styler at 0x1fd09b2fc90>"
      ]
     },
     "execution_count": 640,
     "metadata": {},
     "output_type": "execute_result"
    }
   ],
   "source": [
    "# Count of Employees according to EducationField  Clasification:\n",
    "df_emp.groupby('EducationField').EmployeeID.nunique().reset_index().rename(columns={'EmployeeID':'Employee_count'}).style.hide()"
   ]
  },
  {
   "cell_type": "code",
   "execution_count": 642,
   "id": "ce848785-e70d-41ab-a278-21f1dae32eb0",
   "metadata": {},
   "outputs": [
    {
     "data": {
      "text/html": [
       "<style type=\"text/css\">\n",
       "</style>\n",
       "<table id=\"T_a81a4\">\n",
       "  <thead>\n",
       "    <tr>\n",
       "      <th id=\"T_a81a4_level0_col0\" class=\"col_heading level0 col0\" >JobRole</th>\n",
       "      <th id=\"T_a81a4_level0_col1\" class=\"col_heading level0 col1\" >Employee_count</th>\n",
       "    </tr>\n",
       "  </thead>\n",
       "  <tbody>\n",
       "    <tr>\n",
       "      <td id=\"T_a81a4_row0_col0\" class=\"data row0 col0\" >Analytics Manager</td>\n",
       "      <td id=\"T_a81a4_row0_col1\" class=\"data row0 col1\" >52</td>\n",
       "    </tr>\n",
       "    <tr>\n",
       "      <td id=\"T_a81a4_row1_col0\" class=\"data row1 col0\" >Data Scientist</td>\n",
       "      <td id=\"T_a81a4_row1_col1\" class=\"data row1 col1\" >261</td>\n",
       "    </tr>\n",
       "    <tr>\n",
       "      <td id=\"T_a81a4_row2_col0\" class=\"data row2 col0\" >Engineering Manager</td>\n",
       "      <td id=\"T_a81a4_row2_col1\" class=\"data row2 col1\" >75</td>\n",
       "    </tr>\n",
       "    <tr>\n",
       "      <td id=\"T_a81a4_row3_col0\" class=\"data row3 col0\" >HR Business Partner</td>\n",
       "      <td id=\"T_a81a4_row3_col1\" class=\"data row3 col1\" >7</td>\n",
       "    </tr>\n",
       "    <tr>\n",
       "      <td id=\"T_a81a4_row4_col0\" class=\"data row4 col0\" >HR Executive</td>\n",
       "      <td id=\"T_a81a4_row4_col1\" class=\"data row4 col1\" >28</td>\n",
       "    </tr>\n",
       "    <tr>\n",
       "      <td id=\"T_a81a4_row5_col0\" class=\"data row5 col0\" >HR Manager</td>\n",
       "      <td id=\"T_a81a4_row5_col1\" class=\"data row5 col1\" >4</td>\n",
       "    </tr>\n",
       "    <tr>\n",
       "      <td id=\"T_a81a4_row6_col0\" class=\"data row6 col0\" >Machine Learning Engineer</td>\n",
       "      <td id=\"T_a81a4_row6_col1\" class=\"data row6 col1\" >146</td>\n",
       "    </tr>\n",
       "    <tr>\n",
       "      <td id=\"T_a81a4_row7_col0\" class=\"data row7 col0\" >Manager</td>\n",
       "      <td id=\"T_a81a4_row7_col1\" class=\"data row7 col1\" >37</td>\n",
       "    </tr>\n",
       "    <tr>\n",
       "      <td id=\"T_a81a4_row8_col0\" class=\"data row8 col0\" >Recruiter</td>\n",
       "      <td id=\"T_a81a4_row8_col1\" class=\"data row8 col1\" >24</td>\n",
       "    </tr>\n",
       "    <tr>\n",
       "      <td id=\"T_a81a4_row9_col0\" class=\"data row9 col0\" >Sales Executive</td>\n",
       "      <td id=\"T_a81a4_row9_col1\" class=\"data row9 col1\" >327</td>\n",
       "    </tr>\n",
       "    <tr>\n",
       "      <td id=\"T_a81a4_row10_col0\" class=\"data row10 col0\" >Sales Representative</td>\n",
       "      <td id=\"T_a81a4_row10_col1\" class=\"data row10 col1\" >83</td>\n",
       "    </tr>\n",
       "    <tr>\n",
       "      <td id=\"T_a81a4_row11_col0\" class=\"data row11 col0\" >Senior Software Engineer</td>\n",
       "      <td id=\"T_a81a4_row11_col1\" class=\"data row11 col1\" >132</td>\n",
       "    </tr>\n",
       "    <tr>\n",
       "      <td id=\"T_a81a4_row12_col0\" class=\"data row12 col0\" >Software Engineer</td>\n",
       "      <td id=\"T_a81a4_row12_col1\" class=\"data row12 col1\" >294</td>\n",
       "    </tr>\n",
       "  </tbody>\n",
       "</table>\n"
      ],
      "text/plain": [
       "<pandas.io.formats.style.Styler at 0x1fd0913b2d0>"
      ]
     },
     "execution_count": 642,
     "metadata": {},
     "output_type": "execute_result"
    }
   ],
   "source": [
    "# Count of Employees according to JobRole Clasification:\n",
    "df_emp.groupby('JobRole').EmployeeID.nunique().reset_index().rename(columns={'EmployeeID':'Employee_count'}).style.hide()"
   ]
  },
  {
   "cell_type": "code",
   "execution_count": 644,
   "id": "d7091f8b-44b2-4edc-8607-453e95787ace",
   "metadata": {},
   "outputs": [
    {
     "data": {
      "text/html": [
       "<style type=\"text/css\">\n",
       "</style>\n",
       "<table id=\"T_e3240\">\n",
       "  <thead>\n",
       "    <tr>\n",
       "      <th id=\"T_e3240_level0_col0\" class=\"col_heading level0 col0\" >MaritalStatus</th>\n",
       "      <th id=\"T_e3240_level0_col1\" class=\"col_heading level0 col1\" >Employee_count</th>\n",
       "    </tr>\n",
       "  </thead>\n",
       "  <tbody>\n",
       "    <tr>\n",
       "      <td id=\"T_e3240_row0_col0\" class=\"data row0 col0\" >Divorced</td>\n",
       "      <td id=\"T_e3240_row0_col1\" class=\"data row0 col1\" >297</td>\n",
       "    </tr>\n",
       "    <tr>\n",
       "      <td id=\"T_e3240_row1_col0\" class=\"data row1 col0\" >Married</td>\n",
       "      <td id=\"T_e3240_row1_col1\" class=\"data row1 col1\" >624</td>\n",
       "    </tr>\n",
       "    <tr>\n",
       "      <td id=\"T_e3240_row2_col0\" class=\"data row2 col0\" >Single</td>\n",
       "      <td id=\"T_e3240_row2_col1\" class=\"data row2 col1\" >549</td>\n",
       "    </tr>\n",
       "  </tbody>\n",
       "</table>\n"
      ],
      "text/plain": [
       "<pandas.io.formats.style.Styler at 0x1fd08d9f090>"
      ]
     },
     "execution_count": 644,
     "metadata": {},
     "output_type": "execute_result"
    }
   ],
   "source": [
    "# Count of Employees according to MaritalStatus Clasification:\n",
    "df_emp.groupby('MaritalStatus').EmployeeID.nunique().reset_index().rename(columns={'EmployeeID':'Employee_count'}).style.hide()"
   ]
  },
  {
   "cell_type": "code",
   "execution_count": 646,
   "id": "ea5ed9cd-2b62-4d40-90ed-b42473c9c0cb",
   "metadata": {},
   "outputs": [
    {
     "data": {
      "text/html": [
       "<style type=\"text/css\">\n",
       "</style>\n",
       "<table id=\"T_f4cff\">\n",
       "  <thead>\n",
       "    <tr>\n",
       "      <th id=\"T_f4cff_level0_col0\" class=\"col_heading level0 col0\" >StockOptionLevel</th>\n",
       "      <th id=\"T_f4cff_level0_col1\" class=\"col_heading level0 col1\" >Employee_count</th>\n",
       "    </tr>\n",
       "  </thead>\n",
       "  <tbody>\n",
       "    <tr>\n",
       "      <td id=\"T_f4cff_row0_col0\" class=\"data row0 col0\" >0</td>\n",
       "      <td id=\"T_f4cff_row0_col1\" class=\"data row0 col1\" >631</td>\n",
       "    </tr>\n",
       "    <tr>\n",
       "      <td id=\"T_f4cff_row1_col0\" class=\"data row1 col0\" >1</td>\n",
       "      <td id=\"T_f4cff_row1_col1\" class=\"data row1 col1\" >596</td>\n",
       "    </tr>\n",
       "    <tr>\n",
       "      <td id=\"T_f4cff_row2_col0\" class=\"data row2 col0\" >2</td>\n",
       "      <td id=\"T_f4cff_row2_col1\" class=\"data row2 col1\" >158</td>\n",
       "    </tr>\n",
       "    <tr>\n",
       "      <td id=\"T_f4cff_row3_col0\" class=\"data row3 col0\" >3</td>\n",
       "      <td id=\"T_f4cff_row3_col1\" class=\"data row3 col1\" >85</td>\n",
       "    </tr>\n",
       "  </tbody>\n",
       "</table>\n"
      ],
      "text/plain": [
       "<pandas.io.formats.style.Styler at 0x1fd0a1a2f10>"
      ]
     },
     "execution_count": 646,
     "metadata": {},
     "output_type": "execute_result"
    }
   ],
   "source": [
    "# Count of Employees according to StockOptionLevel Clasification:\n",
    "df_emp.groupby('StockOptionLevel').EmployeeID.nunique().reset_index().rename(columns={'EmployeeID':'Employee_count'}).style.hide()"
   ]
  },
  {
   "cell_type": "code",
   "execution_count": 648,
   "id": "f804596d-e3b3-4771-9204-8be416d5410f",
   "metadata": {},
   "outputs": [
    {
     "data": {
      "text/html": [
       "<style type=\"text/css\">\n",
       "</style>\n",
       "<table id=\"T_3598a\">\n",
       "  <thead>\n",
       "    <tr>\n",
       "      <th id=\"T_3598a_level0_col0\" class=\"col_heading level0 col0\" >OverTime</th>\n",
       "      <th id=\"T_3598a_level0_col1\" class=\"col_heading level0 col1\" >Employee_count</th>\n",
       "    </tr>\n",
       "  </thead>\n",
       "  <tbody>\n",
       "    <tr>\n",
       "      <td id=\"T_3598a_row0_col0\" class=\"data row0 col0\" >No</td>\n",
       "      <td id=\"T_3598a_row0_col1\" class=\"data row0 col1\" >1054</td>\n",
       "    </tr>\n",
       "    <tr>\n",
       "      <td id=\"T_3598a_row1_col0\" class=\"data row1 col0\" >Yes</td>\n",
       "      <td id=\"T_3598a_row1_col1\" class=\"data row1 col1\" >416</td>\n",
       "    </tr>\n",
       "  </tbody>\n",
       "</table>\n"
      ],
      "text/plain": [
       "<pandas.io.formats.style.Styler at 0x1fd092c1c90>"
      ]
     },
     "execution_count": 648,
     "metadata": {},
     "output_type": "execute_result"
    }
   ],
   "source": [
    "# Count of Employees according to OverTime Clasification:\n",
    "df_emp.groupby('OverTime').EmployeeID.nunique().reset_index().rename(columns={'EmployeeID':'Employee_count'}).style.hide()"
   ]
  },
  {
   "cell_type": "code",
   "execution_count": 650,
   "id": "d506109f-0944-4ebc-b192-a81fb8d7e321",
   "metadata": {},
   "outputs": [
    {
     "data": {
      "text/html": [
       "<style type=\"text/css\">\n",
       "</style>\n",
       "<table id=\"T_4395b\">\n",
       "  <thead>\n",
       "    <tr>\n",
       "      <th id=\"T_4395b_level0_col0\" class=\"col_heading level0 col0\" >Attrition</th>\n",
       "      <th id=\"T_4395b_level0_col1\" class=\"col_heading level0 col1\" >Employee_count</th>\n",
       "    </tr>\n",
       "  </thead>\n",
       "  <tbody>\n",
       "    <tr>\n",
       "      <td id=\"T_4395b_row0_col0\" class=\"data row0 col0\" >No</td>\n",
       "      <td id=\"T_4395b_row0_col1\" class=\"data row0 col1\" >1233</td>\n",
       "    </tr>\n",
       "    <tr>\n",
       "      <td id=\"T_4395b_row1_col0\" class=\"data row1 col0\" >Yes</td>\n",
       "      <td id=\"T_4395b_row1_col1\" class=\"data row1 col1\" >237</td>\n",
       "    </tr>\n",
       "  </tbody>\n",
       "</table>\n"
      ],
      "text/plain": [
       "<pandas.io.formats.style.Styler at 0x1fd08e1bb90>"
      ]
     },
     "execution_count": 650,
     "metadata": {},
     "output_type": "execute_result"
    }
   ],
   "source": [
    "# Count of Employees according to Attrition Clasification:\n",
    "df_emp.groupby('Attrition').EmployeeID.nunique().reset_index().rename(columns={'EmployeeID':'Employee_count'}).style.hide()"
   ]
  },
  {
   "cell_type": "code",
   "execution_count": 660,
   "id": "1c078480-56b7-490b-a5e0-46b19b454e56",
   "metadata": {},
   "outputs": [
    {
     "data": {
      "text/html": [
       "<style type=\"text/css\">\n",
       "</style>\n",
       "<table id=\"T_c6e6a\">\n",
       "  <thead>\n",
       "    <tr>\n",
       "      <th id=\"T_c6e6a_level0_col0\" class=\"col_heading level0 col0\" >Tenure</th>\n",
       "      <th id=\"T_c6e6a_level0_col1\" class=\"col_heading level0 col1\" >Employee_count</th>\n",
       "    </tr>\n",
       "  </thead>\n",
       "  <tbody>\n",
       "    <tr>\n",
       "      <td id=\"T_c6e6a_row0_col0\" class=\"data row0 col0\" >0</td>\n",
       "      <td id=\"T_c6e6a_row0_col1\" class=\"data row0 col1\" >190</td>\n",
       "    </tr>\n",
       "    <tr>\n",
       "      <td id=\"T_c6e6a_row1_col0\" class=\"data row1 col0\" >1</td>\n",
       "      <td id=\"T_c6e6a_row1_col1\" class=\"data row1 col1\" >177</td>\n",
       "    </tr>\n",
       "    <tr>\n",
       "      <td id=\"T_c6e6a_row2_col0\" class=\"data row2 col0\" >2</td>\n",
       "      <td id=\"T_c6e6a_row2_col1\" class=\"data row2 col1\" >124</td>\n",
       "    </tr>\n",
       "    <tr>\n",
       "      <td id=\"T_c6e6a_row3_col0\" class=\"data row3 col0\" >3</td>\n",
       "      <td id=\"T_c6e6a_row3_col1\" class=\"data row3 col1\" >148</td>\n",
       "    </tr>\n",
       "    <tr>\n",
       "      <td id=\"T_c6e6a_row4_col0\" class=\"data row4 col0\" >4</td>\n",
       "      <td id=\"T_c6e6a_row4_col1\" class=\"data row4 col1\" >129</td>\n",
       "    </tr>\n",
       "    <tr>\n",
       "      <td id=\"T_c6e6a_row5_col0\" class=\"data row5 col0\" >5</td>\n",
       "      <td id=\"T_c6e6a_row5_col1\" class=\"data row5 col1\" >115</td>\n",
       "    </tr>\n",
       "    <tr>\n",
       "      <td id=\"T_c6e6a_row6_col0\" class=\"data row6 col0\" >6</td>\n",
       "      <td id=\"T_c6e6a_row6_col1\" class=\"data row6 col1\" >101</td>\n",
       "    </tr>\n",
       "    <tr>\n",
       "      <td id=\"T_c6e6a_row7_col0\" class=\"data row7 col0\" >7</td>\n",
       "      <td id=\"T_c6e6a_row7_col1\" class=\"data row7 col1\" >121</td>\n",
       "    </tr>\n",
       "    <tr>\n",
       "      <td id=\"T_c6e6a_row8_col0\" class=\"data row8 col0\" >8</td>\n",
       "      <td id=\"T_c6e6a_row8_col1\" class=\"data row8 col1\" >119</td>\n",
       "    </tr>\n",
       "    <tr>\n",
       "      <td id=\"T_c6e6a_row9_col0\" class=\"data row9 col0\" >9</td>\n",
       "      <td id=\"T_c6e6a_row9_col1\" class=\"data row9 col1\" >118</td>\n",
       "    </tr>\n",
       "    <tr>\n",
       "      <td id=\"T_c6e6a_row10_col0\" class=\"data row10 col0\" >10</td>\n",
       "      <td id=\"T_c6e6a_row10_col1\" class=\"data row10 col1\" >128</td>\n",
       "    </tr>\n",
       "  </tbody>\n",
       "</table>\n"
      ],
      "text/plain": [
       "<pandas.io.formats.style.Styler at 0x1fd0ad03850>"
      ]
     },
     "execution_count": 660,
     "metadata": {},
     "output_type": "execute_result"
    }
   ],
   "source": [
    "# Count of Employees according to Years At Company Clasification:\n",
    "df_emp.groupby('YearsAtCompany').EmployeeID.nunique().reset_index().rename(columns={'YearsAtCompany':'Tenure','EmployeeID':'Employee_count'}).style.hide()"
   ]
  },
  {
   "cell_type": "code",
   "execution_count": 662,
   "id": "5abbe1c4-bb34-4bc2-b652-952b90c9445b",
   "metadata": {},
   "outputs": [
    {
     "data": {
      "text/html": [
       "<style type=\"text/css\">\n",
       "</style>\n",
       "<table id=\"T_7c810\">\n",
       "  <thead>\n",
       "    <tr>\n",
       "      <th id=\"T_7c810_level0_col0\" class=\"col_heading level0 col0\" >Role_Tenure</th>\n",
       "      <th id=\"T_7c810_level0_col1\" class=\"col_heading level0 col1\" >Employee_count</th>\n",
       "    </tr>\n",
       "  </thead>\n",
       "  <tbody>\n",
       "    <tr>\n",
       "      <td id=\"T_7c810_row0_col0\" class=\"data row0 col0\" >0</td>\n",
       "      <td id=\"T_7c810_row0_col1\" class=\"data row0 col1\" >499</td>\n",
       "    </tr>\n",
       "    <tr>\n",
       "      <td id=\"T_7c810_row1_col0\" class=\"data row1 col0\" >1</td>\n",
       "      <td id=\"T_7c810_row1_col1\" class=\"data row1 col1\" >256</td>\n",
       "    </tr>\n",
       "    <tr>\n",
       "      <td id=\"T_7c810_row2_col0\" class=\"data row2 col0\" >2</td>\n",
       "      <td id=\"T_7c810_row2_col1\" class=\"data row2 col1\" >174</td>\n",
       "    </tr>\n",
       "    <tr>\n",
       "      <td id=\"T_7c810_row3_col0\" class=\"data row3 col0\" >3</td>\n",
       "      <td id=\"T_7c810_row3_col1\" class=\"data row3 col1\" >146</td>\n",
       "    </tr>\n",
       "    <tr>\n",
       "      <td id=\"T_7c810_row4_col0\" class=\"data row4 col0\" >4</td>\n",
       "      <td id=\"T_7c810_row4_col1\" class=\"data row4 col1\" >114</td>\n",
       "    </tr>\n",
       "    <tr>\n",
       "      <td id=\"T_7c810_row5_col0\" class=\"data row5 col0\" >5</td>\n",
       "      <td id=\"T_7c810_row5_col1\" class=\"data row5 col1\" >83</td>\n",
       "    </tr>\n",
       "    <tr>\n",
       "      <td id=\"T_7c810_row6_col0\" class=\"data row6 col0\" >6</td>\n",
       "      <td id=\"T_7c810_row6_col1\" class=\"data row6 col1\" >63</td>\n",
       "    </tr>\n",
       "    <tr>\n",
       "      <td id=\"T_7c810_row7_col0\" class=\"data row7 col0\" >7</td>\n",
       "      <td id=\"T_7c810_row7_col1\" class=\"data row7 col1\" >51</td>\n",
       "    </tr>\n",
       "    <tr>\n",
       "      <td id=\"T_7c810_row8_col0\" class=\"data row8 col0\" >8</td>\n",
       "      <td id=\"T_7c810_row8_col1\" class=\"data row8 col1\" >46</td>\n",
       "    </tr>\n",
       "    <tr>\n",
       "      <td id=\"T_7c810_row9_col0\" class=\"data row9 col0\" >9</td>\n",
       "      <td id=\"T_7c810_row9_col1\" class=\"data row9 col1\" >25</td>\n",
       "    </tr>\n",
       "    <tr>\n",
       "      <td id=\"T_7c810_row10_col0\" class=\"data row10 col0\" >10</td>\n",
       "      <td id=\"T_7c810_row10_col1\" class=\"data row10 col1\" >13</td>\n",
       "    </tr>\n",
       "  </tbody>\n",
       "</table>\n"
      ],
      "text/plain": [
       "<pandas.io.formats.style.Styler at 0x1fd0a993bd0>"
      ]
     },
     "execution_count": 662,
     "metadata": {},
     "output_type": "execute_result"
    }
   ],
   "source": [
    "# Count of Employees according to Years In Most Recent Role Clasification:\n",
    "df_emp.groupby('YearsInMostRecentRole').EmployeeID.nunique().reset_index().rename(columns={'YearsInMostRecentRole':'Role_Tenure','EmployeeID':'Employee_count'}).style.hide()"
   ]
  },
  {
   "cell_type": "code",
   "execution_count": 664,
   "id": "2c483798-96da-49be-b27e-e2e58893c274",
   "metadata": {},
   "outputs": [
    {
     "data": {
      "text/html": [
       "<style type=\"text/css\">\n",
       "</style>\n",
       "<table id=\"T_6feb2\">\n",
       "  <thead>\n",
       "    <tr>\n",
       "      <th id=\"T_6feb2_level0_col0\" class=\"col_heading level0 col0\" >Promotion_Gap</th>\n",
       "      <th id=\"T_6feb2_level0_col1\" class=\"col_heading level0 col1\" >Employee_count</th>\n",
       "    </tr>\n",
       "  </thead>\n",
       "  <tbody>\n",
       "    <tr>\n",
       "      <td id=\"T_6feb2_row0_col0\" class=\"data row0 col0\" >0</td>\n",
       "      <td id=\"T_6feb2_row0_col1\" class=\"data row0 col1\" >301</td>\n",
       "    </tr>\n",
       "    <tr>\n",
       "      <td id=\"T_6feb2_row1_col0\" class=\"data row1 col0\" >1</td>\n",
       "      <td id=\"T_6feb2_row1_col1\" class=\"data row1 col1\" >211</td>\n",
       "    </tr>\n",
       "    <tr>\n",
       "      <td id=\"T_6feb2_row2_col0\" class=\"data row2 col0\" >2</td>\n",
       "      <td id=\"T_6feb2_row2_col1\" class=\"data row2 col1\" >150</td>\n",
       "    </tr>\n",
       "    <tr>\n",
       "      <td id=\"T_6feb2_row3_col0\" class=\"data row3 col0\" >3</td>\n",
       "      <td id=\"T_6feb2_row3_col1\" class=\"data row3 col1\" >166</td>\n",
       "    </tr>\n",
       "    <tr>\n",
       "      <td id=\"T_6feb2_row4_col0\" class=\"data row4 col0\" >4</td>\n",
       "      <td id=\"T_6feb2_row4_col1\" class=\"data row4 col1\" >147</td>\n",
       "    </tr>\n",
       "    <tr>\n",
       "      <td id=\"T_6feb2_row5_col0\" class=\"data row5 col0\" >5</td>\n",
       "      <td id=\"T_6feb2_row5_col1\" class=\"data row5 col1\" >116</td>\n",
       "    </tr>\n",
       "    <tr>\n",
       "      <td id=\"T_6feb2_row6_col0\" class=\"data row6 col0\" >6</td>\n",
       "      <td id=\"T_6feb2_row6_col1\" class=\"data row6 col1\" >108</td>\n",
       "    </tr>\n",
       "    <tr>\n",
       "      <td id=\"T_6feb2_row7_col0\" class=\"data row7 col0\" >7</td>\n",
       "      <td id=\"T_6feb2_row7_col1\" class=\"data row7 col1\" >88</td>\n",
       "    </tr>\n",
       "    <tr>\n",
       "      <td id=\"T_6feb2_row8_col0\" class=\"data row8 col0\" >8</td>\n",
       "      <td id=\"T_6feb2_row8_col1\" class=\"data row8 col1\" >68</td>\n",
       "    </tr>\n",
       "    <tr>\n",
       "      <td id=\"T_6feb2_row9_col0\" class=\"data row9 col0\" >9</td>\n",
       "      <td id=\"T_6feb2_row9_col1\" class=\"data row9 col1\" >77</td>\n",
       "    </tr>\n",
       "    <tr>\n",
       "      <td id=\"T_6feb2_row10_col0\" class=\"data row10 col0\" >10</td>\n",
       "      <td id=\"T_6feb2_row10_col1\" class=\"data row10 col1\" >38</td>\n",
       "    </tr>\n",
       "  </tbody>\n",
       "</table>\n"
      ],
      "text/plain": [
       "<pandas.io.formats.style.Styler at 0x1fd08ffa090>"
      ]
     },
     "execution_count": 664,
     "metadata": {},
     "output_type": "execute_result"
    }
   ],
   "source": [
    "# Count of Employees according to Years Since Last Promotion Clasification:\n",
    "df_emp.groupby('YearsSinceLastPromotion').EmployeeID.nunique().reset_index().rename(columns={'YearsSinceLastPromotion':'Promotion_Gap','EmployeeID':'Employee_count'}).style.hide()"
   ]
  },
  {
   "cell_type": "code",
   "execution_count": 666,
   "id": "f4a79373-a59b-483c-9446-ee3502bdadab",
   "metadata": {},
   "outputs": [
    {
     "data": {
      "text/html": [
       "<style type=\"text/css\">\n",
       "</style>\n",
       "<table id=\"T_aeae2\">\n",
       "  <thead>\n",
       "    <tr>\n",
       "      <th id=\"T_aeae2_level0_col0\" class=\"col_heading level0 col0\" >Manager_Tenure</th>\n",
       "      <th id=\"T_aeae2_level0_col1\" class=\"col_heading level0 col1\" >Employee_count</th>\n",
       "    </tr>\n",
       "  </thead>\n",
       "  <tbody>\n",
       "    <tr>\n",
       "      <td id=\"T_aeae2_row0_col0\" class=\"data row0 col0\" >0</td>\n",
       "      <td id=\"T_aeae2_row0_col1\" class=\"data row0 col1\" >479</td>\n",
       "    </tr>\n",
       "    <tr>\n",
       "      <td id=\"T_aeae2_row1_col0\" class=\"data row1 col0\" >1</td>\n",
       "      <td id=\"T_aeae2_row1_col1\" class=\"data row1 col1\" >292</td>\n",
       "    </tr>\n",
       "    <tr>\n",
       "      <td id=\"T_aeae2_row2_col0\" class=\"data row2 col0\" >2</td>\n",
       "      <td id=\"T_aeae2_row2_col1\" class=\"data row2 col1\" >191</td>\n",
       "    </tr>\n",
       "    <tr>\n",
       "      <td id=\"T_aeae2_row3_col0\" class=\"data row3 col0\" >3</td>\n",
       "      <td id=\"T_aeae2_row3_col1\" class=\"data row3 col1\" >139</td>\n",
       "    </tr>\n",
       "    <tr>\n",
       "      <td id=\"T_aeae2_row4_col0\" class=\"data row4 col0\" >4</td>\n",
       "      <td id=\"T_aeae2_row4_col1\" class=\"data row4 col1\" >103</td>\n",
       "    </tr>\n",
       "    <tr>\n",
       "      <td id=\"T_aeae2_row5_col0\" class=\"data row5 col0\" >5</td>\n",
       "      <td id=\"T_aeae2_row5_col1\" class=\"data row5 col1\" >73</td>\n",
       "    </tr>\n",
       "    <tr>\n",
       "      <td id=\"T_aeae2_row6_col0\" class=\"data row6 col0\" >6</td>\n",
       "      <td id=\"T_aeae2_row6_col1\" class=\"data row6 col1\" >63</td>\n",
       "    </tr>\n",
       "    <tr>\n",
       "      <td id=\"T_aeae2_row7_col0\" class=\"data row7 col0\" >7</td>\n",
       "      <td id=\"T_aeae2_row7_col1\" class=\"data row7 col1\" >49</td>\n",
       "    </tr>\n",
       "    <tr>\n",
       "      <td id=\"T_aeae2_row8_col0\" class=\"data row8 col0\" >8</td>\n",
       "      <td id=\"T_aeae2_row8_col1\" class=\"data row8 col1\" >40</td>\n",
       "    </tr>\n",
       "    <tr>\n",
       "      <td id=\"T_aeae2_row9_col0\" class=\"data row9 col0\" >9</td>\n",
       "      <td id=\"T_aeae2_row9_col1\" class=\"data row9 col1\" >27</td>\n",
       "    </tr>\n",
       "    <tr>\n",
       "      <td id=\"T_aeae2_row10_col0\" class=\"data row10 col0\" >10</td>\n",
       "      <td id=\"T_aeae2_row10_col1\" class=\"data row10 col1\" >14</td>\n",
       "    </tr>\n",
       "  </tbody>\n",
       "</table>\n"
      ],
      "text/plain": [
       "<pandas.io.formats.style.Styler at 0x1fd09a65910>"
      ]
     },
     "execution_count": 666,
     "metadata": {},
     "output_type": "execute_result"
    }
   ],
   "source": [
    "# Count of Employees according to Years With Curr Manager Clasification:\n",
    "df_emp.groupby('YearsWithCurrManager').EmployeeID.nunique().reset_index().rename(columns={'YearsWithCurrManager':'Manager_Tenure','EmployeeID':'Employee_count'}).style.hide()"
   ]
  },
  {
   "cell_type": "code",
   "execution_count": null,
   "id": "8b239402-8e67-4220-8203-e698d746fd58",
   "metadata": {},
   "outputs": [],
   "source": []
  },
  {
   "cell_type": "markdown",
   "id": "3d2cf6b3-70e4-4dbd-8823-3d5305118637",
   "metadata": {},
   "source": [
    "<a id='edu'></a>\n",
    "#### ***2. Educational Level Table:***"
   ]
  },
  {
   "cell_type": "code",
   "execution_count": 509,
   "id": "bd0fa237-cd5c-4d21-85d4-0adec44b3b1b",
   "metadata": {},
   "outputs": [
    {
     "data": {
      "text/html": [
       "<div>\n",
       "<style scoped>\n",
       "    .dataframe tbody tr th:only-of-type {\n",
       "        vertical-align: middle;\n",
       "    }\n",
       "\n",
       "    .dataframe tbody tr th {\n",
       "        vertical-align: top;\n",
       "    }\n",
       "\n",
       "    .dataframe thead th {\n",
       "        text-align: right;\n",
       "    }\n",
       "</style>\n",
       "<table border=\"1\" class=\"dataframe\">\n",
       "  <thead>\n",
       "    <tr style=\"text-align: right;\">\n",
       "      <th></th>\n",
       "      <th>EducationLevelID</th>\n",
       "      <th>EducationLevel</th>\n",
       "    </tr>\n",
       "  </thead>\n",
       "  <tbody>\n",
       "    <tr>\n",
       "      <th>0</th>\n",
       "      <td>1</td>\n",
       "      <td>No Formal Qualifications</td>\n",
       "    </tr>\n",
       "    <tr>\n",
       "      <th>1</th>\n",
       "      <td>2</td>\n",
       "      <td>High School</td>\n",
       "    </tr>\n",
       "    <tr>\n",
       "      <th>2</th>\n",
       "      <td>3</td>\n",
       "      <td>Bachelors</td>\n",
       "    </tr>\n",
       "    <tr>\n",
       "      <th>3</th>\n",
       "      <td>4</td>\n",
       "      <td>Masters</td>\n",
       "    </tr>\n",
       "    <tr>\n",
       "      <th>4</th>\n",
       "      <td>5</td>\n",
       "      <td>Doctorate</td>\n",
       "    </tr>\n",
       "  </tbody>\n",
       "</table>\n",
       "</div>"
      ],
      "text/plain": [
       "   EducationLevelID            EducationLevel\n",
       "0                 1  No Formal Qualifications\n",
       "1                 2              High School \n",
       "2                 3                Bachelors \n",
       "3                 4                  Masters \n",
       "4                 5                 Doctorate"
      ]
     },
     "execution_count": 509,
     "metadata": {},
     "output_type": "execute_result"
    }
   ],
   "source": [
    "df_edu= pd.read_csv(\"HR/EducationLevel.csv\")\n",
    "df_edu.head()"
   ]
  },
  {
   "cell_type": "code",
   "execution_count": 510,
   "id": "bdd45c96-8692-4def-a025-ac6524c0fa3e",
   "metadata": {},
   "outputs": [
    {
     "name": "stdout",
     "output_type": "stream",
     "text": [
      "<class 'pandas.core.frame.DataFrame'>\n",
      "RangeIndex: 5 entries, 0 to 4\n",
      "Data columns (total 2 columns):\n",
      " #   Column            Non-Null Count  Dtype \n",
      "---  ------            --------------  ----- \n",
      " 0   EducationLevelID  5 non-null      int64 \n",
      " 1   EducationLevel    5 non-null      object\n",
      "dtypes: int64(1), object(1)\n",
      "memory usage: 212.0+ bytes\n"
     ]
    }
   ],
   "source": [
    "df_edu.info()"
   ]
  },
  {
   "cell_type": "code",
   "execution_count": 511,
   "id": "8a421ec5-9af1-487c-bf64-5c0909946c04",
   "metadata": {},
   "outputs": [
    {
     "name": "stdout",
     "output_type": "stream",
     "text": [
      "The table has a shape of: (5, 2)\n"
     ]
    }
   ],
   "source": [
    "print('The table has a shape of:',df_edu.shape)"
   ]
  },
  {
   "cell_type": "code",
   "execution_count": 512,
   "id": "b53a2495-06d7-4093-831b-041565537d45",
   "metadata": {},
   "outputs": [
    {
     "name": "stdout",
     "output_type": "stream",
     "text": [
      "No NULL values in this table\n"
     ]
    }
   ],
   "source": [
    "if df_edu.isna().sum().sum()== 0:\n",
    "    print ('No NULL values in this table')\n",
    "else:\n",
    "    print('Total number of Null Values is: ',df_edu.isna().sum().sum())\n"
   ]
  },
  {
   "cell_type": "code",
   "execution_count": 513,
   "id": "fc7df5ae-10e9-4485-bca5-03e4c31a464c",
   "metadata": {},
   "outputs": [
    {
     "name": "stdout",
     "output_type": "stream",
     "text": [
      "No DUPLICATED values in this table\n"
     ]
    }
   ],
   "source": [
    "if df_edu.duplicated().sum()== 0:\n",
    "    print ('No DUPLICATED values in this table')\n",
    "else:\n",
    "    print('Total number of Duplicated Values is: ',df.duplicated().sum())"
   ]
  },
  {
   "cell_type": "code",
   "execution_count": 514,
   "id": "1dac46b6-10f8-43c0-b8e5-1b61f313ea0b",
   "metadata": {},
   "outputs": [
    {
     "name": "stdout",
     "output_type": "stream",
     "text": [
      "The number of UNIQUE values in this table:\n",
      "\n",
      " EducationLevelID    5\n",
      "EducationLevel      5\n",
      "dtype: int64\n"
     ]
    }
   ],
   "source": [
    "print('The number of UNIQUE values in this table:\\n\\n',df_edu.nunique())"
   ]
  },
  {
   "cell_type": "code",
   "execution_count": 515,
   "id": "99cf61ca-4617-491e-8783-5c26aa799424",
   "metadata": {},
   "outputs": [
    {
     "name": "stdout",
     "output_type": "stream",
     "text": [
      "\"EducationLevelID\" Categories:\n",
      " [1 2 3 4 5]\n",
      "\n",
      "\"EducationLevel\" Categories:\n",
      " ['No Formal Qualifications' 'High School ' 'Bachelors ' 'Masters '\n",
      " 'Doctorate']\n"
     ]
    }
   ],
   "source": [
    "print('\"EducationLevelID\" Categories:\\n',df_edu.EducationLevelID.unique())\n",
    "print('\\n\"EducationLevel\" Categories:\\n',df_edu.EducationLevel.unique())"
   ]
  },
  {
   "cell_type": "markdown",
   "id": "a6c4cd5c-7745-4c79-93d5-83ebb5479d47",
   "metadata": {},
   "source": [
    "<a id='perform'></a>\n",
    "#### ***3. Performance Rating Table:***"
   ]
  },
  {
   "cell_type": "code",
   "execution_count": 517,
   "id": "f12478b2-6ccd-461d-b189-696eea3135f0",
   "metadata": {},
   "outputs": [
    {
     "data": {
      "text/html": [
       "<div>\n",
       "<style scoped>\n",
       "    .dataframe tbody tr th:only-of-type {\n",
       "        vertical-align: middle;\n",
       "    }\n",
       "\n",
       "    .dataframe tbody tr th {\n",
       "        vertical-align: top;\n",
       "    }\n",
       "\n",
       "    .dataframe thead th {\n",
       "        text-align: right;\n",
       "    }\n",
       "</style>\n",
       "<table border=\"1\" class=\"dataframe\">\n",
       "  <thead>\n",
       "    <tr style=\"text-align: right;\">\n",
       "      <th></th>\n",
       "      <th>PerformanceID</th>\n",
       "      <th>EmployeeID</th>\n",
       "      <th>ReviewDate</th>\n",
       "      <th>EnvironmentSatisfaction</th>\n",
       "      <th>JobSatisfaction</th>\n",
       "      <th>RelationshipSatisfaction</th>\n",
       "      <th>TrainingOpportunitiesWithinYear</th>\n",
       "      <th>TrainingOpportunitiesTaken</th>\n",
       "      <th>WorkLifeBalance</th>\n",
       "      <th>SelfRating</th>\n",
       "      <th>ManagerRating</th>\n",
       "    </tr>\n",
       "  </thead>\n",
       "  <tbody>\n",
       "    <tr>\n",
       "      <th>0</th>\n",
       "      <td>PR01</td>\n",
       "      <td>79F7-78EC</td>\n",
       "      <td>1/2/2013</td>\n",
       "      <td>5</td>\n",
       "      <td>4</td>\n",
       "      <td>5</td>\n",
       "      <td>1</td>\n",
       "      <td>0</td>\n",
       "      <td>4</td>\n",
       "      <td>4</td>\n",
       "      <td>4</td>\n",
       "    </tr>\n",
       "    <tr>\n",
       "      <th>1</th>\n",
       "      <td>PR02</td>\n",
       "      <td>B61E-0F26</td>\n",
       "      <td>1/3/2013</td>\n",
       "      <td>5</td>\n",
       "      <td>4</td>\n",
       "      <td>4</td>\n",
       "      <td>1</td>\n",
       "      <td>3</td>\n",
       "      <td>4</td>\n",
       "      <td>4</td>\n",
       "      <td>3</td>\n",
       "    </tr>\n",
       "    <tr>\n",
       "      <th>2</th>\n",
       "      <td>PR03</td>\n",
       "      <td>F5E3-48BB</td>\n",
       "      <td>1/3/2013</td>\n",
       "      <td>3</td>\n",
       "      <td>4</td>\n",
       "      <td>5</td>\n",
       "      <td>3</td>\n",
       "      <td>2</td>\n",
       "      <td>3</td>\n",
       "      <td>5</td>\n",
       "      <td>4</td>\n",
       "    </tr>\n",
       "    <tr>\n",
       "      <th>3</th>\n",
       "      <td>PR04</td>\n",
       "      <td>0678-748A</td>\n",
       "      <td>1/4/2013</td>\n",
       "      <td>5</td>\n",
       "      <td>3</td>\n",
       "      <td>2</td>\n",
       "      <td>2</td>\n",
       "      <td>0</td>\n",
       "      <td>2</td>\n",
       "      <td>3</td>\n",
       "      <td>2</td>\n",
       "    </tr>\n",
       "    <tr>\n",
       "      <th>4</th>\n",
       "      <td>PR05</td>\n",
       "      <td>541F-3E19</td>\n",
       "      <td>1/4/2013</td>\n",
       "      <td>5</td>\n",
       "      <td>2</td>\n",
       "      <td>3</td>\n",
       "      <td>1</td>\n",
       "      <td>0</td>\n",
       "      <td>4</td>\n",
       "      <td>4</td>\n",
       "      <td>3</td>\n",
       "    </tr>\n",
       "  </tbody>\n",
       "</table>\n",
       "</div>"
      ],
      "text/plain": [
       "  PerformanceID EmployeeID ReviewDate  EnvironmentSatisfaction  \\\n",
       "0          PR01  79F7-78EC   1/2/2013                        5   \n",
       "1          PR02  B61E-0F26   1/3/2013                        5   \n",
       "2          PR03  F5E3-48BB   1/3/2013                        3   \n",
       "3          PR04  0678-748A   1/4/2013                        5   \n",
       "4          PR05  541F-3E19   1/4/2013                        5   \n",
       "\n",
       "   JobSatisfaction  RelationshipSatisfaction  TrainingOpportunitiesWithinYear  \\\n",
       "0                4                         5                                1   \n",
       "1                4                         4                                1   \n",
       "2                4                         5                                3   \n",
       "3                3                         2                                2   \n",
       "4                2                         3                                1   \n",
       "\n",
       "   TrainingOpportunitiesTaken  WorkLifeBalance  SelfRating  ManagerRating  \n",
       "0                           0                4           4              4  \n",
       "1                           3                4           4              3  \n",
       "2                           2                3           5              4  \n",
       "3                           0                2           3              2  \n",
       "4                           0                4           4              3  "
      ]
     },
     "execution_count": 517,
     "metadata": {},
     "output_type": "execute_result"
    }
   ],
   "source": [
    "df_performance= pd.read_csv(\"HR/PerformanceRating.csv\")\n",
    "df_performance.head()"
   ]
  },
  {
   "cell_type": "code",
   "execution_count": 518,
   "id": "e230400f-2547-4b67-a4de-351ad21a3a8c",
   "metadata": {},
   "outputs": [
    {
     "name": "stdout",
     "output_type": "stream",
     "text": [
      "<class 'pandas.core.frame.DataFrame'>\n",
      "RangeIndex: 6709 entries, 0 to 6708\n",
      "Data columns (total 11 columns):\n",
      " #   Column                           Non-Null Count  Dtype \n",
      "---  ------                           --------------  ----- \n",
      " 0   PerformanceID                    6709 non-null   object\n",
      " 1   EmployeeID                       6709 non-null   object\n",
      " 2   ReviewDate                       6709 non-null   object\n",
      " 3   EnvironmentSatisfaction          6709 non-null   int64 \n",
      " 4   JobSatisfaction                  6709 non-null   int64 \n",
      " 5   RelationshipSatisfaction         6709 non-null   int64 \n",
      " 6   TrainingOpportunitiesWithinYear  6709 non-null   int64 \n",
      " 7   TrainingOpportunitiesTaken       6709 non-null   int64 \n",
      " 8   WorkLifeBalance                  6709 non-null   int64 \n",
      " 9   SelfRating                       6709 non-null   int64 \n",
      " 10  ManagerRating                    6709 non-null   int64 \n",
      "dtypes: int64(8), object(3)\n",
      "memory usage: 576.7+ KB\n"
     ]
    }
   ],
   "source": [
    "df_performance.info()"
   ]
  },
  {
   "cell_type": "code",
   "execution_count": 519,
   "id": "e175b50f-37fc-410b-8a6c-7df5432bc9a3",
   "metadata": {},
   "outputs": [
    {
     "name": "stdout",
     "output_type": "stream",
     "text": [
      "The table has a shape of: (6709, 11)\n"
     ]
    }
   ],
   "source": [
    "print('The table has a shape of:',df_performance.shape)"
   ]
  },
  {
   "cell_type": "code",
   "execution_count": 520,
   "id": "676ea6eb-54e4-418e-8968-0af0469bd636",
   "metadata": {},
   "outputs": [
    {
     "name": "stdout",
     "output_type": "stream",
     "text": [
      "No NULL values in this table\n"
     ]
    }
   ],
   "source": [
    "if df_performance.isna().sum().sum()== 0:\n",
    "    print ('No NULL values in this table')\n",
    "else:\n",
    "    print('Total number of Null Values is: ',df_performance.isna().sum().sum())\n"
   ]
  },
  {
   "cell_type": "code",
   "execution_count": 521,
   "id": "3b80f0d1-ae99-482d-b176-71f6c78c2ad9",
   "metadata": {},
   "outputs": [
    {
     "name": "stdout",
     "output_type": "stream",
     "text": [
      "No DUPLICATED values in this table\n"
     ]
    }
   ],
   "source": [
    "if df_performance.duplicated().sum()== 0:\n",
    "    print ('No DUPLICATED values in this table')\n",
    "else:\n",
    "    print('Total number of Duplicated Values is: ',df_performance.duplicated().sum())\n"
   ]
  },
  {
   "cell_type": "code",
   "execution_count": 522,
   "id": "96a1eacb-fa44-4b57-a0e3-6b8c66016887",
   "metadata": {},
   "outputs": [
    {
     "name": "stdout",
     "output_type": "stream",
     "text": [
      "The number of UNIQUE values in this table:\n",
      "\n",
      " PerformanceID                      6709\n",
      "EmployeeID                         1280\n",
      "ReviewDate                         2771\n",
      "EnvironmentSatisfaction               5\n",
      "JobSatisfaction                       5\n",
      "RelationshipSatisfaction              5\n",
      "TrainingOpportunitiesWithinYear       3\n",
      "TrainingOpportunitiesTaken            4\n",
      "WorkLifeBalance                       5\n",
      "SelfRating                            3\n",
      "ManagerRating                         4\n",
      "dtype: int64\n"
     ]
    }
   ],
   "source": [
    "print('The number of UNIQUE values in this table:\\n\\n',df_performance.nunique())"
   ]
  },
  {
   "cell_type": "code",
   "execution_count": 523,
   "id": "8fc91485-a5b6-4653-8a4e-bb0e41d65c78",
   "metadata": {},
   "outputs": [
    {
     "data": {
      "text/plain": [
       "'1/1/2014'"
      ]
     },
     "execution_count": 523,
     "metadata": {},
     "output_type": "execute_result"
    }
   ],
   "source": [
    "df_performance.ReviewDate.min()"
   ]
  },
  {
   "cell_type": "code",
   "execution_count": 524,
   "id": "37ef03d1-3744-4b29-83a3-726014dda594",
   "metadata": {},
   "outputs": [
    {
     "data": {
      "text/plain": [
       "'9/9/2019'"
      ]
     },
     "execution_count": 524,
     "metadata": {},
     "output_type": "execute_result"
    }
   ],
   "source": [
    "df_performance.ReviewDate.max()"
   ]
  },
  {
   "cell_type": "code",
   "execution_count": 578,
   "id": "af6aa1e4-9ead-462b-9899-b506d82e63b6",
   "metadata": {},
   "outputs": [
    {
     "name": "stdout",
     "output_type": "stream",
     "text": [
      "\"EnvironmentSatisfaction\" Categories:              [1, 2, 3, 4, 5]\n",
      "\n",
      "\"JobSatisfaction\" Categories:                      [1, 2, 3, 4, 5]\n",
      "\n",
      "\"RelationshipSatisfaction\" Categories:             [1, 2, 3, 4, 5]\n",
      "\n",
      "\"TrainingOpportunitiesWithinYear\" Categories:      [1, 2, 3]\n",
      "\n",
      "\"TrainingOpportunitiesTaken\" Categories:           [0, 1, 2, 3]\n",
      "\n",
      "\"WorkLifeBalance\" Categories:                      [1, 2, 3, 4, 5]\n",
      "\n",
      "\"SelfRating\" Categories:                           [3, 4, 5]\n",
      "\n",
      "\"ManagerRating\" Categories:                        [2, 3, 4, 5]\n"
     ]
    }
   ],
   "source": [
    "print('\"EnvironmentSatisfaction\" Categories:             ',sorted(df_performance.EnvironmentSatisfaction.unique()))\n",
    "print('\\n\"JobSatisfaction\" Categories:                     ',sorted(df_performance.JobSatisfaction.unique()))\n",
    "print('\\n\"RelationshipSatisfaction\" Categories:            ',sorted(df_performance.RelationshipSatisfaction.unique()))\n",
    "print('\\n\"TrainingOpportunitiesWithinYear\" Categories:     ',sorted(df_performance.TrainingOpportunitiesWithinYear.unique()))\n",
    "print('\\n\"TrainingOpportunitiesTaken\" Categories:          ',sorted(df_performance.TrainingOpportunitiesTaken.unique()))\n",
    "print('\\n\"WorkLifeBalance\" Categories:                     ',sorted(df_performance.WorkLifeBalance.unique()))\n",
    "print('\\n\"SelfRating\" Categories:                          ',sorted(df_performance.SelfRating.unique()))\n",
    "print('\\n\"ManagerRating\" Categories:                       ',sorted(df_performance.ManagerRating.unique()))"
   ]
  },
  {
   "cell_type": "markdown",
   "id": "a497ecfd-1e95-44a2-8960-620de60df96d",
   "metadata": {},
   "source": [
    "<a id='satis'></a>\n",
    "#### ***4. Satisfied Level Table:***"
   ]
  },
  {
   "cell_type": "code",
   "execution_count": 585,
   "id": "3988aa89-7336-4153-af26-985f704fd261",
   "metadata": {},
   "outputs": [
    {
     "data": {
      "text/html": [
       "<div>\n",
       "<style scoped>\n",
       "    .dataframe tbody tr th:only-of-type {\n",
       "        vertical-align: middle;\n",
       "    }\n",
       "\n",
       "    .dataframe tbody tr th {\n",
       "        vertical-align: top;\n",
       "    }\n",
       "\n",
       "    .dataframe thead th {\n",
       "        text-align: right;\n",
       "    }\n",
       "</style>\n",
       "<table border=\"1\" class=\"dataframe\">\n",
       "  <thead>\n",
       "    <tr style=\"text-align: right;\">\n",
       "      <th></th>\n",
       "      <th>SatisfactionID</th>\n",
       "      <th>SatisfactionLevel</th>\n",
       "    </tr>\n",
       "  </thead>\n",
       "  <tbody>\n",
       "    <tr>\n",
       "      <th>0</th>\n",
       "      <td>1</td>\n",
       "      <td>Very Dissatisfied</td>\n",
       "    </tr>\n",
       "    <tr>\n",
       "      <th>1</th>\n",
       "      <td>2</td>\n",
       "      <td>Dissatisfied</td>\n",
       "    </tr>\n",
       "    <tr>\n",
       "      <th>2</th>\n",
       "      <td>3</td>\n",
       "      <td>Neutral</td>\n",
       "    </tr>\n",
       "    <tr>\n",
       "      <th>3</th>\n",
       "      <td>4</td>\n",
       "      <td>Satisfied</td>\n",
       "    </tr>\n",
       "    <tr>\n",
       "      <th>4</th>\n",
       "      <td>5</td>\n",
       "      <td>Very Satisfied</td>\n",
       "    </tr>\n",
       "  </tbody>\n",
       "</table>\n",
       "</div>"
      ],
      "text/plain": [
       "   SatisfactionID  SatisfactionLevel\n",
       "0               1  Very Dissatisfied\n",
       "1               2       Dissatisfied\n",
       "2               3            Neutral\n",
       "3               4         Satisfied \n",
       "4               5     Very Satisfied"
      ]
     },
     "execution_count": 585,
     "metadata": {},
     "output_type": "execute_result"
    }
   ],
   "source": [
    "df_satisfy= pd.read_csv(\"HR/SatisfiedLevel.csv\")\n",
    "df_satisfy.head()"
   ]
  },
  {
   "cell_type": "code",
   "execution_count": 587,
   "id": "5f68413a-feb7-453d-854e-de755a200946",
   "metadata": {},
   "outputs": [
    {
     "name": "stdout",
     "output_type": "stream",
     "text": [
      "<class 'pandas.core.frame.DataFrame'>\n",
      "RangeIndex: 5 entries, 0 to 4\n",
      "Data columns (total 2 columns):\n",
      " #   Column             Non-Null Count  Dtype \n",
      "---  ------             --------------  ----- \n",
      " 0   SatisfactionID     5 non-null      int64 \n",
      " 1   SatisfactionLevel  5 non-null      object\n",
      "dtypes: int64(1), object(1)\n",
      "memory usage: 212.0+ bytes\n"
     ]
    }
   ],
   "source": [
    "df_satisfy.info()"
   ]
  },
  {
   "cell_type": "code",
   "execution_count": 589,
   "id": "a02e2cb1-22eb-4f53-8ea1-7820534de70b",
   "metadata": {},
   "outputs": [
    {
     "name": "stdout",
     "output_type": "stream",
     "text": [
      "The table has a shape of: (5, 2)\n"
     ]
    }
   ],
   "source": [
    "print('The table has a shape of:',df_satisfy.shape)"
   ]
  },
  {
   "cell_type": "code",
   "execution_count": 591,
   "id": "301f566d-65b3-4238-9030-ba09fceddb2c",
   "metadata": {},
   "outputs": [
    {
     "name": "stdout",
     "output_type": "stream",
     "text": [
      "No NULL values in this table\n"
     ]
    }
   ],
   "source": [
    "if df_satisfy.isna().sum().sum()== 0:\n",
    "    print ('No NULL values in this table')\n",
    "else:\n",
    "    print('Total number of Null Values is: ',df_satisfy.isna().sum().sum())"
   ]
  },
  {
   "cell_type": "code",
   "execution_count": 593,
   "id": "b8b26710-124e-485f-8e50-a5109ac45e74",
   "metadata": {},
   "outputs": [
    {
     "name": "stdout",
     "output_type": "stream",
     "text": [
      "No DUPLICATED values in this table\n"
     ]
    }
   ],
   "source": [
    "if df_satisfy.duplicated().sum()== 0:\n",
    "    print ('No DUPLICATED values in this table')\n",
    "else:\n",
    "    print('Total number of Duplicated Values is: ',df_satisfy.duplicated().sum())"
   ]
  },
  {
   "cell_type": "code",
   "execution_count": 595,
   "id": "d2f45047-a658-4130-81ec-ad60729047ad",
   "metadata": {},
   "outputs": [
    {
     "name": "stdout",
     "output_type": "stream",
     "text": [
      "The number of UNIQUE values in this table:\n",
      "\n",
      " SatisfactionID       5\n",
      "SatisfactionLevel    5\n",
      "dtype: int64\n"
     ]
    }
   ],
   "source": [
    "print('The number of UNIQUE values in this table:\\n\\n',df_satisfy.nunique())"
   ]
  },
  {
   "cell_type": "code",
   "execution_count": 599,
   "id": "ad015cde-3299-406d-8245-ae9bdc02ece7",
   "metadata": {},
   "outputs": [
    {
     "name": "stdout",
     "output_type": "stream",
     "text": [
      "\"SatisfactionID\" Categories:\n",
      " [1 2 3 4 5]\n",
      "\n",
      "\"SatisfactionLevel\" Categories:\n",
      " ['Very Dissatisfied' 'Dissatisfied' 'Neutral' 'Satisfied '\n",
      " 'Very Satisfied']\n"
     ]
    }
   ],
   "source": [
    "print('\"SatisfactionID\" Categories:\\n',df_satisfy.SatisfactionID.unique())\n",
    "print('\\n\"SatisfactionLevel\" Categories:\\n',df_satisfy.SatisfactionLevel.unique())"
   ]
  },
  {
   "cell_type": "markdown",
   "id": "7c156789-c857-4901-b1fa-03fdaedd358b",
   "metadata": {},
   "source": [
    "<a id='rating'></a>\n",
    "#### ***5. Rating Level Table:***"
   ]
  },
  {
   "cell_type": "code",
   "execution_count": 601,
   "id": "33190efe-a35b-4912-9454-834e23d84720",
   "metadata": {},
   "outputs": [
    {
     "data": {
      "text/html": [
       "<div>\n",
       "<style scoped>\n",
       "    .dataframe tbody tr th:only-of-type {\n",
       "        vertical-align: middle;\n",
       "    }\n",
       "\n",
       "    .dataframe tbody tr th {\n",
       "        vertical-align: top;\n",
       "    }\n",
       "\n",
       "    .dataframe thead th {\n",
       "        text-align: right;\n",
       "    }\n",
       "</style>\n",
       "<table border=\"1\" class=\"dataframe\">\n",
       "  <thead>\n",
       "    <tr style=\"text-align: right;\">\n",
       "      <th></th>\n",
       "      <th>RatingID</th>\n",
       "      <th>RatingLevel</th>\n",
       "    </tr>\n",
       "  </thead>\n",
       "  <tbody>\n",
       "    <tr>\n",
       "      <th>0</th>\n",
       "      <td>1</td>\n",
       "      <td>Unacceptable</td>\n",
       "    </tr>\n",
       "    <tr>\n",
       "      <th>1</th>\n",
       "      <td>2</td>\n",
       "      <td>Needs Improvement</td>\n",
       "    </tr>\n",
       "    <tr>\n",
       "      <th>2</th>\n",
       "      <td>3</td>\n",
       "      <td>Meets Expectation</td>\n",
       "    </tr>\n",
       "    <tr>\n",
       "      <th>3</th>\n",
       "      <td>4</td>\n",
       "      <td>Exceeds Expectation</td>\n",
       "    </tr>\n",
       "    <tr>\n",
       "      <th>4</th>\n",
       "      <td>5</td>\n",
       "      <td>Above and Beyond</td>\n",
       "    </tr>\n",
       "  </tbody>\n",
       "</table>\n",
       "</div>"
      ],
      "text/plain": [
       "   RatingID           RatingLevel\n",
       "0         1          Unacceptable\n",
       "1         2     Needs Improvement\n",
       "2         3     Meets Expectation\n",
       "3         4  Exceeds Expectation \n",
       "4         5      Above and Beyond"
      ]
     },
     "execution_count": 601,
     "metadata": {},
     "output_type": "execute_result"
    }
   ],
   "source": [
    "df_rating= pd.read_csv(\"HR/RatingLevel.csv\")\n",
    "df_rating.head()"
   ]
  },
  {
   "cell_type": "code",
   "execution_count": 603,
   "id": "585db7c2-a829-43d7-8a54-0b155a10f336",
   "metadata": {},
   "outputs": [
    {
     "name": "stdout",
     "output_type": "stream",
     "text": [
      "<class 'pandas.core.frame.DataFrame'>\n",
      "RangeIndex: 5 entries, 0 to 4\n",
      "Data columns (total 2 columns):\n",
      " #   Column       Non-Null Count  Dtype \n",
      "---  ------       --------------  ----- \n",
      " 0   RatingID     5 non-null      int64 \n",
      " 1   RatingLevel  5 non-null      object\n",
      "dtypes: int64(1), object(1)\n",
      "memory usage: 212.0+ bytes\n"
     ]
    }
   ],
   "source": [
    "df_rating.info()"
   ]
  },
  {
   "cell_type": "code",
   "execution_count": 605,
   "id": "7f97e504-5c13-4150-9f8a-ba93db2a6628",
   "metadata": {},
   "outputs": [
    {
     "name": "stdout",
     "output_type": "stream",
     "text": [
      "The table has a shape of: (5, 2)\n"
     ]
    }
   ],
   "source": [
    "print('The table has a shape of:',df_rating.shape)"
   ]
  },
  {
   "cell_type": "code",
   "execution_count": 607,
   "id": "4fd73ea8-944a-4ba1-b5e9-102cdb166ac7",
   "metadata": {},
   "outputs": [
    {
     "name": "stdout",
     "output_type": "stream",
     "text": [
      "No NULL values in this table\n"
     ]
    }
   ],
   "source": [
    "if df_rating.isna().sum().sum()== 0:\n",
    "    print ('No NULL values in this table')\n",
    "else:\n",
    "    print('Total number of Null Values is: ',df_rating.isna().sum().sum())"
   ]
  },
  {
   "cell_type": "code",
   "execution_count": 609,
   "id": "8c4ea033-52e5-494c-826d-c21f65843d02",
   "metadata": {},
   "outputs": [
    {
     "name": "stdout",
     "output_type": "stream",
     "text": [
      "No DUPLICATED values in this table\n"
     ]
    }
   ],
   "source": [
    "if df_rating.duplicated().sum()== 0:\n",
    "    print ('No DUPLICATED values in this table')\n",
    "else:\n",
    "    print('Total number of Duplicated Values is: ',df_rating.duplicated().sum())"
   ]
  },
  {
   "cell_type": "code",
   "execution_count": 613,
   "id": "28162518-0167-49a8-9a72-3762fc940ccd",
   "metadata": {},
   "outputs": [
    {
     "name": "stdout",
     "output_type": "stream",
     "text": [
      "The number of UNIQUE values in this table:\n",
      "\n",
      " RatingID       5\n",
      "RatingLevel    5\n",
      "dtype: int64\n"
     ]
    }
   ],
   "source": [
    "print('The number of UNIQUE values in this table:\\n\\n',df_rating.nunique())"
   ]
  },
  {
   "cell_type": "code",
   "execution_count": 615,
   "id": "4e84e873-6217-459c-9257-c92fb6710051",
   "metadata": {},
   "outputs": [
    {
     "name": "stdout",
     "output_type": "stream",
     "text": [
      "\"RatingID\" Categories:\n",
      " [1 2 3 4 5]\n",
      "\n",
      "\"RatingLevel\" Categories:\n",
      " ['Unacceptable' 'Needs Improvement' 'Meets Expectation'\n",
      " 'Exceeds Expectation ' 'Above and Beyond']\n"
     ]
    }
   ],
   "source": [
    "print('\"RatingID\" Categories:\\n',df_rating.RatingID.unique())\n",
    "print('\\n\"RatingLevel\" Categories:\\n',df_rating.RatingLevel.unique())"
   ]
  },
  {
   "cell_type": "markdown",
   "id": "a816cecf-e36b-42e1-a19e-4a455da07e83",
   "metadata": {},
   "source": [
    "<a id='clean'></a>\n",
    "## Data Cleaning:"
   ]
  },
  {
   "cell_type": "code",
   "execution_count": null,
   "id": "28ef6b77-7ae4-422e-be9d-47220b7603de",
   "metadata": {},
   "outputs": [],
   "source": []
  },
  {
   "cell_type": "code",
   "execution_count": null,
   "id": "51ddf800-c734-4847-b701-013d375bc427",
   "metadata": {},
   "outputs": [],
   "source": []
  },
  {
   "cell_type": "markdown",
   "id": "ce85a094-3b66-4959-a497-ff9ea217f73a",
   "metadata": {},
   "source": [
    "<a id='c_emp'></a>\n",
    "#### ***1. Employee Table:***"
   ]
  },
  {
   "cell_type": "code",
   "execution_count": 617,
   "id": "95e3ca8a-5df6-437f-9210-13dde0184b57",
   "metadata": {},
   "outputs": [
    {
     "data": {
      "text/html": [
       "<div>\n",
       "<style scoped>\n",
       "    .dataframe tbody tr th:only-of-type {\n",
       "        vertical-align: middle;\n",
       "    }\n",
       "\n",
       "    .dataframe tbody tr th {\n",
       "        vertical-align: top;\n",
       "    }\n",
       "\n",
       "    .dataframe thead th {\n",
       "        text-align: right;\n",
       "    }\n",
       "</style>\n",
       "<table border=\"1\" class=\"dataframe\">\n",
       "  <thead>\n",
       "    <tr style=\"text-align: right;\">\n",
       "      <th></th>\n",
       "      <th>EmployeeID</th>\n",
       "      <th>FirstName</th>\n",
       "      <th>LastName</th>\n",
       "      <th>Gender</th>\n",
       "      <th>Age</th>\n",
       "      <th>BusinessTravel</th>\n",
       "      <th>Department</th>\n",
       "      <th>DistanceFromHome (KM)</th>\n",
       "      <th>State</th>\n",
       "      <th>Ethnicity</th>\n",
       "      <th>...</th>\n",
       "      <th>MaritalStatus</th>\n",
       "      <th>Salary</th>\n",
       "      <th>StockOptionLevel</th>\n",
       "      <th>OverTime</th>\n",
       "      <th>HireDate</th>\n",
       "      <th>Attrition</th>\n",
       "      <th>YearsAtCompany</th>\n",
       "      <th>YearsInMostRecentRole</th>\n",
       "      <th>YearsSinceLastPromotion</th>\n",
       "      <th>YearsWithCurrManager</th>\n",
       "    </tr>\n",
       "  </thead>\n",
       "  <tbody>\n",
       "    <tr>\n",
       "      <th>0</th>\n",
       "      <td>3012-1A41</td>\n",
       "      <td>Leonelle</td>\n",
       "      <td>Simco</td>\n",
       "      <td>Female</td>\n",
       "      <td>30</td>\n",
       "      <td>Some Travel</td>\n",
       "      <td>Sales</td>\n",
       "      <td>27</td>\n",
       "      <td>IL</td>\n",
       "      <td>White</td>\n",
       "      <td>...</td>\n",
       "      <td>Divorced</td>\n",
       "      <td>102059</td>\n",
       "      <td>1</td>\n",
       "      <td>No</td>\n",
       "      <td>2012-01-03</td>\n",
       "      <td>No</td>\n",
       "      <td>10</td>\n",
       "      <td>4</td>\n",
       "      <td>9</td>\n",
       "      <td>7</td>\n",
       "    </tr>\n",
       "    <tr>\n",
       "      <th>1</th>\n",
       "      <td>CBCB-9C9D</td>\n",
       "      <td>Leonerd</td>\n",
       "      <td>Aland</td>\n",
       "      <td>Male</td>\n",
       "      <td>38</td>\n",
       "      <td>Some Travel</td>\n",
       "      <td>Sales</td>\n",
       "      <td>23</td>\n",
       "      <td>CA</td>\n",
       "      <td>White</td>\n",
       "      <td>...</td>\n",
       "      <td>Single</td>\n",
       "      <td>157718</td>\n",
       "      <td>0</td>\n",
       "      <td>Yes</td>\n",
       "      <td>2012-01-04</td>\n",
       "      <td>No</td>\n",
       "      <td>10</td>\n",
       "      <td>6</td>\n",
       "      <td>10</td>\n",
       "      <td>0</td>\n",
       "    </tr>\n",
       "    <tr>\n",
       "      <th>2</th>\n",
       "      <td>95D7-1CE9</td>\n",
       "      <td>Ahmed</td>\n",
       "      <td>Sykes</td>\n",
       "      <td>Male</td>\n",
       "      <td>43</td>\n",
       "      <td>Some Travel</td>\n",
       "      <td>Human Resources</td>\n",
       "      <td>29</td>\n",
       "      <td>CA</td>\n",
       "      <td>Asian or Asian American</td>\n",
       "      <td>...</td>\n",
       "      <td>Married</td>\n",
       "      <td>309964</td>\n",
       "      <td>1</td>\n",
       "      <td>No</td>\n",
       "      <td>2012-01-04</td>\n",
       "      <td>No</td>\n",
       "      <td>10</td>\n",
       "      <td>6</td>\n",
       "      <td>10</td>\n",
       "      <td>8</td>\n",
       "    </tr>\n",
       "    <tr>\n",
       "      <th>3</th>\n",
       "      <td>47A0-559B</td>\n",
       "      <td>Ermentrude</td>\n",
       "      <td>Berrie</td>\n",
       "      <td>Non-Binary</td>\n",
       "      <td>39</td>\n",
       "      <td>Some Travel</td>\n",
       "      <td>Technology</td>\n",
       "      <td>12</td>\n",
       "      <td>IL</td>\n",
       "      <td>White</td>\n",
       "      <td>...</td>\n",
       "      <td>Married</td>\n",
       "      <td>293132</td>\n",
       "      <td>0</td>\n",
       "      <td>No</td>\n",
       "      <td>2012-01-05</td>\n",
       "      <td>No</td>\n",
       "      <td>10</td>\n",
       "      <td>10</td>\n",
       "      <td>10</td>\n",
       "      <td>0</td>\n",
       "    </tr>\n",
       "    <tr>\n",
       "      <th>4</th>\n",
       "      <td>42CC-040A</td>\n",
       "      <td>Stace</td>\n",
       "      <td>Savege</td>\n",
       "      <td>Female</td>\n",
       "      <td>29</td>\n",
       "      <td>Some Travel</td>\n",
       "      <td>Human Resources</td>\n",
       "      <td>29</td>\n",
       "      <td>CA</td>\n",
       "      <td>White</td>\n",
       "      <td>...</td>\n",
       "      <td>Single</td>\n",
       "      <td>49606</td>\n",
       "      <td>0</td>\n",
       "      <td>No</td>\n",
       "      <td>2012-01-05</td>\n",
       "      <td>Yes</td>\n",
       "      <td>6</td>\n",
       "      <td>1</td>\n",
       "      <td>1</td>\n",
       "      <td>6</td>\n",
       "    </tr>\n",
       "  </tbody>\n",
       "</table>\n",
       "<p>5 rows × 23 columns</p>\n",
       "</div>"
      ],
      "text/plain": [
       "  EmployeeID   FirstName LastName      Gender  Age BusinessTravel  \\\n",
       "0  3012-1A41    Leonelle    Simco      Female   30    Some Travel   \n",
       "1  CBCB-9C9D     Leonerd    Aland        Male   38    Some Travel   \n",
       "2  95D7-1CE9       Ahmed    Sykes        Male   43    Some Travel   \n",
       "3  47A0-559B  Ermentrude   Berrie  Non-Binary   39    Some Travel   \n",
       "4  42CC-040A       Stace   Savege      Female   29    Some Travel   \n",
       "\n",
       "        Department  DistanceFromHome (KM) State                Ethnicity  ...  \\\n",
       "0            Sales                     27    IL                    White  ...   \n",
       "1            Sales                     23    CA                    White  ...   \n",
       "2  Human Resources                     29    CA  Asian or Asian American  ...   \n",
       "3       Technology                     12    IL                    White  ...   \n",
       "4  Human Resources                     29    CA                    White  ...   \n",
       "\n",
       "   MaritalStatus  Salary StockOptionLevel OverTime    HireDate  Attrition  \\\n",
       "0       Divorced  102059                1       No  2012-01-03         No   \n",
       "1         Single  157718                0      Yes  2012-01-04         No   \n",
       "2        Married  309964                1       No  2012-01-04         No   \n",
       "3        Married  293132                0       No  2012-01-05         No   \n",
       "4         Single   49606                0       No  2012-01-05        Yes   \n",
       "\n",
       "  YearsAtCompany YearsInMostRecentRole YearsSinceLastPromotion  \\\n",
       "0             10                     4                       9   \n",
       "1             10                     6                      10   \n",
       "2             10                     6                      10   \n",
       "3             10                    10                      10   \n",
       "4              6                     1                       1   \n",
       "\n",
       "   YearsWithCurrManager  \n",
       "0                     7  \n",
       "1                     0  \n",
       "2                     8  \n",
       "3                     0  \n",
       "4                     6  \n",
       "\n",
       "[5 rows x 23 columns]"
      ]
     },
     "execution_count": 617,
     "metadata": {},
     "output_type": "execute_result"
    }
   ],
   "source": [
    "df_emp.head()"
   ]
  },
  {
   "cell_type": "markdown",
   "id": "20b8b416-b82d-4408-b320-021075865e8d",
   "metadata": {},
   "source": [
    "##### _1. Renaming Columns to be handled easily as follows:_\n",
    "- EmployeeID to ***Emp_ID***\n",
    "- FirstName to ***F_Name***\n",
    "- LastName to ***L_Name***\n",
    "- BusinessTravel to ***Business_Travel***\n",
    "- DistanceFromHome (KM) to ***Comute_Distance***\n",
    "- Ethnicity to ***Race***\n",
    "- Education to ***Edu_level_ID***\n",
    "- EducationField to ***Major***\n",
    "- JobRole to ***Position***\n",
    "- MaritalStatus to ***Marital_Status***\n",
    "- StockOptionLevel to ***Equity_Grant***\n",
    "- OverTime to ***Overtime***\n",
    "- HireDate to ***Hire_Date***\n",
    "- Attrition to ***Turnover***\n",
    "- YearsAtCompany to  ***Tenure***\n",
    "- YearsInMostRecentRole to ***Role_Tenure***\n",
    "- YearsSinceLastPromotion to ***Promotion_Gap***\n",
    "- YearsWithCurrManager to ***Manager_Tenure***"
   ]
  },
  {
   "cell_type": "code",
   "execution_count": 671,
   "id": "ae3057c2-5837-4890-9a0e-53814678c1a7",
   "metadata": {},
   "outputs": [
    {
     "data": {
      "text/html": [
       "<div>\n",
       "<style scoped>\n",
       "    .dataframe tbody tr th:only-of-type {\n",
       "        vertical-align: middle;\n",
       "    }\n",
       "\n",
       "    .dataframe tbody tr th {\n",
       "        vertical-align: top;\n",
       "    }\n",
       "\n",
       "    .dataframe thead th {\n",
       "        text-align: right;\n",
       "    }\n",
       "</style>\n",
       "<table border=\"1\" class=\"dataframe\">\n",
       "  <thead>\n",
       "    <tr style=\"text-align: right;\">\n",
       "      <th></th>\n",
       "      <th>Emp_ID</th>\n",
       "      <th>F_Name</th>\n",
       "      <th>L_Name</th>\n",
       "      <th>Gender</th>\n",
       "      <th>Age</th>\n",
       "      <th>Business_Travel</th>\n",
       "      <th>Department</th>\n",
       "      <th>Comute_Distance</th>\n",
       "      <th>State</th>\n",
       "      <th>Race</th>\n",
       "      <th>...</th>\n",
       "      <th>Marital_Status</th>\n",
       "      <th>Salary</th>\n",
       "      <th>Equity_Grant</th>\n",
       "      <th>Overtime</th>\n",
       "      <th>Hire_Date</th>\n",
       "      <th>Turnover</th>\n",
       "      <th>Tenure</th>\n",
       "      <th>Role_Tenure</th>\n",
       "      <th>Promotion_Gap</th>\n",
       "      <th>Manager_Tenure</th>\n",
       "    </tr>\n",
       "  </thead>\n",
       "  <tbody>\n",
       "    <tr>\n",
       "      <th>0</th>\n",
       "      <td>3012-1A41</td>\n",
       "      <td>Leonelle</td>\n",
       "      <td>Simco</td>\n",
       "      <td>Female</td>\n",
       "      <td>30</td>\n",
       "      <td>Some Travel</td>\n",
       "      <td>Sales</td>\n",
       "      <td>27</td>\n",
       "      <td>IL</td>\n",
       "      <td>White</td>\n",
       "      <td>...</td>\n",
       "      <td>Divorced</td>\n",
       "      <td>102059</td>\n",
       "      <td>1</td>\n",
       "      <td>No</td>\n",
       "      <td>2012-01-03</td>\n",
       "      <td>No</td>\n",
       "      <td>10</td>\n",
       "      <td>4</td>\n",
       "      <td>9</td>\n",
       "      <td>7</td>\n",
       "    </tr>\n",
       "  </tbody>\n",
       "</table>\n",
       "<p>1 rows × 23 columns</p>\n",
       "</div>"
      ],
      "text/plain": [
       "      Emp_ID    F_Name L_Name  Gender  Age Business_Travel Department  \\\n",
       "0  3012-1A41  Leonelle  Simco  Female   30     Some Travel      Sales   \n",
       "\n",
       "   Comute_Distance State   Race  ...  Marital_Status  Salary Equity_Grant  \\\n",
       "0               27    IL  White  ...        Divorced  102059            1   \n",
       "\n",
       "  Overtime   Hire_Date  Turnover Tenure Role_Tenure Promotion_Gap  \\\n",
       "0       No  2012-01-03        No     10           4             9   \n",
       "\n",
       "   Manager_Tenure  \n",
       "0               7  \n",
       "\n",
       "[1 rows x 23 columns]"
      ]
     },
     "execution_count": 671,
     "metadata": {},
     "output_type": "execute_result"
    }
   ],
   "source": [
    "# Renaming the dataset columns:\n",
    "df_emp = df_emp.rename(columns = {\"EmployeeID\":\"Emp_ID\", \"FirstName\":\"F_Name\", 'LastName':\"L_Name\",\"BusinessTravel\":\"Business_Travel\",\n",
    "                                  \"DistanceFromHome (KM)\":\"Comute_Distance\",\"Ethnicity\":\"Race\", \"Education\":\"Edu_level_ID\", \"EducationField\":\"Major\",\n",
    "                                  \"JobRole\":\"Position\", \"MaritalStatus\":\"Marital_Status\", \"StockOptionLevel\":\"Equity_Grant\",\"OverTime\":\"Overtime\", \n",
    "                                  \"HireDate\":\"Hire_Date\",\"Attrition\":\"Turnover\", \"YearsAtCompany\":\"Tenure\", \"YearsInMostRecentRole\": \"Role_Tenure\",\n",
    "                                  \"YearsSinceLastPromotion\":\"Promotion_Gap\", \"YearsWithCurrManager\":\"Manager_Tenure\"})\n",
    "df_emp.head(1)"
   ]
  },
  {
   "cell_type": "markdown",
   "id": "d7daa874-9ead-4b1c-964c-8bdf222d0ffc",
   "metadata": {},
   "source": [
    "#### _2. Changing the Hire date to Date Data Type:_"
   ]
  },
  {
   "cell_type": "code",
   "execution_count": 688,
   "id": "acfe8c0d-81a9-4bd6-a3c9-d3a04128153b",
   "metadata": {},
   "outputs": [
    {
     "data": {
      "text/plain": [
       "0    2012-01-03\n",
       "1    2012-01-04\n",
       "2    2012-01-04\n",
       "3    2012-01-05\n",
       "4    2012-01-05\n",
       "Name: Hire_Date, dtype: object"
      ]
     },
     "execution_count": 688,
     "metadata": {},
     "output_type": "execute_result"
    }
   ],
   "source": [
    "df_emp['Hire_Date'] = pd.to_datetime(df_emp['Hire_Date']).dt.date\n",
    "df_emp.Hire_Date.head()"
   ]
  },
  {
   "cell_type": "code",
   "execution_count": null,
   "id": "7756a401-789a-445d-bd8a-e5bdac6dd03d",
   "metadata": {},
   "outputs": [],
   "source": []
  },
  {
   "cell_type": "markdown",
   "id": "0363606d-8477-41d1-a819-244926d10bc0",
   "metadata": {},
   "source": [
    "#### _3. Handling the extra space & incorrect spelling in the following:_\n",
    "- ***Business_Travel*** column: Editing _\"No Travel \"_, _\"Frequent Traveller\"_ values.\n",
    "- ***Race*** column: Editing _'Other '_ value.\n",
    "- ***Major*** column: Editing _'Marketing '_ value.\n"
   ]
  },
  {
   "cell_type": "code",
   "execution_count": 725,
   "id": "79d10a8d-4680-4a78-abaa-b044206dd4c7",
   "metadata": {},
   "outputs": [
    {
     "name": "stdout",
     "output_type": "stream",
     "text": [
      "The updated \"Business_Travel\" Categories are as follows:\n",
      "\n",
      "    ['Some Travel' 'No Travel' 'Frequent Traveler']\n"
     ]
    }
   ],
   "source": [
    "# 1- Business_Travel Column:\n",
    "df_emp.Business_Travel= np.where(df_emp.Business_Travel== \"No Travel \",\"No Travel\",df_emp.Business_Travel)\n",
    "df_emp.Business_Travel= np.where(df_emp.Business_Travel== \"Frequent Traveller\",\"Frequent Traveler\",df_emp.Business_Travel)\n",
    "print('The updated \"Business_Travel\" Categories are as follows:\\n\\n   ',df_emp.Business_Travel.unique())"
   ]
  },
  {
   "cell_type": "code",
   "execution_count": 727,
   "id": "9736aeae-56f8-4ce8-8567-388d7a3fe400",
   "metadata": {},
   "outputs": [
    {
     "name": "stdout",
     "output_type": "stream",
     "text": [
      "The updated \"Race\" Categories are as follows:\n",
      "\n",
      " ['White' 'Asian or Asian American' 'Mixed or multiple ethnic groups'\n",
      " 'Black or African American' 'Native Hawaiian ' 'Other'\n",
      " 'American Indian or Alaska Native']\n"
     ]
    }
   ],
   "source": [
    "# 2- Race Column:\n",
    "df_emp.Race= np.where(df_emp.Race== 'Other ','Other',df_emp.Race)\n",
    "print('The updated \"Race\" Categories are as follows:\\n\\n',df_emp.Race.unique())"
   ]
  },
  {
   "cell_type": "code",
   "execution_count": 729,
   "id": "7537de5e-5d8e-44fd-b2ab-a822387c5e42",
   "metadata": {},
   "outputs": [
    {
     "name": "stdout",
     "output_type": "stream",
     "text": [
      "The updated \"Major\" Categories are as follows:\n",
      "\n",
      " ['Marketing' 'Computer Science' 'Technical Degree' 'Information Systems'\n",
      " 'Other' 'Economics' 'Human Resources' 'Business Studies']\n"
     ]
    }
   ],
   "source": [
    "# 3- Major Column:\n",
    "df_emp.Major= np.where(df_emp.Major== 'Marketing ','Marketing',df_emp.Major)\n",
    "print('The updated \"Major\" Categories are as follows:\\n\\n',df_emp.Major.unique())"
   ]
  },
  {
   "cell_type": "markdown",
   "id": "ecdda24d-e7fe-4632-91d4-f9a0478f4ba9",
   "metadata": {},
   "source": [
    "#### _4. Arranging columns:_"
   ]
  },
  {
   "cell_type": "code",
   "execution_count": 734,
   "id": "955b71e7-2199-443c-b75a-0599f1134d77",
   "metadata": {},
   "outputs": [
    {
     "name": "stdout",
     "output_type": "stream",
     "text": [
      "<class 'pandas.core.frame.DataFrame'>\n",
      "RangeIndex: 1470 entries, 0 to 1469\n",
      "Data columns (total 23 columns):\n",
      " #   Column           Non-Null Count  Dtype \n",
      "---  ------           --------------  ----- \n",
      " 0   Emp_ID           1470 non-null   object\n",
      " 1   F_Name           1470 non-null   object\n",
      " 2   L_Name           1470 non-null   object\n",
      " 3   Gender           1470 non-null   object\n",
      " 4   Age              1470 non-null   int64 \n",
      " 5   Business_Travel  1470 non-null   object\n",
      " 6   Department       1470 non-null   object\n",
      " 7   Comute_Distance  1470 non-null   int64 \n",
      " 8   State            1470 non-null   object\n",
      " 9   Race             1470 non-null   object\n",
      " 10  Edu_level_ID     1470 non-null   int64 \n",
      " 11  Major            1470 non-null   object\n",
      " 12  Position         1470 non-null   object\n",
      " 13  Marital_Status   1470 non-null   object\n",
      " 14  Salary           1470 non-null   int64 \n",
      " 15  Equity_Grant     1470 non-null   int64 \n",
      " 16  Overtime         1470 non-null   object\n",
      " 17  Hire_Date        1470 non-null   object\n",
      " 18  Turnover         1470 non-null   object\n",
      " 19  Tenure           1470 non-null   int64 \n",
      " 20  Role_Tenure      1470 non-null   int64 \n",
      " 21  Promotion_Gap    1470 non-null   int64 \n",
      " 22  Manager_Tenure   1470 non-null   int64 \n",
      "dtypes: int64(9), object(14)\n",
      "memory usage: 264.3+ KB\n"
     ]
    }
   ],
   "source": [
    "df_emp.info()"
   ]
  },
  {
   "cell_type": "code",
   "execution_count": 786,
   "id": "fe4872ff-dce1-4bd1-b38b-a2c15afcc755",
   "metadata": {},
   "outputs": [],
   "source": [
    "# relocating the \"age_stages\" column to be in the 6th column:\n",
    "df_emp.insert(5,'Race',df_emp.pop('Race'))\n",
    "df_emp.insert(6,'Marital_Status',df_emp.pop('Marital_Status'))\n",
    "df_emp.insert(7,'Edu_level_ID',df_emp.pop('Edu_level_ID'))\n",
    "df_emp.insert(8,'Major',df_emp.pop('Major'))\n",
    "df_emp.insert(9,'State',df_emp.pop('State'))\n",
    "df_emp.insert(10,'Comute_Distance',df_emp.pop('Comute_Distance'))\n",
    "df_emp.insert(11,'Position',df_emp.pop('Position'))\n",
    "df_emp.insert(12,'Department',df_emp.pop('Department'))\n",
    "df_emp.insert(13,'Salary',df_emp.pop('Salary'))\n",
    "df_emp.insert(14,'Hire_Date',df_emp.pop('Hire_Date'))\n",
    "df_emp.insert(15,'Tenure',df_emp.pop('Tenure'))\n",
    "df_emp.insert(16,'Role_Tenure',df_emp.pop('Role_Tenure'))\n",
    "df_emp.insert(17,'Promotion_Gap',df_emp.pop('Promotion_Gap'))\n",
    "df_emp.insert(18,'Manager_Tenure',df_emp.pop('Manager_Tenure'))\n",
    "df_emp.insert(19,'Overtime',df_emp.pop('Overtime'))"
   ]
  },
  {
   "cell_type": "code",
   "execution_count": 788,
   "id": "f6955c7c-5d75-4f49-968a-29be73083aec",
   "metadata": {},
   "outputs": [
    {
     "name": "stdout",
     "output_type": "stream",
     "text": [
      "<class 'pandas.core.frame.DataFrame'>\n",
      "RangeIndex: 1470 entries, 0 to 1469\n",
      "Data columns (total 23 columns):\n",
      " #   Column           Non-Null Count  Dtype \n",
      "---  ------           --------------  ----- \n",
      " 0   Emp_ID           1470 non-null   object\n",
      " 1   F_Name           1470 non-null   object\n",
      " 2   L_Name           1470 non-null   object\n",
      " 3   Gender           1470 non-null   object\n",
      " 4   Age              1470 non-null   int64 \n",
      " 5   Race             1470 non-null   object\n",
      " 6   Marital_Status   1470 non-null   object\n",
      " 7   Edu_level_ID     1470 non-null   int64 \n",
      " 8   Major            1470 non-null   object\n",
      " 9   State            1470 non-null   object\n",
      " 10  Comute_Distance  1470 non-null   int64 \n",
      " 11  Position         1470 non-null   object\n",
      " 12  Department       1470 non-null   object\n",
      " 13  Salary           1470 non-null   int64 \n",
      " 14  Hire_Date        1470 non-null   object\n",
      " 15  Tenure           1470 non-null   int64 \n",
      " 16  Role_Tenure      1470 non-null   int64 \n",
      " 17  Promotion_Gap    1470 non-null   int64 \n",
      " 18  Manager_Tenure   1470 non-null   int64 \n",
      " 19  Overtime         1470 non-null   object\n",
      " 20  Business_Travel  1470 non-null   object\n",
      " 21  Equity_Grant     1470 non-null   int64 \n",
      " 22  Turnover         1470 non-null   object\n",
      "dtypes: int64(9), object(14)\n",
      "memory usage: 264.3+ KB\n"
     ]
    }
   ],
   "source": [
    "df_emp.info()"
   ]
  },
  {
   "cell_type": "code",
   "execution_count": null,
   "id": "e62b07d1-bdb2-496d-8f49-111d29693b76",
   "metadata": {},
   "outputs": [],
   "source": []
  },
  {
   "cell_type": "code",
   "execution_count": null,
   "id": "936979a8-e22c-4582-9fb9-662b22dc78d2",
   "metadata": {},
   "outputs": [],
   "source": []
  },
  {
   "cell_type": "code",
   "execution_count": null,
   "id": "99d404eb-f38f-4a37-9a55-a0a9b0072746",
   "metadata": {},
   "outputs": [],
   "source": []
  },
  {
   "cell_type": "markdown",
   "id": "5e86c9e7-526c-410b-8540-4e6091c12bb9",
   "metadata": {},
   "source": [
    "<a id='c_edu'></a>\n",
    "#### ***2. Educational Level Table:***"
   ]
  },
  {
   "cell_type": "code",
   "execution_count": null,
   "id": "46b50beb-566f-40aa-b0f1-eab2e1246711",
   "metadata": {},
   "outputs": [],
   "source": []
  },
  {
   "cell_type": "markdown",
   "id": "fd767aef-91cb-4909-a134-8770438a416c",
   "metadata": {},
   "source": [
    "<a id='c_perform'></a>\n",
    "#### ***3. Performance Rating Table:***"
   ]
  },
  {
   "cell_type": "code",
   "execution_count": null,
   "id": "cde2a86a-a0d1-4013-a499-3394fd0269ad",
   "metadata": {},
   "outputs": [],
   "source": []
  },
  {
   "cell_type": "code",
   "execution_count": 471,
   "id": "58812249-7206-4c3a-9ce6-8b4b8d35a29d",
   "metadata": {},
   "outputs": [],
   "source": [
    "#df_performance['ReviewDate'] = pd.to_datetime(df_performance['ReviewDate']).dt.date"
   ]
  },
  {
   "cell_type": "markdown",
   "id": "f9c5555a-6ada-4cab-a4d4-c069642a65a1",
   "metadata": {},
   "source": [
    "<a id='c_satis'></a>\n",
    "#### ***4. Satisfied Level Table:***"
   ]
  },
  {
   "cell_type": "code",
   "execution_count": null,
   "id": "19cd805a-d983-4339-98c7-3deda26075e5",
   "metadata": {},
   "outputs": [],
   "source": []
  },
  {
   "cell_type": "markdown",
   "id": "8767a8ec-f74e-475e-8353-2c309b683522",
   "metadata": {},
   "source": [
    "<a id='c_rating'></a>\n",
    "#### ***5. Rating Table:***"
   ]
  },
  {
   "cell_type": "code",
   "execution_count": null,
   "id": "fcf1ee23-b044-41bf-aefe-9c61beb46f0f",
   "metadata": {},
   "outputs": [],
   "source": []
  },
  {
   "cell_type": "code",
   "execution_count": null,
   "id": "3310697f-4b29-4336-9c0c-f68fa6bd81b3",
   "metadata": {},
   "outputs": [],
   "source": []
  },
  {
   "cell_type": "code",
   "execution_count": null,
   "id": "ce27f094-05a6-4f33-b096-0a28848ab722",
   "metadata": {},
   "outputs": [],
   "source": []
  },
  {
   "cell_type": "code",
   "execution_count": null,
   "id": "abe0aba8-04c7-4925-83d4-8e1873c87668",
   "metadata": {},
   "outputs": [],
   "source": []
  },
  {
   "cell_type": "code",
   "execution_count": null,
   "id": "c1ccb56f-c3d5-4f28-8ed7-8b222f834fc4",
   "metadata": {},
   "outputs": [],
   "source": []
  },
  {
   "cell_type": "code",
   "execution_count": null,
   "id": "82ff9767-0480-4796-b645-5c50e72f2491",
   "metadata": {},
   "outputs": [],
   "source": []
  },
  {
   "cell_type": "code",
   "execution_count": 281,
   "id": "fe10a2e5-d5df-48b3-a92b-25640528e003",
   "metadata": {},
   "outputs": [
    {
     "name": "stdout",
     "output_type": "stream",
     "text": [
      "Database 'Test' created successfully.\n"
     ]
    }
   ],
   "source": [
    "# Define the connection parameters\n",
    "server = 'HEND\\SQLEXPRESS'  # SQL Server name or IP\n",
    "database_name = 'Test'  # Name of the new database\n",
    "\n",
    "# Establish a connection to the SQL Server using Windows Authentication and enabling autocommit\n",
    "driver = 'ODBC Driver 17 for SQL Server'\n",
    "connection_string = f'DRIVER={driver};SERVER={server};Trusted_Connection=yes;'\n",
    "connection = pyodbc.connect(connection_string, autocommit=True)  # Enable autocommit\n",
    "\n",
    "# Create a new cursor\n",
    "cursor = connection.cursor()\n",
    "\n",
    "# SQL command to create a new database\n",
    "create_db_query = f\"CREATE DATABASE {database_name}\"\n",
    "\n",
    "try:\n",
    "    # Execute the SQL command\n",
    "    cursor.execute(create_db_query)\n",
    "    print(f\"Database '{database_name}' created successfully.\")\n",
    "except:\n",
    "    print(\"The database is already created\")\n",
    "\n",
    "# Close the cursor and connection\n",
    "cursor.close()\n",
    "connection.close()"
   ]
  },
  {
   "cell_type": "code",
   "execution_count": 273,
   "id": "f2f94034-4b42-4f06-8db5-66a2221ea088",
   "metadata": {},
   "outputs": [],
   "source": [
    "connect_db= f'mssql://@{server}/{database_name}?driver={driver}'\n",
    "engine = create_engine(connect_db)\n",
    "con_db= engine.connect()"
   ]
  },
  {
   "cell_type": "code",
   "execution_count": 275,
   "id": "bf674f55-1912-4411-b07d-5acaecc321c8",
   "metadata": {},
   "outputs": [
    {
     "data": {
      "text/plain": [
       "-1"
      ]
     },
     "execution_count": 275,
     "metadata": {},
     "output_type": "execute_result"
    }
   ],
   "source": [
    "df_performance.to_sql('performance', engine, index=False)"
   ]
  },
  {
   "cell_type": "code",
   "execution_count": 277,
   "id": "7b670c92-9457-45ba-bb49-fd797dddf36c",
   "metadata": {},
   "outputs": [
    {
     "data": {
      "text/plain": [
       "-1"
      ]
     },
     "execution_count": 277,
     "metadata": {},
     "output_type": "execute_result"
    }
   ],
   "source": [
    "df_satisfy.to_sql('satisfaction', engine, index=False)"
   ]
  },
  {
   "cell_type": "code",
   "execution_count": 279,
   "id": "f729cadc-ee69-4678-8a4e-c0ec788102f6",
   "metadata": {},
   "outputs": [
    {
     "data": {
      "text/plain": [
       "-1"
      ]
     },
     "execution_count": 279,
     "metadata": {},
     "output_type": "execute_result"
    }
   ],
   "source": [
    "df_rating.to_sql('rating', engine, index=False)"
   ]
  },
  {
   "cell_type": "code",
   "execution_count": null,
   "id": "8cf0b652-7b6c-46d5-897d-f740ab85a63e",
   "metadata": {},
   "outputs": [],
   "source": []
  }
 ],
 "metadata": {
  "kernelspec": {
   "display_name": "Python 3 (ipykernel)",
   "language": "python",
   "name": "python3"
  },
  "language_info": {
   "codemirror_mode": {
    "name": "ipython",
    "version": 3
   },
   "file_extension": ".py",
   "mimetype": "text/x-python",
   "name": "python",
   "nbconvert_exporter": "python",
   "pygments_lexer": "ipython3",
   "version": "3.11.4"
  }
 },
 "nbformat": 4,
 "nbformat_minor": 5
}
